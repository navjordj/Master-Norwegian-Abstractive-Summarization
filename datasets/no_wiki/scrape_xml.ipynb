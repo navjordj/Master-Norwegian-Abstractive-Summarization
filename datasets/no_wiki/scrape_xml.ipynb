{
 "cells": [
  {
   "attachments": {},
   "cell_type": "markdown",
   "metadata": {},
   "source": [
    "Collects redirects from the xml dump directly, further scraping from the xml dump is not needed.\n",
    "As The scrape_wiki.py and scrape_nowiki_1.ipynb does the job of filling out the data fields of an adequate amount of wikipedia pages."
   ]
  },
  {
   "cell_type": "code",
   "execution_count": 1,
   "metadata": {},
   "outputs": [],
   "source": [
    "import tarfile\n",
    "import glob\n",
    "import os\n",
    "\n",
    "import xml.etree.ElementTree as etree\n",
    "import codecs\n",
    "import csv\n",
    "import time\n",
    "import os\n",
    "\n",
    "import pandas as pd\n"
   ]
  },
  {
   "cell_type": "code",
   "execution_count": 2,
   "metadata": {},
   "outputs": [],
   "source": [
    "def extract_from_xml(xml_tree):\n",
    "    article = \"\"\n",
    "    title = \"\"\n",
    "    url = \"\"\n",
    "    date = \"\"\n",
    "    classes = \"\"\n",
    "\n",
    "    div_elms = xml_tree.findall(\"*//div\")\n",
    "    for elm in div_elms:\n",
    "        div_type = elm.attrib.get(\"type\")\n",
    "        if div_type == \"ingress\":\n",
    "            ingress = elm.text.strip() if elm.text else None\n",
    "        elif div_type == \"text\":\n",
    "            sentences = elm.findall(\"p\")\n",
    "            article += \" \".join(sentence.text.strip() for sentence in sentences)\n",
    "        elif div_type == \"title\" and elm.attrib.get(\"level\") == \"1\":\n",
    "            title = elm.text.strip()\n",
    "\n",
    "    if not article or not ingress:\n",
    "        return None\n",
    "\n",
    "    attr_elms = xml_tree.findall(\"*//attribute\")\n",
    "    for elm in attr_elms:\n",
    "        attr_name = elm.attrib.get(\"name\")\n",
    "        if attr_name == \"url\":\n",
    "            url = elm.attrib.get(\"value\")\n",
    "        elif attr_name == \"date\":\n",
    "            date = elm.attrib.get(\"value\")\n",
    "        elif attr_name == \"class1\":\n",
    "            classes = elm.attrib.get(\"value\")\n",
    "\n",
    "\n",
    "    return {\"title\": title, \"url\": url, \"published\": date, \"classes\": classes, \"article\": article, \"ingress\": ingress}\n"
   ]
  },
  {
   "cell_type": "code",
   "execution_count": 3,
   "metadata": {},
   "outputs": [],
   "source": [
    "PATH_WIKI_XML = '.'\n",
    "FILENAME_WIKI = 'nowiki-20230120-pages-articles.xml'\n",
    "FILENAME_ARTICLES = 'articles1.csv'\n",
    "FILENAME_REDIRECT = 'articles_redirect1.csv'\n",
    "FILENAME_TEMPLATE = 'articles_template1.csv'\n",
    "ENCODING = \"utf-8\"\n",
    "\n",
    "# Nicely formatted time string\n",
    "def hms_string(sec_elapsed):\n",
    "    h = int(sec_elapsed / (60 * 60))\n",
    "    m = int((sec_elapsed % (60 * 60)) / 60)\n",
    "    s = sec_elapsed % 60\n",
    "    return \"{}:{:>02}:{:>05.2f}\".format(h, m, s)\n",
    "\n",
    "\n",
    "def strip_tag_name(t):\n",
    "    t = elem.tag\n",
    "    idx = k = t.rfind(\"}\")\n",
    "    if idx != -1:\n",
    "        t = t[idx + 1:]\n",
    "    return t\n",
    "\n",
    "pathWikiXML = os.path.join(PATH_WIKI_XML, FILENAME_WIKI)\n",
    "pathArticles = os.path.join(PATH_WIKI_XML, FILENAME_ARTICLES)\n",
    "pathArticlesRedirect = os.path.join(PATH_WIKI_XML, FILENAME_REDIRECT)\n",
    "pathTemplateRedirect = os.path.join(PATH_WIKI_XML, FILENAME_TEMPLATE)\n",
    "\n",
    "totalCount = 0\n",
    "articleCount = 0\n",
    "redirectCount = 0\n",
    "templateCount = 0\n",
    "title = None\n",
    "start_time = time.time()"
   ]
  },
  {
   "cell_type": "code",
   "execution_count": 4,
   "metadata": {},
   "outputs": [
    {
     "ename": "FileNotFoundError",
     "evalue": "[Errno 2] No such file or directory: '.\\\\nowiki-20230120-pages-articles.xml'",
     "output_type": "error",
     "traceback": [
      "\u001b[1;31m---------------------------------------------------------------------------\u001b[0m",
      "\u001b[1;31mFileNotFoundError\u001b[0m                         Traceback (most recent call last)",
      "\u001b[1;32mc:\\Users\\bruker\\repos\\summarization_master\\datasets\\no_wiki\\scrape_xml.ipynb Cell 5\u001b[0m in \u001b[0;36m<cell line: 3>\u001b[1;34m()\u001b[0m\n\u001b[0;32m     <a href='vscode-notebook-cell:/c%3A/Users/bruker/repos/summarization_master/datasets/no_wiki/scrape_xml.ipynb#W4sZmlsZQ%3D%3D?line=10'>11</a>\u001b[0m redirectWriter\u001b[39m.\u001b[39mwriterow([\u001b[39m'\u001b[39m\u001b[39mid\u001b[39m\u001b[39m'\u001b[39m, \u001b[39m'\u001b[39m\u001b[39mtitle\u001b[39m\u001b[39m'\u001b[39m, \u001b[39m'\u001b[39m\u001b[39mredirect\u001b[39m\u001b[39m'\u001b[39m])\n\u001b[0;32m     <a href='vscode-notebook-cell:/c%3A/Users/bruker/repos/summarization_master/datasets/no_wiki/scrape_xml.ipynb#W4sZmlsZQ%3D%3D?line=11'>12</a>\u001b[0m templateWriter\u001b[39m.\u001b[39mwriterow([\u001b[39m'\u001b[39m\u001b[39mid\u001b[39m\u001b[39m'\u001b[39m, \u001b[39m'\u001b[39m\u001b[39mtitle\u001b[39m\u001b[39m'\u001b[39m])\n\u001b[1;32m---> <a href='vscode-notebook-cell:/c%3A/Users/bruker/repos/summarization_master/datasets/no_wiki/scrape_xml.ipynb#W4sZmlsZQ%3D%3D?line=12'>13</a>\u001b[0m \u001b[39mfor\u001b[39;00m event, elem \u001b[39min\u001b[39;00m etree\u001b[39m.\u001b[39;49miterparse(pathWikiXML, events\u001b[39m=\u001b[39;49m(\u001b[39m'\u001b[39;49m\u001b[39mstart\u001b[39;49m\u001b[39m'\u001b[39;49m, \u001b[39m'\u001b[39;49m\u001b[39mend\u001b[39;49m\u001b[39m'\u001b[39;49m)):\n\u001b[0;32m     <a href='vscode-notebook-cell:/c%3A/Users/bruker/repos/summarization_master/datasets/no_wiki/scrape_xml.ipynb#W4sZmlsZQ%3D%3D?line=13'>14</a>\u001b[0m     tname \u001b[39m=\u001b[39m strip_tag_name(elem\u001b[39m.\u001b[39mtag)\n\u001b[0;32m     <a href='vscode-notebook-cell:/c%3A/Users/bruker/repos/summarization_master/datasets/no_wiki/scrape_xml.ipynb#W4sZmlsZQ%3D%3D?line=15'>16</a>\u001b[0m     \u001b[39mif\u001b[39;00m event \u001b[39m==\u001b[39m \u001b[39m'\u001b[39m\u001b[39mstart\u001b[39m\u001b[39m'\u001b[39m:\n",
      "File \u001b[1;32mc:\\Python39\\lib\\xml\\etree\\ElementTree.py:1275\u001b[0m, in \u001b[0;36miterparse\u001b[1;34m(source, events, parser)\u001b[0m\n\u001b[0;32m   1273\u001b[0m close_source \u001b[39m=\u001b[39m \u001b[39mFalse\u001b[39;00m\n\u001b[0;32m   1274\u001b[0m \u001b[39mif\u001b[39;00m \u001b[39mnot\u001b[39;00m \u001b[39mhasattr\u001b[39m(source, \u001b[39m\"\u001b[39m\u001b[39mread\u001b[39m\u001b[39m\"\u001b[39m):\n\u001b[1;32m-> 1275\u001b[0m     source \u001b[39m=\u001b[39m \u001b[39mopen\u001b[39;49m(source, \u001b[39m\"\u001b[39;49m\u001b[39mrb\u001b[39;49m\u001b[39m\"\u001b[39;49m)\n\u001b[0;32m   1276\u001b[0m     close_source \u001b[39m=\u001b[39m \u001b[39mTrue\u001b[39;00m\n\u001b[0;32m   1278\u001b[0m \u001b[39mreturn\u001b[39;00m it\n",
      "\u001b[1;31mFileNotFoundError\u001b[0m: [Errno 2] No such file or directory: '.\\\\nowiki-20230120-pages-articles.xml'"
     ]
    }
   ],
   "source": [
    "nowiki_dataset = pd.DataFrame(columns=[\"title\", \"url\", \"published\", \"classes\", \"article\", \"ingress\"])\n",
    "\n",
    "with codecs.open(pathArticles, \"w\", ENCODING) as articlesFH, \\\n",
    "        codecs.open(pathArticlesRedirect, \"w\", ENCODING) as redirectFH, \\\n",
    "        codecs.open(pathTemplateRedirect, \"w\", ENCODING) as templateFH:\n",
    "    articlesWriter = csv.writer(articlesFH, quoting=csv.QUOTE_MINIMAL)\n",
    "    redirectWriter = csv.writer(redirectFH, quoting=csv.QUOTE_MINIMAL)\n",
    "    templateWriter = csv.writer(templateFH, quoting=csv.QUOTE_MINIMAL)\n",
    "\n",
    "    articlesWriter.writerow(['id', 'title', 'redirect'])\n",
    "    redirectWriter.writerow(['id', 'title', 'redirect'])\n",
    "    templateWriter.writerow(['id', 'title'])\n",
    "    for event, elem in etree.iterparse(pathWikiXML, events=('start', 'end')):\n",
    "        tname = strip_tag_name(elem.tag)\n",
    "\n",
    "        if event == 'start':\n",
    "            if tname == 'page':\n",
    "                title = ''\n",
    "                id = -1\n",
    "                redirect = ''\n",
    "                inrevision = False\n",
    "                ns = 0\n",
    "            elif tname == 'revision':\n",
    "                # Do not pick up on revision id's\n",
    "                inrevision = True\n",
    "        else:\n",
    "            if tname == 'title':\n",
    "                title = elem.text\n",
    "            elif tname == 'id' and not inrevision:\n",
    "                id = int(elem.text)\n",
    "            elif tname == 'redirect':\n",
    "                redirect = elem.attrib['title']\n",
    "            elif tname == 'ns':\n",
    "                ns = int(elem.text)\n",
    "            elif tname == 'page':\n",
    "                totalCount += 1\n",
    "\n",
    "                if ns == 10:\n",
    "                    templateCount += 1\n",
    "                    templateWriter.writerow([id, title])\n",
    "                elif len(redirect) > 0:\n",
    "                    articleCount += 1\n",
    "                    articlesWriter.writerow([id, title, redirect])\n",
    "                else:\n",
    "                    redirectCount += 1\n",
    "                    redirectWriter.writerow([id, title, redirect])\n",
    "                    \n",
    "        if totalCount > 1 and (totalCount % 100000) == 0:\n",
    "            print(\"{:,}\".format(totalCount))\n",
    "        #print(tname)\n",
    "\n",
    "elem.clear()\n",
    "\n",
    "elapsed_time = time.time() - start_time\n",
    "\n",
    "print(\"Total pages: {:,}\".format(totalCount))\n",
    "print(\"Template pages: {:,}\".format(templateCount))\n",
    "print(\"Article pages: {:,}\".format(articleCount))\n",
    "print(\"Redirect pages: {:,}\".format(redirectCount))\n",
    "print(\"Elapsed time: {}\".format(hms_string(elapsed_time)))"
   ]
  },
  {
   "cell_type": "code",
   "execution_count": 5,
   "metadata": {},
   "outputs": [
    {
     "ename": "FileNotFoundError",
     "evalue": "[Errno 2] No such file or directory: '.\\\\nowiki-20230120-pages-articles.xml'",
     "output_type": "error",
     "traceback": [
      "\u001b[1;31m---------------------------------------------------------------------------\u001b[0m",
      "\u001b[1;31mFileNotFoundError\u001b[0m                         Traceback (most recent call last)",
      "\u001b[1;32mc:\\Users\\bruker\\repos\\summarization_master\\datasets\\no_wiki\\scrape_xml.ipynb Cell 6\u001b[0m in \u001b[0;36m<cell line: 1>\u001b[1;34m()\u001b[0m\n\u001b[1;32m----> <a href='vscode-notebook-cell:/c%3A/Users/bruker/repos/summarization_master/datasets/no_wiki/scrape_xml.ipynb#W5sZmlsZQ%3D%3D?line=0'>1</a>\u001b[0m \u001b[39mwith\u001b[39;00m \u001b[39mopen\u001b[39;49m(pathWikiXML, \u001b[39m'\u001b[39;49m\u001b[39mr\u001b[39;49m\u001b[39m'\u001b[39;49m, encoding\u001b[39m=\u001b[39;49mENCODING) \u001b[39mas\u001b[39;00m f:\n\u001b[0;32m      <a href='vscode-notebook-cell:/c%3A/Users/bruker/repos/summarization_master/datasets/no_wiki/scrape_xml.ipynb#W5sZmlsZQ%3D%3D?line=1'>2</a>\u001b[0m     row \u001b[39m=\u001b[39m f\u001b[39m.\u001b[39mreadline()\n\u001b[0;32m      <a href='vscode-notebook-cell:/c%3A/Users/bruker/repos/summarization_master/datasets/no_wiki/scrape_xml.ipynb#W5sZmlsZQ%3D%3D?line=2'>3</a>\u001b[0m     \u001b[39m#print(row)\u001b[39;00m\n",
      "\u001b[1;31mFileNotFoundError\u001b[0m: [Errno 2] No such file or directory: '.\\\\nowiki-20230120-pages-articles.xml'"
     ]
    }
   ],
   "source": [
    "with open(pathWikiXML, 'r', encoding=ENCODING) as f:\n",
    "    row = f.readline()\n",
    "    #print(row)\n",
    "    while row:\n",
    "        row = f.readline()\n",
    "        #print(row)\n",
    "    "
   ]
  },
  {
   "cell_type": "markdown",
   "metadata": {},
   "source": []
  },
  {
   "cell_type": "code",
   "execution_count": null,
   "metadata": {},
   "outputs": [],
   "source": []
  }
 ],
 "metadata": {
  "kernelspec": {
   "display_name": "Python 3",
   "language": "python",
   "name": "python3"
  },
  "language_info": {
   "codemirror_mode": {
    "name": "ipython",
    "version": 3
   },
   "file_extension": ".py",
   "mimetype": "text/x-python",
   "name": "python",
   "nbconvert_exporter": "python",
   "pygments_lexer": "ipython3",
   "version": "3.9.4 (tags/v3.9.4:1f2e308, Apr  4 2021, 13:27:16) [MSC v.1928 64 bit (AMD64)]"
  },
  "orig_nbformat": 4,
  "vscode": {
   "interpreter": {
    "hash": "81794d4967e6c3204c66dcd87b604927b115b27c00565d3d43f05ba2f3a2cb0d"
   }
  }
 },
 "nbformat": 4,
 "nbformat_minor": 2
}
