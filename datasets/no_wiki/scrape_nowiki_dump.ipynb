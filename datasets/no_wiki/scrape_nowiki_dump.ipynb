{
 "cells": [
  {
   "cell_type": "code",
   "execution_count": 1,
   "metadata": {},
   "outputs": [],
   "source": [
    "import datasets\n",
    "import pandas as pd"
   ]
  },
  {
   "cell_type": "code",
   "execution_count": 27,
   "metadata": {},
   "outputs": [],
   "source": [
    "df = pd.read_csv(\"nowiki_collection.csv\")"
   ]
  },
  {
   "cell_type": "code",
   "execution_count": 24,
   "metadata": {},
   "outputs": [],
   "source": [
    "articles_df = pd.read_csv(\"articles.csv\")\n"
   ]
  },
  {
   "cell_type": "code",
   "execution_count": 25,
   "metadata": {},
   "outputs": [],
   "source": [
    "# merge the two dataframes on index\n",
    "\n",
    "df = df.merge(articles_df, left_index=True, right_index=True)"
   ]
  },
  {
   "cell_type": "code",
   "execution_count": 26,
   "metadata": {},
   "outputs": [
    {
     "data": {
      "text/html": [
       "<div>\n",
       "<style scoped>\n",
       "    .dataframe tbody tr th:only-of-type {\n",
       "        vertical-align: middle;\n",
       "    }\n",
       "\n",
       "    .dataframe tbody tr th {\n",
       "        vertical-align: top;\n",
       "    }\n",
       "\n",
       "    .dataframe thead th {\n",
       "        text-align: right;\n",
       "    }\n",
       "</style>\n",
       "<table border=\"1\" class=\"dataframe\">\n",
       "  <thead>\n",
       "    <tr style=\"text-align: right;\">\n",
       "      <th></th>\n",
       "      <th>id_x</th>\n",
       "      <th>url</th>\n",
       "      <th>date_scraped</th>\n",
       "      <th>headline</th>\n",
       "      <th>category</th>\n",
       "      <th>ingress</th>\n",
       "      <th>article</th>\n",
       "      <th>id_y</th>\n",
       "      <th>title</th>\n",
       "      <th>redirect</th>\n",
       "    </tr>\n",
       "  </thead>\n",
       "  <tbody>\n",
       "    <tr>\n",
       "      <th>0</th>\n",
       "      <td>0</td>\n",
       "      <td>https://no.wikipedia.org/wiki/Arbeiderpartiet</td>\n",
       "      <td>2023-02-01</td>\n",
       "      <td>Arbeiderpartiet</td>\n",
       "      <td>['Kategori:Arbeiderpartiet', 'Kategori:Artikle...</td>\n",
       "      <td>Arbeiderpartiet (Ap), tidligere Det norske Arb...</td>\n",
       "      <td>Arbeiderpartiet (Ap), tidligere Det norske Arb...</td>\n",
       "      <td>1</td>\n",
       "      <td>Det norske Arbeiderparti</td>\n",
       "      <td>Arbeiderpartiet</td>\n",
       "    </tr>\n",
       "    <tr>\n",
       "      <th>1</th>\n",
       "      <td>1</td>\n",
       "      <td>https://no.wikipedia.org/wiki/Aalesunds_Fotbal...</td>\n",
       "      <td>2023-02-01</td>\n",
       "      <td>Aalesunds Fotballklubb</td>\n",
       "      <td>['Kategori:Aalesunds Fotballklubb', 'Kategori:...</td>\n",
       "      <td>Aalesunds Fotballklubb (AaFK, Aalesund, Tangot...</td>\n",
       "      <td>Aalesunds Fotballklubb (AaFK, Aalesund, Tangot...</td>\n",
       "      <td>3</td>\n",
       "      <td>Aalesund FK</td>\n",
       "      <td>Aalesunds Fotballklubb</td>\n",
       "    </tr>\n",
       "    <tr>\n",
       "      <th>2</th>\n",
       "      <td>2</td>\n",
       "      <td>https://no.wikipedia.org/wiki/Digital_subscrib...</td>\n",
       "      <td>2023-02-01</td>\n",
       "      <td>Digital subscriber line</td>\n",
       "      <td>['Kategori:Alle artikler som trenger flere ell...</td>\n",
       "      <td>Digital subscriber line (DSL) er en samling te...</td>\n",
       "      <td>Digital subscriber line (DSL) er en samling te...</td>\n",
       "      <td>42</td>\n",
       "      <td>Asymmetric Digital Subscriber Line</td>\n",
       "      <td>Digital subscriber line</td>\n",
       "    </tr>\n",
       "    <tr>\n",
       "      <th>3</th>\n",
       "      <td>3</td>\n",
       "      <td>https://no.wikipedia.org/wiki/Erich_Priebke</td>\n",
       "      <td>2023-02-01</td>\n",
       "      <td>Erich Priebke</td>\n",
       "      <td>['Kategori:Alle artikler som trenger flere ell...</td>\n",
       "      <td>Erich Priebke (født 29. juli 1913 ved Hennigsd...</td>\n",
       "      <td>Erich Priebke (født 29. juli 1913 ved Hennigsd...</td>\n",
       "      <td>84</td>\n",
       "      <td>Ardentiner-Massakren</td>\n",
       "      <td>Erich Priebke</td>\n",
       "    </tr>\n",
       "    <tr>\n",
       "      <th>4</th>\n",
       "      <td>4</td>\n",
       "      <td>https://no.wikipedia.org/wiki/Volda_Mineralvatn</td>\n",
       "      <td>2023-02-01</td>\n",
       "      <td>Volda Mineralvatn</td>\n",
       "      <td>['Kategori:1915 i Norge', 'Kategori:Artikler m...</td>\n",
       "      <td>Volda Mineralvatn AS, tidligere Brænne Mineral...</td>\n",
       "      <td>Volda Mineralvatn AS, tidligere Brænne Mineral...</td>\n",
       "      <td>103</td>\n",
       "      <td>Brænne Mineralvatn</td>\n",
       "      <td>Volda Mineralvatn</td>\n",
       "    </tr>\n",
       "    <tr>\n",
       "      <th>...</th>\n",
       "      <td>...</td>\n",
       "      <td>...</td>\n",
       "      <td>...</td>\n",
       "      <td>...</td>\n",
       "      <td>...</td>\n",
       "      <td>...</td>\n",
       "      <td>...</td>\n",
       "      <td>...</td>\n",
       "      <td>...</td>\n",
       "      <td>...</td>\n",
       "    </tr>\n",
       "    <tr>\n",
       "      <th>347229</th>\n",
       "      <td>347229</td>\n",
       "      <td>NaN</td>\n",
       "      <td>2023-02-01</td>\n",
       "      <td>NaN</td>\n",
       "      <td>NaN</td>\n",
       "      <td>NaN</td>\n",
       "      <td>NaN</td>\n",
       "      <td>2088466</td>\n",
       "      <td>Søndre Aurdal prestegjeld</td>\n",
       "      <td>Sør-Aurdal prestegjeld</td>\n",
       "    </tr>\n",
       "    <tr>\n",
       "      <th>347230</th>\n",
       "      <td>347230</td>\n",
       "      <td>https://no.wikipedia.org/wiki/Masaya</td>\n",
       "      <td>2023-02-01</td>\n",
       "      <td>Masaya</td>\n",
       "      <td>['Kategori:11°N', 'Kategori:86°V', 'Kategori:A...</td>\n",
       "      <td>Masaya er en by og en kommune i Nicaragua. Den...</td>\n",
       "      <td>Masaya er en by og en kommune i Nicaragua. Den...</td>\n",
       "      <td>2088467</td>\n",
       "      <td>Nordre Aurdal prestegjeld</td>\n",
       "      <td>Nord-Aurdal prestegjeld</td>\n",
       "    </tr>\n",
       "    <tr>\n",
       "      <th>347231</th>\n",
       "      <td>347231</td>\n",
       "      <td>NaN</td>\n",
       "      <td>2023-02-01</td>\n",
       "      <td>NaN</td>\n",
       "      <td>NaN</td>\n",
       "      <td>NaN</td>\n",
       "      <td>NaN</td>\n",
       "      <td>2088468</td>\n",
       "      <td>Østre Slidre prestegjeld</td>\n",
       "      <td>Øystre Slidre prestegjeld</td>\n",
       "    </tr>\n",
       "    <tr>\n",
       "      <th>347232</th>\n",
       "      <td>347232</td>\n",
       "      <td>NaN</td>\n",
       "      <td>2023-02-01</td>\n",
       "      <td>NaN</td>\n",
       "      <td>NaN</td>\n",
       "      <td>NaN</td>\n",
       "      <td>NaN</td>\n",
       "      <td>2088472</td>\n",
       "      <td>NM på ski 2023</td>\n",
       "      <td>Norgesmesterskapet på ski 2023</td>\n",
       "    </tr>\n",
       "    <tr>\n",
       "      <th>347233</th>\n",
       "      <td>347233</td>\n",
       "      <td>NaN</td>\n",
       "      <td>2023-02-01</td>\n",
       "      <td>NaN</td>\n",
       "      <td>NaN</td>\n",
       "      <td>NaN</td>\n",
       "      <td>NaN</td>\n",
       "      <td>2088473</td>\n",
       "      <td>Eystre Slidre prestegjeld</td>\n",
       "      <td>Øystre Slidre prestegjeld</td>\n",
       "    </tr>\n",
       "  </tbody>\n",
       "</table>\n",
       "<p>347234 rows × 10 columns</p>\n",
       "</div>"
      ],
      "text/plain": [
       "          id_x                                                url  \\\n",
       "0            0      https://no.wikipedia.org/wiki/Arbeiderpartiet   \n",
       "1            1  https://no.wikipedia.org/wiki/Aalesunds_Fotbal...   \n",
       "2            2  https://no.wikipedia.org/wiki/Digital_subscrib...   \n",
       "3            3        https://no.wikipedia.org/wiki/Erich_Priebke   \n",
       "4            4    https://no.wikipedia.org/wiki/Volda_Mineralvatn   \n",
       "...        ...                                                ...   \n",
       "347229  347229                                                NaN   \n",
       "347230  347230               https://no.wikipedia.org/wiki/Masaya   \n",
       "347231  347231                                                NaN   \n",
       "347232  347232                                                NaN   \n",
       "347233  347233                                                NaN   \n",
       "\n",
       "       date_scraped                 headline  \\\n",
       "0        2023-02-01          Arbeiderpartiet   \n",
       "1        2023-02-01   Aalesunds Fotballklubb   \n",
       "2        2023-02-01  Digital subscriber line   \n",
       "3        2023-02-01            Erich Priebke   \n",
       "4        2023-02-01        Volda Mineralvatn   \n",
       "...             ...                      ...   \n",
       "347229   2023-02-01                      NaN   \n",
       "347230   2023-02-01                   Masaya   \n",
       "347231   2023-02-01                      NaN   \n",
       "347232   2023-02-01                      NaN   \n",
       "347233   2023-02-01                      NaN   \n",
       "\n",
       "                                                 category  \\\n",
       "0       ['Kategori:Arbeiderpartiet', 'Kategori:Artikle...   \n",
       "1       ['Kategori:Aalesunds Fotballklubb', 'Kategori:...   \n",
       "2       ['Kategori:Alle artikler som trenger flere ell...   \n",
       "3       ['Kategori:Alle artikler som trenger flere ell...   \n",
       "4       ['Kategori:1915 i Norge', 'Kategori:Artikler m...   \n",
       "...                                                   ...   \n",
       "347229                                                NaN   \n",
       "347230  ['Kategori:11°N', 'Kategori:86°V', 'Kategori:A...   \n",
       "347231                                                NaN   \n",
       "347232                                                NaN   \n",
       "347233                                                NaN   \n",
       "\n",
       "                                                  ingress  \\\n",
       "0       Arbeiderpartiet (Ap), tidligere Det norske Arb...   \n",
       "1       Aalesunds Fotballklubb (AaFK, Aalesund, Tangot...   \n",
       "2       Digital subscriber line (DSL) er en samling te...   \n",
       "3       Erich Priebke (født 29. juli 1913 ved Hennigsd...   \n",
       "4       Volda Mineralvatn AS, tidligere Brænne Mineral...   \n",
       "...                                                   ...   \n",
       "347229                                                NaN   \n",
       "347230  Masaya er en by og en kommune i Nicaragua. Den...   \n",
       "347231                                                NaN   \n",
       "347232                                                NaN   \n",
       "347233                                                NaN   \n",
       "\n",
       "                                                  article     id_y  \\\n",
       "0       Arbeiderpartiet (Ap), tidligere Det norske Arb...        1   \n",
       "1       Aalesunds Fotballklubb (AaFK, Aalesund, Tangot...        3   \n",
       "2       Digital subscriber line (DSL) er en samling te...       42   \n",
       "3       Erich Priebke (født 29. juli 1913 ved Hennigsd...       84   \n",
       "4       Volda Mineralvatn AS, tidligere Brænne Mineral...      103   \n",
       "...                                                   ...      ...   \n",
       "347229                                                NaN  2088466   \n",
       "347230  Masaya er en by og en kommune i Nicaragua. Den...  2088467   \n",
       "347231                                                NaN  2088468   \n",
       "347232                                                NaN  2088472   \n",
       "347233                                                NaN  2088473   \n",
       "\n",
       "                                     title                        redirect  \n",
       "0                 Det norske Arbeiderparti                 Arbeiderpartiet  \n",
       "1                              Aalesund FK          Aalesunds Fotballklubb  \n",
       "2       Asymmetric Digital Subscriber Line         Digital subscriber line  \n",
       "3                     Ardentiner-Massakren                   Erich Priebke  \n",
       "4                       Brænne Mineralvatn               Volda Mineralvatn  \n",
       "...                                    ...                             ...  \n",
       "347229           Søndre Aurdal prestegjeld          Sør-Aurdal prestegjeld  \n",
       "347230           Nordre Aurdal prestegjeld         Nord-Aurdal prestegjeld  \n",
       "347231            Østre Slidre prestegjeld       Øystre Slidre prestegjeld  \n",
       "347232                      NM på ski 2023  Norgesmesterskapet på ski 2023  \n",
       "347233           Eystre Slidre prestegjeld       Øystre Slidre prestegjeld  \n",
       "\n",
       "[347234 rows x 10 columns]"
      ]
     },
     "execution_count": 26,
     "metadata": {},
     "output_type": "execute_result"
    }
   ],
   "source": [
    "df"
   ]
  },
  {
   "cell_type": "code",
   "execution_count": 28,
   "metadata": {},
   "outputs": [],
   "source": [
    "dataset = datasets.Dataset.from_pandas(df)"
   ]
  },
  {
   "cell_type": "code",
   "execution_count": 29,
   "metadata": {},
   "outputs": [
    {
     "data": {
      "text/plain": [
       "(id                   0\n",
       " url             288074\n",
       " date_scraped         0\n",
       " headline        288074\n",
       " category        288074\n",
       " ingress         288532\n",
       " article         288359\n",
       " dtype: int64,\n",
       " (352660, 7))"
      ]
     },
     "execution_count": 29,
     "metadata": {},
     "output_type": "execute_result"
    }
   ],
   "source": [
    "df.isna().sum(), df.shape"
   ]
  },
  {
   "cell_type": "code",
   "execution_count": 30,
   "metadata": {},
   "outputs": [
    {
     "data": {
      "application/vnd.jupyter.widget-view+json": {
       "model_id": "e8dbe0b1d1954a7ba5ea7840a74c5d89",
       "version_major": 2,
       "version_minor": 0
      },
      "text/plain": [
       "Pushing dataset shards to the dataset hub:   0%|          | 0/1 [00:00<?, ?it/s]"
      ]
     },
     "metadata": {},
     "output_type": "display_data"
    },
    {
     "data": {
      "application/vnd.jupyter.widget-view+json": {
       "model_id": "d8f691710c1c4323a228e33e0023f31b",
       "version_major": 2,
       "version_minor": 0
      },
      "text/plain": [
       "Creating parquet from Arrow format:   0%|          | 0/353 [00:00<?, ?ba/s]"
      ]
     },
     "metadata": {},
     "output_type": "display_data"
    },
    {
     "data": {
      "application/vnd.jupyter.widget-view+json": {
       "model_id": "40951b9639ff496e820529f5d0d707c8",
       "version_major": 2,
       "version_minor": 0
      },
      "text/plain": [
       "Upload 1 LFS files:   0%|          | 0/1 [00:00<?, ?it/s]"
      ]
     },
     "metadata": {},
     "output_type": "display_data"
    },
    {
     "data": {
      "application/vnd.jupyter.widget-view+json": {
       "model_id": "a05bd701898c4268ad0f4287ae51f973",
       "version_major": 2,
       "version_minor": 0
      },
      "text/plain": [
       "Deleting unused files from dataset repository:   0%|          | 0/1 [00:00<?, ?it/s]"
      ]
     },
     "metadata": {},
     "output_type": "display_data"
    },
    {
     "data": {
      "application/vnd.jupyter.widget-view+json": {
       "model_id": "1a1fb1958bf746b48e7fb53dc85fc94f",
       "version_major": 2,
       "version_minor": 0
      },
      "text/plain": [
       "Downloading metadata:   0%|          | 0.00/661 [00:00<?, ?B/s]"
      ]
     },
     "metadata": {},
     "output_type": "display_data"
    },
    {
     "name": "stderr",
     "output_type": "stream",
     "text": [
      "Updating downloaded metadata with the new split.\n"
     ]
    }
   ],
   "source": [
    "dataset.push_to_hub(\"jkorsvik/nowiki_first_scrape_20230201\")"
   ]
  },
  {
   "cell_type": "code",
   "execution_count": 71,
   "metadata": {},
   "outputs": [
    {
     "data": {
      "text/plain": [
       "'Koninklijke Sporting Club Lokeren Oost-Vlaanderen, forkortet til Lokeren eller Sporting Lokeren, er en belgisk fotballklubb som siden 1997 har spilt uavbrutt i toppdivisjonen Jupiler League. Klubben regner sine røtter tilbake til Racing Lokeren, som ble stiftet i 1923. Racing Lokeren gikk i 1970 sammen med Standaard Lokeren og den nye klubben ble hetende KSC Lokeren; denne klubben gikk i 2000 sammen med Sint-Niklase SK, men tok etter en kort periode tilbake KSC Lokeren-navnet. Klubben spiller sine hjemmekamper på Daknamstadion i Lokeren. Klubbnomaden Petter Rudi spilte i klubben i en periode i 2001, og Geir Ludvig Fevang spilte to sesonger for klubben på begynnelsen av 2010-tallet.\\nKlubben har spilt åtte sesonger i Europaligaen, med kvartfinale i 1981 som beste resultat. I 1981 ble Lokeren også nummer to i det belgiske seriemesterskapet, deres beste resultat gjennom tidene, og nådde finalen i cupen. I 2003 tok klubben bronse i serien, og i 2012 og 2014 vant Lokeren cupmesterskapet i Belgia.\\n\\n'"
      ]
     },
     "execution_count": 71,
     "metadata": {},
     "output_type": "execute_result"
    }
   ],
   "source": [
    "from mediawikiapi import MediaWikiAPI\n",
    "\n",
    "mediawikiapi = MediaWikiAPI()\n",
    "\n",
    "\n",
    "mediawikiapi.config.language = \"no\"\n",
    "\n",
    "#page = mediawikiapi.page(\"https://no.wikipedia.org/wiki/Neoleptusa\")\n",
    "page = mediawikiapi.page(\"Lokeren\", auto_suggest=True)\n",
    "page.title\n",
    "page.summary"
   ]
  },
  {
   "cell_type": "code",
   "execution_count": 35,
   "metadata": {},
   "outputs": [],
   "source": [
    "import xml.etree.ElementTree as ET\n",
    "\n",
    "with open(\"nowiki-20230120-abstract.xml\", \"r\", encoding=\"utf-8\") as xml_file:\n",
    "    try:\n",
    "        xml_tree = ET.fromstring(xml_file.read())\n",
    "    except Exception as e:\n",
    "        print(e)"
   ]
  },
  {
   "cell_type": "code",
   "execution_count": 46,
   "metadata": {},
   "outputs": [],
   "source": [
    "titles = []\n",
    "urls = []\n",
    "abstracts = []\n",
    "\n",
    "for doc in xml_tree:\n",
    "    for element in doc:\n",
    "        if element.tag == \"title\":\n",
    "            titles.append(element.text)\n",
    "        elif element.tag == \"url\":\n",
    "            urls.append(element.text)\n",
    "        elif element.tag == \"abstract\":\n",
    "            abstracts.append(element.text)\n",
    "        else:\n",
    "            pass\n",
    "    \n",
    "pd.DataFrame({\"title\": titles, \"url\": urls, \"abstract\": abstracts}).to_csv(\"nowiki-20230120-abstract_urls.csv\", index_label=\"id\")"
   ]
  },
  {
   "cell_type": "code",
   "execution_count": 2,
   "metadata": {},
   "outputs": [
    {
     "data": {
      "text/html": [
       "<div>\n",
       "<style scoped>\n",
       "    .dataframe tbody tr th:only-of-type {\n",
       "        vertical-align: middle;\n",
       "    }\n",
       "\n",
       "    .dataframe tbody tr th {\n",
       "        vertical-align: top;\n",
       "    }\n",
       "\n",
       "    .dataframe thead th {\n",
       "        text-align: right;\n",
       "    }\n",
       "</style>\n",
       "<table border=\"1\" class=\"dataframe\">\n",
       "  <thead>\n",
       "    <tr style=\"text-align: right;\">\n",
       "      <th></th>\n",
       "      <th>url</th>\n",
       "      <th>date_scraped</th>\n",
       "      <th>headline</th>\n",
       "      <th>category</th>\n",
       "      <th>ingress</th>\n",
       "      <th>article</th>\n",
       "      <th>abstract</th>\n",
       "    </tr>\n",
       "    <tr>\n",
       "      <th>id</th>\n",
       "      <th></th>\n",
       "      <th></th>\n",
       "      <th></th>\n",
       "      <th></th>\n",
       "      <th></th>\n",
       "      <th></th>\n",
       "      <th></th>\n",
       "    </tr>\n",
       "  </thead>\n",
       "  <tbody>\n",
       "    <tr>\n",
       "      <th>0</th>\n",
       "      <td>https://no.wikipedia.org/wiki/Historiske_vandr...</td>\n",
       "      <td>2023-02-04</td>\n",
       "      <td>Historiske vandreruter</td>\n",
       "      <td>['Kategori:Artikler uten autoritetsdatalenker ...</td>\n",
       "      <td>Historiske vandreruter er et samarbeid mellom ...</td>\n",
       "      <td>Historiske vandreruter er et samarbeid mellom ...</td>\n",
       "      <td>Historiske vandreruter er et samarbeid mellom ...</td>\n",
       "    </tr>\n",
       "    <tr>\n",
       "      <th>1</th>\n",
       "      <td>https://no.wikipedia.org/wiki/Slaget_ved_Denne...</td>\n",
       "      <td>2023-02-04</td>\n",
       "      <td>Slaget ved Dennewitz</td>\n",
       "      <td>['Kategori:13°Ø', 'Kategori:51°N', 'Kategori:A...</td>\n",
       "      <td>Slaget ved Dennewitz (tysk: Schlacht von Denne...</td>\n",
       "      <td>Slaget ved Dennewitz (tysk: Schlacht von Denne...</td>\n",
       "      <td>Det franske keiserdømme   Sachsen</td>\n",
       "    </tr>\n",
       "    <tr>\n",
       "      <th>2</th>\n",
       "      <td>https://no.wikipedia.org/wiki/Guttorm_Toverud</td>\n",
       "      <td>2023-02-04</td>\n",
       "      <td>Guttorm Toverud</td>\n",
       "      <td>['Kategori:Alumni fra Universitetet i Oslo', '...</td>\n",
       "      <td>Se annet sted for dr.philos. i rusmisbruk Jon ...</td>\n",
       "      <td>Se annet sted for dr.philos. i rusmisbruk Jon ...</td>\n",
       "      <td>Guttorm Toverud (født 30. april 1896 i Aurskog...</td>\n",
       "    </tr>\n",
       "    <tr>\n",
       "      <th>3</th>\n",
       "      <td>https://no.wikipedia.org/wiki/Carsten_Bruuns_g...</td>\n",
       "      <td>2023-02-04</td>\n",
       "      <td>Carsten Bruuns gate (Tønsberg)</td>\n",
       "      <td>['Kategori:10,4°Ø', 'Kategori:59,2°N', 'Katego...</td>\n",
       "      <td>Carsten Bruuns gate (1-3, 2-6) er en 180 meter...</td>\n",
       "      <td>Carsten Bruuns gate (1-3, 2-6) er en 180 meter...</td>\n",
       "      <td>Carsten Bruuns gate (1-3, 2-6) er en 180 meter...</td>\n",
       "    </tr>\n",
       "    <tr>\n",
       "      <th>4</th>\n",
       "      <td>https://no.wikipedia.org/wiki/Radikal_Portal</td>\n",
       "      <td>2023-02-04</td>\n",
       "      <td>Radikal Portal</td>\n",
       "      <td>['Kategori:Artikler med døde eksterne lenker',...</td>\n",
       "      <td>Radikal Portal er et nettsted for politiske ny...</td>\n",
       "      <td>Radikal Portal er et nettsted for politiske ny...</td>\n",
       "      <td>Radikal Portal er et nettsted for politiske ny...</td>\n",
       "    </tr>\n",
       "    <tr>\n",
       "      <th>...</th>\n",
       "      <td>...</td>\n",
       "      <td>...</td>\n",
       "      <td>...</td>\n",
       "      <td>...</td>\n",
       "      <td>...</td>\n",
       "      <td>...</td>\n",
       "      <td>...</td>\n",
       "    </tr>\n",
       "    <tr>\n",
       "      <th>201814</th>\n",
       "      <td>https://no.wikipedia.org/wiki/Hnyla_Lypa</td>\n",
       "      <td>2023-02-04</td>\n",
       "      <td>Hnyla Lypa</td>\n",
       "      <td>['Kategori:24°Ø', 'Kategori:49°N', 'Kategori:A...</td>\n",
       "      <td>Hnyla Lypa (ukrainsk: Гнила Липа, polsk: Gniła...</td>\n",
       "      <td>Hnyla Lypa (ukrainsk: Гнила Липа, polsk: Gniła...</td>\n",
       "      <td>| nedbørfelt = 1320</td>\n",
       "    </tr>\n",
       "    <tr>\n",
       "      <th>201815</th>\n",
       "      <td>https://no.wikipedia.org/wiki/Koropets</td>\n",
       "      <td>2023-02-04</td>\n",
       "      <td>Koropets</td>\n",
       "      <td>['Kategori:25°Ø', 'Kategori:48°N', 'Kategori:4...</td>\n",
       "      <td>Koropets (ukrainsk: Коропець, polsk: Koropiec)...</td>\n",
       "      <td>Koropets (ukrainsk: Коропець, polsk: Koropiec)...</td>\n",
       "      <td>| nedbørfelt = 511</td>\n",
       "    </tr>\n",
       "    <tr>\n",
       "      <th>201816</th>\n",
       "      <td>https://no.wikipedia.org/wiki/Promising_Young_...</td>\n",
       "      <td>2023-02-04</td>\n",
       "      <td>Promising Young Woman</td>\n",
       "      <td>['Kategori:Artikler hvor utmerkelser hentes fr...</td>\n",
       "      <td>Promising Young Woman er en britisk-amerikansk...</td>\n",
       "      <td>Promising Young Woman er en britisk-amerikansk...</td>\n",
       "      <td>Promising Young Woman er en britisk-amerikansk...</td>\n",
       "    </tr>\n",
       "    <tr>\n",
       "      <th>201817</th>\n",
       "      <td>https://no.wikipedia.org/wiki/Frode_Bj%C3%B8ru</td>\n",
       "      <td>2023-02-04</td>\n",
       "      <td>Frode Bjøru</td>\n",
       "      <td>['Kategori:Artikler av tvilsom relevans', 'Kat...</td>\n",
       "      <td>Frode Bjøru (f 1960) er en norsk seilmaker og ...</td>\n",
       "      <td>Frode Bjøru (f 1960) er en norsk seilmaker og ...</td>\n",
       "      <td>Frode Bjøru (f 1960) er en norsk seilmaker og ...</td>\n",
       "    </tr>\n",
       "    <tr>\n",
       "      <th>201818</th>\n",
       "      <td>https://no.wikipedia.org/wiki/Emerald_Fennell</td>\n",
       "      <td>2023-02-04</td>\n",
       "      <td>Emerald Fennell</td>\n",
       "      <td>['Kategori:Artikler hvor beskjeftigelse hentes...</td>\n",
       "      <td>Emerald Fennell (født 1985) er en britisk skue...</td>\n",
       "      <td>Emerald Fennell (født 1985) er en britisk skue...</td>\n",
       "      <td>Emerald Fennell (født 1985) er en britisk skue...</td>\n",
       "    </tr>\n",
       "  </tbody>\n",
       "</table>\n",
       "<p>201819 rows × 7 columns</p>\n",
       "</div>"
      ],
      "text/plain": [
       "                                                      url date_scraped  \\\n",
       "id                                                                       \n",
       "0       https://no.wikipedia.org/wiki/Historiske_vandr...   2023-02-04   \n",
       "1       https://no.wikipedia.org/wiki/Slaget_ved_Denne...   2023-02-04   \n",
       "2           https://no.wikipedia.org/wiki/Guttorm_Toverud   2023-02-04   \n",
       "3       https://no.wikipedia.org/wiki/Carsten_Bruuns_g...   2023-02-04   \n",
       "4            https://no.wikipedia.org/wiki/Radikal_Portal   2023-02-04   \n",
       "...                                                   ...          ...   \n",
       "201814           https://no.wikipedia.org/wiki/Hnyla_Lypa   2023-02-04   \n",
       "201815             https://no.wikipedia.org/wiki/Koropets   2023-02-04   \n",
       "201816  https://no.wikipedia.org/wiki/Promising_Young_...   2023-02-04   \n",
       "201817     https://no.wikipedia.org/wiki/Frode_Bj%C3%B8ru   2023-02-04   \n",
       "201818      https://no.wikipedia.org/wiki/Emerald_Fennell   2023-02-04   \n",
       "\n",
       "                              headline  \\\n",
       "id                                       \n",
       "0               Historiske vandreruter   \n",
       "1                 Slaget ved Dennewitz   \n",
       "2                      Guttorm Toverud   \n",
       "3       Carsten Bruuns gate (Tønsberg)   \n",
       "4                       Radikal Portal   \n",
       "...                                ...   \n",
       "201814                      Hnyla Lypa   \n",
       "201815                        Koropets   \n",
       "201816           Promising Young Woman   \n",
       "201817                     Frode Bjøru   \n",
       "201818                 Emerald Fennell   \n",
       "\n",
       "                                                 category  \\\n",
       "id                                                          \n",
       "0       ['Kategori:Artikler uten autoritetsdatalenker ...   \n",
       "1       ['Kategori:13°Ø', 'Kategori:51°N', 'Kategori:A...   \n",
       "2       ['Kategori:Alumni fra Universitetet i Oslo', '...   \n",
       "3       ['Kategori:10,4°Ø', 'Kategori:59,2°N', 'Katego...   \n",
       "4       ['Kategori:Artikler med døde eksterne lenker',...   \n",
       "...                                                   ...   \n",
       "201814  ['Kategori:24°Ø', 'Kategori:49°N', 'Kategori:A...   \n",
       "201815  ['Kategori:25°Ø', 'Kategori:48°N', 'Kategori:4...   \n",
       "201816  ['Kategori:Artikler hvor utmerkelser hentes fr...   \n",
       "201817  ['Kategori:Artikler av tvilsom relevans', 'Kat...   \n",
       "201818  ['Kategori:Artikler hvor beskjeftigelse hentes...   \n",
       "\n",
       "                                                  ingress  \\\n",
       "id                                                          \n",
       "0       Historiske vandreruter er et samarbeid mellom ...   \n",
       "1       Slaget ved Dennewitz (tysk: Schlacht von Denne...   \n",
       "2       Se annet sted for dr.philos. i rusmisbruk Jon ...   \n",
       "3       Carsten Bruuns gate (1-3, 2-6) er en 180 meter...   \n",
       "4       Radikal Portal er et nettsted for politiske ny...   \n",
       "...                                                   ...   \n",
       "201814  Hnyla Lypa (ukrainsk: Гнила Липа, polsk: Gniła...   \n",
       "201815  Koropets (ukrainsk: Коропець, polsk: Koropiec)...   \n",
       "201816  Promising Young Woman er en britisk-amerikansk...   \n",
       "201817  Frode Bjøru (f 1960) er en norsk seilmaker og ...   \n",
       "201818  Emerald Fennell (født 1985) er en britisk skue...   \n",
       "\n",
       "                                                  article  \\\n",
       "id                                                          \n",
       "0       Historiske vandreruter er et samarbeid mellom ...   \n",
       "1       Slaget ved Dennewitz (tysk: Schlacht von Denne...   \n",
       "2       Se annet sted for dr.philos. i rusmisbruk Jon ...   \n",
       "3       Carsten Bruuns gate (1-3, 2-6) er en 180 meter...   \n",
       "4       Radikal Portal er et nettsted for politiske ny...   \n",
       "...                                                   ...   \n",
       "201814  Hnyla Lypa (ukrainsk: Гнила Липа, polsk: Gniła...   \n",
       "201815  Koropets (ukrainsk: Коропець, polsk: Koropiec)...   \n",
       "201816  Promising Young Woman er en britisk-amerikansk...   \n",
       "201817  Frode Bjøru (f 1960) er en norsk seilmaker og ...   \n",
       "201818  Emerald Fennell (født 1985) er en britisk skue...   \n",
       "\n",
       "                                                 abstract  \n",
       "id                                                         \n",
       "0       Historiske vandreruter er et samarbeid mellom ...  \n",
       "1                       Det franske keiserdømme   Sachsen  \n",
       "2       Guttorm Toverud (født 30. april 1896 i Aurskog...  \n",
       "3       Carsten Bruuns gate (1-3, 2-6) er en 180 meter...  \n",
       "4       Radikal Portal er et nettsted for politiske ny...  \n",
       "...                                                   ...  \n",
       "201814                                | nedbørfelt = 1320  \n",
       "201815                                 | nedbørfelt = 511  \n",
       "201816  Promising Young Woman er en britisk-amerikansk...  \n",
       "201817  Frode Bjøru (f 1960) er en norsk seilmaker og ...  \n",
       "201818  Emerald Fennell (født 1985) er en britisk skue...  \n",
       "\n",
       "[201819 rows x 7 columns]"
      ]
     },
     "execution_count": 2,
     "metadata": {},
     "output_type": "execute_result"
    }
   ],
   "source": [
    "df = pd.read_csv(\"nowiki_collection_abstracts.csv\", index_col=0)\n",
    "df"
   ]
  },
  {
   "cell_type": "code",
   "execution_count": 3,
   "metadata": {},
   "outputs": [
    {
     "data": {
      "application/vnd.jupyter.widget-view+json": {
       "model_id": "5c31d9513157469eb35923d9a42e9bc1",
       "version_major": 2,
       "version_minor": 0
      },
      "text/plain": [
       "Pushing dataset shards to the dataset hub:   0%|          | 0/2 [00:00<?, ?it/s]"
      ]
     },
     "metadata": {},
     "output_type": "display_data"
    },
    {
     "data": {
      "application/vnd.jupyter.widget-view+json": {
       "model_id": "15857254b82c41478dbd9354c1a25358",
       "version_major": 2,
       "version_minor": 0
      },
      "text/plain": [
       "Creating parquet from Arrow format:   0%|          | 0/101 [00:00<?, ?ba/s]"
      ]
     },
     "metadata": {},
     "output_type": "display_data"
    },
    {
     "data": {
      "application/vnd.jupyter.widget-view+json": {
       "model_id": "5c76c973e9d44dd0aced7e756ffa5911",
       "version_major": 2,
       "version_minor": 0
      },
      "text/plain": [
       "Upload 1 LFS files:   0%|          | 0/1 [00:00<?, ?it/s]"
      ]
     },
     "metadata": {},
     "output_type": "display_data"
    },
    {
     "data": {
      "application/vnd.jupyter.widget-view+json": {
       "model_id": "dab8c2bb321b4b0da313de71d7b030df",
       "version_major": 2,
       "version_minor": 0
      },
      "text/plain": [
       "Creating parquet from Arrow format:   0%|          | 0/101 [00:00<?, ?ba/s]"
      ]
     },
     "metadata": {},
     "output_type": "display_data"
    },
    {
     "data": {
      "application/vnd.jupyter.widget-view+json": {
       "model_id": "bb9af52bbae945f1ae150e8add20aab2",
       "version_major": 2,
       "version_minor": 0
      },
      "text/plain": [
       "Upload 1 LFS files:   0%|          | 0/1 [00:00<?, ?it/s]"
      ]
     },
     "metadata": {},
     "output_type": "display_data"
    }
   ],
   "source": [
    "dataset = datasets.Dataset.from_pandas(df)\n",
    "dataset.push_to_hub(\"jkorsvik/nowiki_abstract_second_scrape_split3\")"
   ]
  },
  {
   "cell_type": "code",
   "execution_count": null,
   "metadata": {},
   "outputs": [],
   "source": []
  }
 ],
 "metadata": {
  "kernelspec": {
   "display_name": "Python 3",
   "language": "python",
   "name": "python3"
  },
  "language_info": {
   "codemirror_mode": {
    "name": "ipython",
    "version": 3
   },
   "file_extension": ".py",
   "mimetype": "text/x-python",
   "name": "python",
   "nbconvert_exporter": "python",
   "pygments_lexer": "ipython3",
   "version": "3.9.4 (tags/v3.9.4:1f2e308, Apr  4 2021, 13:27:16) [MSC v.1928 64 bit (AMD64)]"
  },
  "orig_nbformat": 4,
  "vscode": {
   "interpreter": {
    "hash": "81794d4967e6c3204c66dcd87b604927b115b27c00565d3d43f05ba2f3a2cb0d"
   }
  }
 },
 "nbformat": 4,
 "nbformat_minor": 2
}
