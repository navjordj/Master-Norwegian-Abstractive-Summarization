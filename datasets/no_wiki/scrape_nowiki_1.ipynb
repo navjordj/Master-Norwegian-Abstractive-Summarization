{
  "cells": [
    {
      "cell_type": "code",
      "execution_count": null,
      "metadata": {
        "colab": {
          "base_uri": "https://localhost:8080/"
        },
        "id": "OMPBzZMYyKRb",
        "outputId": "991ab1eb-2887-4732-c985-76e7e2df815c"
      },
      "outputs": [
        {
          "name": "stdout",
          "output_type": "stream",
          "text": [
            "Looking in indexes: https://pypi.org/simple, https://us-python.pkg.dev/colab-wheels/public/simple/\n",
            "Collecting mediawikiapi\n",
            "  Downloading mediawikiapi-1.1.6-py3-none-any.whl (15 kB)\n",
            "Requirement already satisfied: requests<3.0.0,>=2.0.0 in /usr/local/lib/python3.8/dist-packages (from mediawikiapi) (2.25.1)\n",
            "Collecting beautifulsoup4==4.11.1\n",
            "  Downloading beautifulsoup4-4.11.1-py3-none-any.whl (128 kB)\n",
            "\u001b[2K     \u001b[90m━━━━━━━━━━━━━━━━━━━━━━━━━━━━━━━━━━━━━━━\u001b[0m \u001b[32m128.2/128.2 KB\u001b[0m \u001b[31m3.1 MB/s\u001b[0m eta \u001b[36m0:00:00\u001b[0m\n",
            "\u001b[?25hCollecting soupsieve>1.2\n",
            "  Downloading soupsieve-2.3.2.post1-py3-none-any.whl (37 kB)\n",
            "Requirement already satisfied: chardet<5,>=3.0.2 in /usr/local/lib/python3.8/dist-packages (from requests<3.0.0,>=2.0.0->mediawikiapi) (4.0.0)\n",
            "Requirement already satisfied: certifi>=2017.4.17 in /usr/local/lib/python3.8/dist-packages (from requests<3.0.0,>=2.0.0->mediawikiapi) (2022.12.7)\n",
            "Requirement already satisfied: urllib3<1.27,>=1.21.1 in /usr/local/lib/python3.8/dist-packages (from requests<3.0.0,>=2.0.0->mediawikiapi) (1.24.3)\n",
            "Requirement already satisfied: idna<3,>=2.5 in /usr/local/lib/python3.8/dist-packages (from requests<3.0.0,>=2.0.0->mediawikiapi) (2.10)\n",
            "Installing collected packages: soupsieve, beautifulsoup4, mediawikiapi\n",
            "  Attempting uninstall: beautifulsoup4\n",
            "    Found existing installation: beautifulsoup4 4.6.3\n",
            "    Uninstalling beautifulsoup4-4.6.3:\n",
            "      Successfully uninstalled beautifulsoup4-4.6.3\n",
            "Successfully installed beautifulsoup4-4.11.1 mediawikiapi-1.1.6 soupsieve-2.3.2.post1\n",
            "Looking in indexes: https://pypi.org/simple, https://us-python.pkg.dev/colab-wheels/public/simple/\n",
            "Collecting datasets\n",
            "  Downloading datasets-2.9.0-py3-none-any.whl (462 kB)\n",
            "\u001b[2K     \u001b[90m━━━━━━━━━━━━━━━━━━━━━━━━━━━━━━━━━━━━━━\u001b[0m \u001b[32m462.8/462.8 KB\u001b[0m \u001b[31m11.2 MB/s\u001b[0m eta \u001b[36m0:00:00\u001b[0m\n",
            "\u001b[?25hRequirement already satisfied: aiohttp in /usr/local/lib/python3.8/dist-packages (from datasets) (3.8.3)\n",
            "Collecting huggingface-hub<1.0.0,>=0.2.0\n",
            "  Downloading huggingface_hub-0.12.0-py3-none-any.whl (190 kB)\n",
            "\u001b[2K     \u001b[90m━━━━━━━━━━━━━━━━━━━━━━━━━━━━━━━━━━━━━━\u001b[0m \u001b[32m190.3/190.3 KB\u001b[0m \u001b[31m15.6 MB/s\u001b[0m eta \u001b[36m0:00:00\u001b[0m\n",
            "\u001b[?25hRequirement already satisfied: pyyaml>=5.1 in /usr/local/lib/python3.8/dist-packages (from datasets) (6.0)\n",
            "Requirement already satisfied: pyarrow>=6.0.0 in /usr/local/lib/python3.8/dist-packages (from datasets) (9.0.0)\n",
            "Requirement already satisfied: requests>=2.19.0 in /usr/local/lib/python3.8/dist-packages (from datasets) (2.25.1)\n",
            "Collecting responses<0.19\n",
            "  Downloading responses-0.18.0-py3-none-any.whl (38 kB)\n",
            "Requirement already satisfied: fsspec[http]>=2021.11.1 in /usr/local/lib/python3.8/dist-packages (from datasets) (2023.1.0)\n",
            "Collecting multiprocess\n",
            "  Downloading multiprocess-0.70.14-py38-none-any.whl (132 kB)\n",
            "\u001b[2K     \u001b[90m━━━━━━━━━━━━━━━━━━━━━━━━━━━━━━━━━━━━━━━\u001b[0m \u001b[32m132.0/132.0 KB\u001b[0m \u001b[31m4.9 MB/s\u001b[0m eta \u001b[36m0:00:00\u001b[0m\n",
            "\u001b[?25hCollecting xxhash\n",
            "  Downloading xxhash-3.2.0-cp38-cp38-manylinux_2_17_x86_64.manylinux2014_x86_64.whl (213 kB)\n",
            "\u001b[2K     \u001b[90m━━━━━━━━━━━━━━━━━━━━━━━━━━━━━━━━━━━━━━\u001b[0m \u001b[32m213.0/213.0 KB\u001b[0m \u001b[31m18.4 MB/s\u001b[0m eta \u001b[36m0:00:00\u001b[0m\n",
            "\u001b[?25hRequirement already satisfied: pandas in /usr/local/lib/python3.8/dist-packages (from datasets) (1.3.5)\n",
            "Requirement already satisfied: tqdm>=4.62.1 in /usr/local/lib/python3.8/dist-packages (from datasets) (4.64.1)\n",
            "Requirement already satisfied: packaging in /usr/local/lib/python3.8/dist-packages (from datasets) (23.0)\n",
            "Requirement already satisfied: numpy>=1.17 in /usr/local/lib/python3.8/dist-packages (from datasets) (1.21.6)\n",
            "Requirement already satisfied: dill<0.3.7 in /usr/local/lib/python3.8/dist-packages (from datasets) (0.3.6)\n",
            "Requirement already satisfied: charset-normalizer<3.0,>=2.0 in /usr/local/lib/python3.8/dist-packages (from aiohttp->datasets) (2.1.1)\n",
            "Requirement already satisfied: async-timeout<5.0,>=4.0.0a3 in /usr/local/lib/python3.8/dist-packages (from aiohttp->datasets) (4.0.2)\n",
            "Requirement already satisfied: aiosignal>=1.1.2 in /usr/local/lib/python3.8/dist-packages (from aiohttp->datasets) (1.3.1)\n",
            "Requirement already satisfied: yarl<2.0,>=1.0 in /usr/local/lib/python3.8/dist-packages (from aiohttp->datasets) (1.8.2)\n",
            "Requirement already satisfied: multidict<7.0,>=4.5 in /usr/local/lib/python3.8/dist-packages (from aiohttp->datasets) (6.0.4)\n",
            "Requirement already satisfied: frozenlist>=1.1.1 in /usr/local/lib/python3.8/dist-packages (from aiohttp->datasets) (1.3.3)\n",
            "Requirement already satisfied: attrs>=17.3.0 in /usr/local/lib/python3.8/dist-packages (from aiohttp->datasets) (22.2.0)\n",
            "Requirement already satisfied: typing-extensions>=3.7.4.3 in /usr/local/lib/python3.8/dist-packages (from huggingface-hub<1.0.0,>=0.2.0->datasets) (4.4.0)\n",
            "Requirement already satisfied: filelock in /usr/local/lib/python3.8/dist-packages (from huggingface-hub<1.0.0,>=0.2.0->datasets) (3.9.0)\n",
            "Requirement already satisfied: idna<3,>=2.5 in /usr/local/lib/python3.8/dist-packages (from requests>=2.19.0->datasets) (2.10)\n",
            "Requirement already satisfied: chardet<5,>=3.0.2 in /usr/local/lib/python3.8/dist-packages (from requests>=2.19.0->datasets) (4.0.0)\n",
            "Requirement already satisfied: certifi>=2017.4.17 in /usr/local/lib/python3.8/dist-packages (from requests>=2.19.0->datasets) (2022.12.7)\n",
            "Requirement already satisfied: urllib3<1.27,>=1.21.1 in /usr/local/lib/python3.8/dist-packages (from requests>=2.19.0->datasets) (1.24.3)\n",
            "Collecting urllib3<1.27,>=1.21.1\n",
            "  Downloading urllib3-1.26.14-py2.py3-none-any.whl (140 kB)\n",
            "\u001b[2K     \u001b[90m━━━━━━━━━━━━━━━━━━━━━━━━━━━━━━━━━━━━━━\u001b[0m \u001b[32m140.6/140.6 KB\u001b[0m \u001b[31m14.1 MB/s\u001b[0m eta \u001b[36m0:00:00\u001b[0m\n",
            "\u001b[?25hRequirement already satisfied: python-dateutil>=2.7.3 in /usr/local/lib/python3.8/dist-packages (from pandas->datasets) (2.8.2)\n",
            "Requirement already satisfied: pytz>=2017.3 in /usr/local/lib/python3.8/dist-packages (from pandas->datasets) (2022.7.1)\n",
            "Requirement already satisfied: six>=1.5 in /usr/local/lib/python3.8/dist-packages (from python-dateutil>=2.7.3->pandas->datasets) (1.15.0)\n",
            "Installing collected packages: xxhash, urllib3, multiprocess, responses, huggingface-hub, datasets\n",
            "  Attempting uninstall: urllib3\n",
            "    Found existing installation: urllib3 1.24.3\n",
            "    Uninstalling urllib3-1.24.3:\n",
            "      Successfully uninstalled urllib3-1.24.3\n",
            "Successfully installed datasets-2.9.0 huggingface-hub-0.12.0 multiprocess-0.70.14 responses-0.18.0 urllib3-1.26.14 xxhash-3.2.0\n"
          ]
        }
      ],
      "source": [
        "!pip install mediawikiapi\n",
        "!pip install datasets"
      ]
    },
    {
      "cell_type": "code",
      "execution_count": 1,
      "metadata": {
        "colab": {
          "base_uri": "https://localhost:8080/",
          "height": 249,
          "referenced_widgets": [
            "a8d1de10004146d18fa55565c971f961",
            "1c67229ddb934b4ca912a341e95a5b89",
            "65a521589c314d9180a632c898e3716d",
            "531fca1350644cb8b70b0ba076525955",
            "a2ba463e027142f5825af5db79d7b284",
            "8c1422f9390f4cfbbfde1b635b9d7dc0",
            "d23dfc29a3e54ccb810a543fb4809950",
            "65f5b383c7a4475aaf3e58f989a4b9a2",
            "a8de7c726f624b069c755488a4e66d21",
            "8862fda5d6ba4682bec104024dae4e06",
            "d141dccd470b4a5ca62ac3c2be971316",
            "46234f330d4d4b3884c92a524a0e3167",
            "d00d04938dd44f6c9d4e43fa69cce2d6",
            "cd8aa5a20a7d4a8197bfdd53019bc35b",
            "aec8c96b31c5431f8b59fd972c5a8feb",
            "6439e58aba9a48d391123b435ca2fef2",
            "9d9c1134bfd54b549f457e94b105239a",
            "09ce4c8c8f3245d989fb48927b2f55c3",
            "d4618a1896e049eeb8d8aa27712819a5",
            "fca95a4e7da44da48004276b1480b259",
            "1a35aa9ee6ea45d9be45ba4a76659353",
            "aae90e340a424e96b17e5bb84d677893",
            "0d6b17d73d80406e9792a16c23e468db",
            "f90ad85151464703bebdb2041cbc7319",
            "c9c1b93b276d40f7811d171d9af59217",
            "91f7b2167d88452c929444f6f0fc9333",
            "fd8aeefa28f849c3a1ef9a15a280ac98",
            "a2f4dc00ec6b4d2b80aadd3228b65179",
            "1671dc8eaadd42a8a724d460b069a85c",
            "5c602830a87740178052075a1469107c",
            "46047bd4ca1940cabcb3aebdea7d0695",
            "038831bd31fc41bcb1b5a2383cc0f957",
            "31da61d235cb446ba43e8b742b538a12",
            "39f17528e61c4e9eb538bede3033af2b",
            "453152f852e24e36820c0f771ff612cd",
            "48ed351aa0d94c569cbe51169bd7c870",
            "0e64a182fdd64946848c5c05ce4ddef1",
            "6bca7b6819684d57bdadd6ca6b1a46bb",
            "53fb5284a7e04a12a5ea575fa7723fad",
            "c7df25af6769497383a63902dfe6947e",
            "1993643fa1334209bcee9135ef9dab96",
            "de86cb90a14546b5a72fe5f206e1bf38",
            "f894ca555e8a47ca8a4f6a39b75f559f",
            "4c8d05759ba74239b05b7f889f100d0d",
            "7b804b0ee050442cb7e02fa7bf6e967b",
            "651b551178c14b32825afc3315260e72",
            "8db3e209fab54dd6b2777b23eefc8f86",
            "0cdc728bf792468bb921a7ad9f53b7dc",
            "f6d80a6672494c37992dd08303129084",
            "bd48c79ed36b4c0f97996474d394f782",
            "83b2c63929a349928c51f6072e66f8d8",
            "6e47e65b3ee149dca667f952f2cca273",
            "cde6131058bd4b4dbb1ed12d4e061198",
            "5acf09485889422a8f21269943884b8e",
            "95b09941f8554c3ba0dcb4ae3d79f8e1",
            "8979d1a3a8944c9081427687e614ec63",
            "e6a97b2764a04622929796b12dcc3250",
            "2e2e67f8853643fba687db6dabef6ae5",
            "6eee609dcb484d40904c1602b2679bac",
            "2a944a5a847f4395924e1fab59bad767",
            "c0de61c95a4f4253920794e778ed2f71",
            "0ff2c0e977af44009a2502cd7eeb8835",
            "eff5bfd314d445f2a5bfbdf552437e88",
            "095f081b2adc416992f1f44ba0be6f0e",
            "5450c2ce05834240ae92b3a41dbb527a",
            "62459608bf4d4061b86908fd384c1400"
          ]
        },
        "id": "Myx3aWBRyDcB",
        "outputId": "4eec6a6c-54a7-4a32-aab7-1c1bc9827a48"
      },
      "outputs": [
        {
          "data": {
            "application/vnd.jupyter.widget-view+json": {
              "model_id": "c8a3e230f12f419c9e9dddb4039126d5",
              "version_major": 2,
              "version_minor": 0
            },
            "text/plain": [
              "Downloading readme:   0%|          | 0.00/478 [00:00<?, ?B/s]"
            ]
          },
          "metadata": {},
          "output_type": "display_data"
        },
        {
          "name": "stderr",
          "output_type": "stream",
          "text": [
            "Using custom data configuration jkorsvik--nowiki_abstract_urls_20230120-1591f4975dea9ad4\n"
          ]
        },
        {
          "name": "stdout",
          "output_type": "stream",
          "text": [
            "Downloading and preparing dataset None/None to C:/Users/bruker/.cache/huggingface/datasets/jkorsvik___parquet/jkorsvik--nowiki_abstract_urls_20230120-1591f4975dea9ad4/0.0.0/2a3b91fbd88a2c90d1dbbb32b460cf621d31bd5b05b934492fdef7d8d6f236ec...\n"
          ]
        },
        {
          "data": {
            "application/vnd.jupyter.widget-view+json": {
              "model_id": "bba4fcbe776246798ff6905dc401b1a2",
              "version_major": 2,
              "version_minor": 0
            },
            "text/plain": [
              "Downloading data files:   0%|          | 0/1 [00:00<?, ?it/s]"
            ]
          },
          "metadata": {},
          "output_type": "display_data"
        },
        {
          "data": {
            "application/vnd.jupyter.widget-view+json": {
              "model_id": "ce2a1992518c4bf68d8721161d3714ea",
              "version_major": 2,
              "version_minor": 0
            },
            "text/plain": [
              "Downloading data:   0%|          | 0.00/66.5M [00:00<?, ?B/s]"
            ]
          },
          "metadata": {},
          "output_type": "display_data"
        },
        {
          "data": {
            "application/vnd.jupyter.widget-view+json": {
              "model_id": "d394e5b820c44669a94f32e58e0089ae",
              "version_major": 2,
              "version_minor": 0
            },
            "text/plain": [
              "Extracting data files:   0%|          | 0/1 [00:00<?, ?it/s]"
            ]
          },
          "metadata": {},
          "output_type": "display_data"
        },
        {
          "data": {
            "application/vnd.jupyter.widget-view+json": {
              "model_id": "a7956f5fc61a4d1d90f1c1bc05fe474f",
              "version_major": 2,
              "version_minor": 0
            },
            "text/plain": [
              "Generating train split:   0%|          | 0/605457 [00:00<?, ? examples/s]"
            ]
          },
          "metadata": {},
          "output_type": "display_data"
        },
        {
          "name": "stdout",
          "output_type": "stream",
          "text": [
            "Dataset parquet downloaded and prepared to C:/Users/bruker/.cache/huggingface/datasets/jkorsvik___parquet/jkorsvik--nowiki_abstract_urls_20230120-1591f4975dea9ad4/0.0.0/2a3b91fbd88a2c90d1dbbb32b460cf621d31bd5b05b934492fdef7d8d6f236ec. Subsequent calls will reuse this data.\n"
          ]
        },
        {
          "data": {
            "application/vnd.jupyter.widget-view+json": {
              "model_id": "998bc94432fb4f3bb6562a6c13ddebf6",
              "version_major": 2,
              "version_minor": 0
            },
            "text/plain": [
              "  0%|          | 0/1 [00:00<?, ?it/s]"
            ]
          },
          "metadata": {},
          "output_type": "display_data"
        }
      ],
      "source": [
        "from mediawikiapi import MediaWikiAPI\n",
        "import pandas as pd\n",
        "import tqdm\n",
        "import datetime as dt\n",
        "import asyncio\n",
        "import multiprocessing\n",
        "import os\n",
        "import psutil\n",
        "import threading\n",
        "import time\n",
        "import concurrent.futures\n",
        "from mediawikiapi.exceptions import PageError\n",
        "import random\n",
        "from requests.exceptions import ConnectionError\n",
        "from mediawikiapi.exceptions import MediaWikiAPIException\n",
        "#from requests import JSONDecodeError\n",
        "from json import JSONDecodeError\n",
        "\n",
        "import os\n",
        "import datasets \n",
        "import numpy as np\n",
        "mediawikiapi = MediaWikiAPI()\n",
        "\n",
        "\n",
        "mediawikiapi.config.language = \"no\"\n",
        "dataset_nowiki = datasets.load_dataset(\"jkorsvik/nowiki_abstract_urls_20230120\")"
      ]
    },
    {
      "cell_type": "code",
      "execution_count": 2,
      "metadata": {
        "colab": {
          "base_uri": "https://localhost:8080/"
        },
        "id": "tF1-93_d0QOV",
        "outputId": "a15884a0-871d-42ef-d1d0-4e1cacb09e91"
      },
      "outputs": [
        {
          "data": {
            "text/plain": [
              "Dataset({\n",
              "    features: ['title', 'url', 'abstract', 'id'],\n",
              "    num_rows: 605457\n",
              "})"
            ]
          },
          "execution_count": 2,
          "metadata": {},
          "output_type": "execute_result"
        }
      ],
      "source": [
        "dataset_nowiki[\"train\"]"
      ]
    },
    {
      "cell_type": "code",
      "execution_count": 3,
      "metadata": {
        "id": "SkWUMbfgznL_"
      },
      "outputs": [],
      "source": [
        "nowiki_df = pd.DataFrame(dataset_nowiki[\"train\"])\n",
        "nowiki_df[\"title\"] = nowiki_df[\"title\"].apply(\n",
        "    lambda x: x.replace(\"Wikipedia: \", \"\"))\n",
        "\n"
      ]
    },
    {
      "cell_type": "code",
      "execution_count": null,
      "metadata": {
        "colab": {
          "base_uri": "https://localhost:8080/"
        },
        "id": "BYeYMvFnCtBl",
        "outputId": "637abc60-580b-4a71-83c7-d063bc882dd5"
      },
      "outputs": [
        {
          "name": "stdout",
          "output_type": "stream",
          "text": [
            "Looking in indexes: https://pypi.org/simple, https://us-python.pkg.dev/colab-wheels/public/simple/\n",
            "Requirement already satisfied: huggingface_hub in /usr/local/lib/python3.8/dist-packages (0.12.0)\n",
            "Requirement already satisfied: filelock in /usr/local/lib/python3.8/dist-packages (from huggingface_hub) (3.9.0)\n",
            "Requirement already satisfied: packaging>=20.9 in /usr/local/lib/python3.8/dist-packages (from huggingface_hub) (23.0)\n",
            "Requirement already satisfied: pyyaml>=5.1 in /usr/local/lib/python3.8/dist-packages (from huggingface_hub) (6.0)\n",
            "Requirement already satisfied: tqdm>=4.42.1 in /usr/local/lib/python3.8/dist-packages (from huggingface_hub) (4.64.1)\n",
            "Requirement already satisfied: requests in /usr/local/lib/python3.8/dist-packages (from huggingface_hub) (2.25.1)\n",
            "Requirement already satisfied: typing-extensions>=3.7.4.3 in /usr/local/lib/python3.8/dist-packages (from huggingface_hub) (4.4.0)\n",
            "Requirement already satisfied: urllib3<1.27,>=1.21.1 in /usr/local/lib/python3.8/dist-packages (from requests->huggingface_hub) (1.26.14)\n",
            "Requirement already satisfied: idna<3,>=2.5 in /usr/local/lib/python3.8/dist-packages (from requests->huggingface_hub) (2.10)\n",
            "Requirement already satisfied: chardet<5,>=3.0.2 in /usr/local/lib/python3.8/dist-packages (from requests->huggingface_hub) (4.0.0)\n",
            "Requirement already satisfied: certifi>=2017.4.17 in /usr/local/lib/python3.8/dist-packages (from requests->huggingface_hub) (2022.12.7)\n",
            "\n",
            "    _|    _|  _|    _|    _|_|_|    _|_|_|  _|_|_|  _|      _|    _|_|_|      _|_|_|_|    _|_|      _|_|_|  _|_|_|_|\n",
            "    _|    _|  _|    _|  _|        _|          _|    _|_|    _|  _|            _|        _|    _|  _|        _|\n",
            "    _|_|_|_|  _|    _|  _|  _|_|  _|  _|_|    _|    _|  _|  _|  _|  _|_|      _|_|_|    _|_|_|_|  _|        _|_|_|\n",
            "    _|    _|  _|    _|  _|    _|  _|    _|    _|    _|    _|_|  _|    _|      _|        _|    _|  _|        _|\n",
            "    _|    _|    _|_|      _|_|_|    _|_|_|  _|_|_|  _|      _|    _|_|_|      _|        _|    _|    _|_|_|  _|_|_|_|\n",
            "    \n",
            "    A token is already saved on your machine. Run `huggingface-cli whoami` to get more information or `huggingface-cli logout` if you want to log out.\n",
            "    Setting a new token will erase the existing one.\n",
            "    To login, `huggingface_hub` requires a token generated from https://huggingface.co/settings/tokens .\n",
            "Token: \n",
            "Add token as git credential? (Y/n) y\n",
            "Token is valid.\n",
            "Your token has been saved in your configured git credential helpers (store).\n",
            "Your token has been saved to /root/.cache/huggingface/token\n",
            "Login successful\n"
          ]
        }
      ],
      "source": [
        "!pip install huggingface_hub\n",
        "!git config --global credential.helper store\n",
        "!huggingface-cli login"
      ]
    },
    {
      "cell_type": "code",
      "execution_count": 4,
      "metadata": {
        "colab": {
          "base_uri": "https://localhost:8080/"
        },
        "id": "X41_pcx_xTWe",
        "outputId": "d8d2f944-786c-41d7-e03b-8bdaebfb1f5b"
      },
      "outputs": [
        {
          "name": "stderr",
          "output_type": "stream",
          "text": [
            "  0%|          | 80/16819 [01:21<4:00:18,  1.16it/s]"
          ]
        },
        {
          "name": "stdout",
          "output_type": "stream",
          "text": [
            "Got PageErrors, skipping\n",
            "Error fetching the article: «Brummer»\n"
          ]
        },
        {
          "name": "stderr",
          "output_type": "stream",
          "text": [
            "  1%|          | 183/16819 [03:09<4:44:02,  1.02s/it]"
          ]
        },
        {
          "name": "stdout",
          "output_type": "stream",
          "text": [
            "Got KeyError, skipping\n",
            "Error fetching the article: Underordning\n"
          ]
        },
        {
          "name": "stderr",
          "output_type": "stream",
          "text": [
            "  2%|▏         | 262/16819 [04:29<4:47:41,  1.04s/it]"
          ]
        },
        {
          "name": "stdout",
          "output_type": "stream",
          "text": [
            "Got KeyError, skipping\n",
            "Error fetching the article: Rune Nilsen (professor)\n"
          ]
        },
        {
          "name": "stderr",
          "output_type": "stream",
          "text": [
            "  3%|▎         | 452/16819 [07:35<4:25:39,  1.03it/s]"
          ]
        },
        {
          "name": "stdout",
          "output_type": "stream",
          "text": [
            "Got PageErrors, skipping\n",
            "Error fetching the article: Filippinene under Sommer-OL 2016\n",
            "Got PageErrors, skipping\n",
            "Error fetching the article: Hongkong under Sommer-OL 2016\n"
          ]
        },
        {
          "name": "stderr",
          "output_type": "stream",
          "text": [
            "  3%|▎         | 454/16819 [07:37<4:22:24,  1.04it/s]"
          ]
        },
        {
          "name": "stdout",
          "output_type": "stream",
          "text": [
            "Got PageErrors, skipping\n",
            "Error fetching the article: Bosnia-Hercegovina under Sommer-OL 2016\n"
          ]
        },
        {
          "name": "stderr",
          "output_type": "stream",
          "text": [
            "  3%|▎         | 456/16819 [07:39<4:31:27,  1.00it/s]"
          ]
        },
        {
          "name": "stdout",
          "output_type": "stream",
          "text": [
            "Got PageErrors, skipping\n",
            "Error fetching the article: Blink\n"
          ]
        },
        {
          "name": "stderr",
          "output_type": "stream",
          "text": [
            "  3%|▎         | 532/16819 [08:54<5:06:26,  1.13s/it]"
          ]
        },
        {
          "name": "stdout",
          "output_type": "stream",
          "text": [
            "Got PageErrors, skipping\n",
            "Error fetching the article: Kvalifisering til Håndball-EM 2016 for menn\n"
          ]
        },
        {
          "name": "stderr",
          "output_type": "stream",
          "text": [
            "  3%|▎         | 535/16819 [08:57<4:54:00,  1.08s/it]"
          ]
        },
        {
          "name": "stdout",
          "output_type": "stream",
          "text": [
            "Got PageErrors, skipping\n",
            "Error fetching the article: Kvalifisering til Håndball-EM 2018 for menn\n"
          ]
        },
        {
          "name": "stderr",
          "output_type": "stream",
          "text": [
            "  3%|▎         | 560/16819 [09:21<4:20:12,  1.04it/s]"
          ]
        },
        {
          "name": "stdout",
          "output_type": "stream",
          "text": [
            "Got PageErrors, skipping\n",
            "Error fetching the article: A-VM i ishockey 1996 for menn\n"
          ]
        },
        {
          "name": "stderr",
          "output_type": "stream",
          "text": [
            "  4%|▎         | 626/16819 [10:21<4:00:38,  1.12it/s]"
          ]
        },
        {
          "name": "stdout",
          "output_type": "stream",
          "text": [
            "Got PageErrors, skipping\n",
            "Error fetching the article: Lister over øyer\n",
            "Got PageErrors, skipping\n",
            "Error fetching the article: Lister over elver\n"
          ]
        },
        {
          "name": "stderr",
          "output_type": "stream",
          "text": [
            "  4%|▍         | 631/16819 [10:26<4:20:08,  1.04it/s]"
          ]
        },
        {
          "name": "stdout",
          "output_type": "stream",
          "text": [
            "Got PageErrors, skipping\n",
            "Error fetching the article: Bundesliga 2015–2016\n"
          ]
        },
        {
          "name": "stderr",
          "output_type": "stream",
          "text": [
            "  4%|▍         | 688/16819 [11:26<4:32:48,  1.01s/it]"
          ]
        },
        {
          "name": "stdout",
          "output_type": "stream",
          "text": [
            "Got KeyError, skipping\n",
            "Error fetching the article: MD Helicopters\n"
          ]
        },
        {
          "name": "stderr",
          "output_type": "stream",
          "text": [
            "  4%|▍         | 748/16819 [12:25<4:22:23,  1.02it/s]"
          ]
        },
        {
          "name": "stdout",
          "output_type": "stream",
          "text": [
            "Got PageErrors, skipping\n",
            "Error fetching the article: Kvikne (andre betydninger)\n"
          ]
        },
        {
          "name": "stderr",
          "output_type": "stream",
          "text": [
            "  4%|▍         | 749/16819 [12:25<4:09:44,  1.07it/s]"
          ]
        },
        {
          "name": "stdout",
          "output_type": "stream",
          "text": [
            "Got KeyError, skipping\n",
            "Error fetching the article: Catfish\n",
            "Got KeyError, skipping\n",
            "Error fetching the article: Innlandet (andre betydninger)\n"
          ]
        },
        {
          "name": "stderr",
          "output_type": "stream",
          "text": [
            "  5%|▍         | 819/16819 [13:40<4:33:45,  1.03s/it]"
          ]
        },
        {
          "name": "stdout",
          "output_type": "stream",
          "text": [
            "Got KeyError, skipping\n",
            "Error fetching the article: Bjørn Pedersen (1920)\n"
          ]
        },
        {
          "name": "stderr",
          "output_type": "stream",
          "text": [
            "  5%|▌         | 918/16819 [15:29<4:42:40,  1.07s/it]"
          ]
        },
        {
          "name": "stdout",
          "output_type": "stream",
          "text": [
            "Got KeyError, skipping\n",
            "Error fetching the article: Skorpe\n"
          ]
        },
        {
          "name": "stderr",
          "output_type": "stream",
          "text": [
            "  6%|▌         | 934/16819 [15:47<4:37:48,  1.05s/it]"
          ]
        },
        {
          "name": "stdout",
          "output_type": "stream",
          "text": [
            "Got PageErrors, skipping\n",
            "Error fetching the article: Junior-VM i skiskyting 2010 – Stafett menn\n"
          ]
        },
        {
          "name": "stderr",
          "output_type": "stream",
          "text": [
            "  6%|▌         | 947/16819 [16:02<4:59:39,  1.13s/it]"
          ]
        },
        {
          "name": "stdout",
          "output_type": "stream",
          "text": [
            "Got PageErrors, skipping\n",
            "Error fetching the article: Jan Olsson (fotballspiller, født 1942)\n"
          ]
        },
        {
          "name": "stderr",
          "output_type": "stream",
          "text": [
            "  6%|▌         | 975/16819 [16:38<6:25:36,  1.46s/it]"
          ]
        },
        {
          "name": "stdout",
          "output_type": "stream",
          "text": [
            "Got PageErrors, skipping\n",
            "Error fetching the article: Millet\n"
          ]
        },
        {
          "name": "stderr",
          "output_type": "stream",
          "text": [
            "  6%|▌         | 1049/16819 [18:07<5:24:19,  1.23s/it]"
          ]
        },
        {
          "name": "stdout",
          "output_type": "stream",
          "text": [
            "Got PageErrors, skipping\n",
            "Error fetching the article: Allround-NM på skøyter 1962 for herrer\n"
          ]
        },
        {
          "name": "stderr",
          "output_type": "stream",
          "text": [
            "  7%|▋         | 1120/16819 [19:32<5:24:13,  1.24s/it]"
          ]
        },
        {
          "name": "stdout",
          "output_type": "stream",
          "text": [
            "Got PageErrors, skipping\n",
            "Error fetching the article: VM i landeveissykling 2015 – Kvinnenes temporitt\n"
          ]
        },
        {
          "name": "stderr",
          "output_type": "stream",
          "text": [
            "  7%|▋         | 1202/16819 [20:54<4:12:39,  1.03it/s]"
          ]
        },
        {
          "name": "stdout",
          "output_type": "stream",
          "text": [
            "Got PageErrors, skipping\n",
            "Error fetching the article: Britiske imperieleker 1934\n"
          ]
        },
        {
          "name": "stderr",
          "output_type": "stream",
          "text": [
            "  8%|▊         | 1389/16819 [24:01<4:27:57,  1.04s/it]"
          ]
        },
        {
          "name": "stdout",
          "output_type": "stream",
          "text": [
            "Got PageErrors, skipping\n",
            "Error fetching the article: Sins of the Father (film)\n"
          ]
        },
        {
          "name": "stderr",
          "output_type": "stream",
          "text": [
            "  9%|▉         | 1484/16819 [25:39<4:50:05,  1.14s/it]"
          ]
        },
        {
          "name": "stdout",
          "output_type": "stream",
          "text": [
            "Got PageErrors, skipping\n",
            "Error fetching the article: Jessica Jones (TV-serie)\n"
          ]
        },
        {
          "name": "stderr",
          "output_type": "stream",
          "text": [
            " 10%|█         | 1717/16819 [29:59<4:53:35,  1.17s/it]"
          ]
        },
        {
          "name": "stdout",
          "output_type": "stream",
          "text": [
            "Got PageErrors, skipping\n",
            "Error fetching the article: Håndball-VM 2019 for kvinner\n"
          ]
        },
        {
          "name": "stderr",
          "output_type": "stream",
          "text": [
            " 10%|█         | 1720/16819 [30:03<4:41:46,  1.12s/it]"
          ]
        },
        {
          "name": "stdout",
          "output_type": "stream",
          "text": [
            "Got KeyError, skipping\n",
            "Error fetching the article: Anne Pedersen\n"
          ]
        },
        {
          "name": "stderr",
          "output_type": "stream",
          "text": [
            " 11%|█         | 1787/16819 [31:25<5:42:58,  1.37s/it]"
          ]
        },
        {
          "name": "stdout",
          "output_type": "stream",
          "text": [
            "Got KeyError, skipping\n",
            "Error fetching the article: Chaperon\n"
          ]
        },
        {
          "name": "stderr",
          "output_type": "stream",
          "text": [
            " 11%|█         | 1888/16819 [33:31<4:59:10,  1.20s/it]"
          ]
        },
        {
          "name": "stdout",
          "output_type": "stream",
          "text": [
            "Got PageErrors, skipping\n",
            "Error fetching the article: Al-Qa’im\n"
          ]
        },
        {
          "name": "stderr",
          "output_type": "stream",
          "text": [
            " 11%|█▏        | 1929/16819 [34:17<3:58:51,  1.04it/s]"
          ]
        },
        {
          "name": "stdout",
          "output_type": "stream",
          "text": [
            "Got PageErrors, skipping\n",
            "Error fetching the article: Sophia av Slesvig-Holsten-Gottorp\n"
          ]
        },
        {
          "name": "stderr",
          "output_type": "stream",
          "text": [
            " 12%|█▏        | 1958/16819 [34:53<5:08:12,  1.24s/it]"
          ]
        },
        {
          "name": "stdout",
          "output_type": "stream",
          "text": [
            "Got PageErrors, skipping\n",
            "Error fetching the article: Ski-VM 2009 – 30 kilometer fri teknikk kvinner\n"
          ]
        },
        {
          "name": "stderr",
          "output_type": "stream",
          "text": [
            " 12%|█▏        | 1961/16819 [34:57<5:13:46,  1.27s/it]"
          ]
        },
        {
          "name": "stdout",
          "output_type": "stream",
          "text": [
            "Got PageErrors, skipping\n",
            "Error fetching the article: Ski-VM 2007 – 10 kilometer fri teknikk kvinner\n"
          ]
        },
        {
          "name": "stderr",
          "output_type": "stream",
          "text": [
            " 12%|█▏        | 1964/16819 [35:00<4:19:12,  1.05s/it]"
          ]
        },
        {
          "name": "stdout",
          "output_type": "stream",
          "text": [
            "Got PageErrors, skipping\n",
            "Error fetching the article: Ski-VM 2007 – 50 kilometer klassisk menn\n"
          ]
        },
        {
          "name": "stderr",
          "output_type": "stream",
          "text": [
            " 12%|█▏        | 1965/16819 [35:00<4:09:36,  1.01s/it]"
          ]
        },
        {
          "name": "stdout",
          "output_type": "stream",
          "text": [
            "Got PageErrors, skipping\n",
            "Error fetching the article: Ski-VM 2009 – 4 × 5 km stafett kvinner\n"
          ]
        },
        {
          "name": "stderr",
          "output_type": "stream",
          "text": [
            " 12%|█▏        | 1977/16819 [35:15<5:01:48,  1.22s/it]"
          ]
        },
        {
          "name": "stdout",
          "output_type": "stream",
          "text": [
            "Got PageErrors, skipping\n",
            "Error fetching the article: Ski-VM 2005 – 30 kilometer klassisk kvinner\n"
          ]
        },
        {
          "name": "stderr",
          "output_type": "stream",
          "text": [
            " 12%|█▏        | 2016/16819 [35:57<4:31:58,  1.10s/it]"
          ]
        },
        {
          "name": "stdout",
          "output_type": "stream",
          "text": [
            "Got PageErrors, skipping\n",
            "Error fetching the article: Langbein (andre betydninger)\n",
            "Got PageErrors, skipping\n",
            "Error fetching the article: A-VM i ishockey 1982 for menn\n"
          ]
        },
        {
          "name": "stderr",
          "output_type": "stream",
          "text": [
            " 13%|█▎        | 2199/16819 [39:05<3:55:55,  1.03it/s]"
          ]
        },
        {
          "name": "stdout",
          "output_type": "stream",
          "text": [
            "Got KeyError, skipping\n",
            "Error fetching the article: Tommy Hansen\n"
          ]
        },
        {
          "name": "stderr",
          "output_type": "stream",
          "text": [
            " 14%|█▍        | 2422/16819 [42:58<3:52:44,  1.03it/s]"
          ]
        },
        {
          "name": "stdout",
          "output_type": "stream",
          "text": [
            "Got KeyError, skipping\n",
            "Error fetching the article: Alvekonge\n"
          ]
        },
        {
          "name": "stderr",
          "output_type": "stream",
          "text": [
            " 15%|█▍        | 2509/16819 [44:25<3:57:21,  1.00it/s]"
          ]
        },
        {
          "name": "stdout",
          "output_type": "stream",
          "text": [
            "Got PageErrors, skipping\n",
            "Error fetching the article: Elisabet av Holsten (død 1402)\n"
          ]
        },
        {
          "name": "stderr",
          "output_type": "stream",
          "text": [
            " 15%|█▌        | 2532/16819 [44:49<4:17:51,  1.08s/it]"
          ]
        },
        {
          "name": "stdout",
          "output_type": "stream",
          "text": [
            "Got PageErrors, skipping\n",
            "Error fetching the article: MS «Marco Polo»\n"
          ]
        },
        {
          "name": "stderr",
          "output_type": "stream",
          "text": [
            " 15%|█▌        | 2550/16819 [45:08<4:02:19,  1.02s/it]"
          ]
        },
        {
          "name": "stdout",
          "output_type": "stream",
          "text": [
            "Got KeyError, skipping\n",
            "Error fetching the article: Tor Andersen\n"
          ]
        },
        {
          "name": "stderr",
          "output_type": "stream",
          "text": [
            " 17%|█▋        | 2889/16819 [51:02<4:00:07,  1.03s/it]"
          ]
        },
        {
          "name": "stdout",
          "output_type": "stream",
          "text": [
            "Got KeyError, skipping\n",
            "Error fetching the article: Knut Johansen (styrkeløfter)\n"
          ]
        },
        {
          "name": "stderr",
          "output_type": "stream",
          "text": [
            " 18%|█▊        | 2979/16819 [52:33<4:11:19,  1.09s/it]"
          ]
        },
        {
          "name": "stdout",
          "output_type": "stream",
          "text": [
            "Got PageErrors, skipping\n",
            "Error fetching the article: Ungdoms-EM i friidrett 2016\n"
          ]
        },
        {
          "name": "stderr",
          "output_type": "stream",
          "text": [
            " 18%|█▊        | 3002/16819 [52:57<3:44:46,  1.02it/s]"
          ]
        },
        {
          "name": "stdout",
          "output_type": "stream",
          "text": [
            "Got KeyError, skipping\n",
            "Error fetching the article: Gunnar Gran\n"
          ]
        },
        {
          "name": "stderr",
          "output_type": "stream",
          "text": [
            " 19%|█▊        | 3133/16819 [55:10<4:03:21,  1.07s/it]"
          ]
        },
        {
          "name": "stdout",
          "output_type": "stream",
          "text": [
            "Got PageErrors, skipping\n",
            "Error fetching the article: Vinger (andre betydninger)\n"
          ]
        },
        {
          "name": "stderr",
          "output_type": "stream",
          "text": [
            " 19%|█▊        | 3135/16819 [55:11<3:46:27,  1.01it/s]"
          ]
        },
        {
          "name": "stdout",
          "output_type": "stream",
          "text": [
            "Got KeyError, skipping\n",
            "Error fetching the article: Olaf Olsen\n"
          ]
        },
        {
          "name": "stderr",
          "output_type": "stream",
          "text": [
            " 19%|█▊        | 3136/16819 [55:12<3:39:22,  1.04it/s]"
          ]
        },
        {
          "name": "stdout",
          "output_type": "stream",
          "text": [
            "Got KeyError, skipping\n",
            "Error fetching the article: Olaf Olsen (friidrettsutøver)\n"
          ]
        },
        {
          "name": "stderr",
          "output_type": "stream",
          "text": [
            " 19%|█▊        | 3153/16819 [55:32<3:45:42,  1.01it/s]"
          ]
        },
        {
          "name": "stdout",
          "output_type": "stream",
          "text": [
            "Got PageErrors, skipping\n",
            "Error fetching the article: Maria av Slesvig-Holsten-Sønderborg\n"
          ]
        },
        {
          "name": "stderr",
          "output_type": "stream",
          "text": [
            " 19%|█▉        | 3159/16819 [55:38<3:52:29,  1.02s/it]"
          ]
        },
        {
          "name": "stdout",
          "output_type": "stream",
          "text": [
            "Got PageErrors, skipping\n",
            "Error fetching the article: Friidrett under Sommer-OL 2016 – 5 000 meter kvinner\n"
          ]
        },
        {
          "name": "stderr",
          "output_type": "stream",
          "text": [
            " 19%|█▉        | 3164/16819 [55:42<3:32:25,  1.07it/s]"
          ]
        },
        {
          "name": "stdout",
          "output_type": "stream",
          "text": [
            "Got PageErrors, skipping\n",
            "Error fetching the article: Grein (andre betydninger)\n"
          ]
        },
        {
          "name": "stderr",
          "output_type": "stream",
          "text": [
            " 19%|█▉        | 3170/16819 [55:48<3:16:57,  1.15it/s]"
          ]
        },
        {
          "name": "stdout",
          "output_type": "stream",
          "text": [
            "Got PageErrors, skipping\n",
            "Error fetching the article: Friidrett under Sommer-OL 2016 – 5 000 meter menn\n"
          ]
        },
        {
          "name": "stderr",
          "output_type": "stream",
          "text": [
            " 19%|█▉        | 3251/16819 [57:12<4:46:50,  1.27s/it]"
          ]
        },
        {
          "name": "stdout",
          "output_type": "stream",
          "text": [
            "Got PageErrors, skipping\n",
            "Error fetching the article: Styring (andre betydninger)\n",
            "Got KeyError, skipping\n",
            "Error fetching the article: Tor Hansen (fotballspiller)\n"
          ]
        },
        {
          "name": "stderr",
          "output_type": "stream",
          "text": [
            " 19%|█▉        | 3276/16819 [57:39<4:16:10,  1.13s/it]"
          ]
        },
        {
          "name": "stdout",
          "output_type": "stream",
          "text": [
            "Got PageErrors, skipping\n",
            "Error fetching the article: Friidrett under Sommer-OL 1952 – 100 meter menn\n"
          ]
        },
        {
          "name": "stderr",
          "output_type": "stream",
          "text": [
            " 20%|█▉        | 3347/16819 [58:55<4:05:22,  1.09s/it]"
          ]
        },
        {
          "name": "stdout",
          "output_type": "stream",
          "text": [
            "Got KeyError, skipping\n",
            "Error fetching the article: Jan Nilsen (fotballspiller FFK)\n"
          ]
        },
        {
          "name": "stderr",
          "output_type": "stream",
          "text": [
            " 20%|██        | 3372/16819 [59:22<4:53:02,  1.31s/it]"
          ]
        },
        {
          "name": "stdout",
          "output_type": "stream",
          "text": [
            "Got PageErrors, skipping\n",
            "Error fetching the article: Saint-Denys de la Chapelle\n"
          ]
        },
        {
          "name": "stderr",
          "output_type": "stream",
          "text": [
            " 21%|██        | 3458/16819 [1:01:07<5:44:54,  1.55s/it]"
          ]
        },
        {
          "name": "stdout",
          "output_type": "stream",
          "text": [
            "Got PageErrors, skipping\n",
            "Error fetching the article: Karasu (andre betydninger)\n"
          ]
        },
        {
          "name": "stderr",
          "output_type": "stream",
          "text": [
            " 21%|██▏       | 3597/16819 [1:03:33<3:49:13,  1.04s/it]"
          ]
        },
        {
          "name": "stdout",
          "output_type": "stream",
          "text": [
            "Got PageErrors, skipping\n",
            "Error fetching the article: VM i landeveissykling 2016 – Junior kvinner, temporitt\n"
          ]
        },
        {
          "name": "stderr",
          "output_type": "stream",
          "text": [
            " 21%|██▏       | 3603/16819 [1:03:39<3:48:31,  1.04s/it]"
          ]
        },
        {
          "name": "stdout",
          "output_type": "stream",
          "text": [
            "Got PageErrors, skipping\n",
            "Error fetching the article: VM i landeveissykling 2016 – Kvinnenes temporitt\n"
          ]
        },
        {
          "name": "stderr",
          "output_type": "stream",
          "text": [
            " 24%|██▍       | 4017/16819 [1:12:07<4:52:46,  1.37s/it]"
          ]
        },
        {
          "name": "stdout",
          "output_type": "stream",
          "text": [
            "Got KeyError, skipping\n",
            "Error fetching the article: The CW\n"
          ]
        },
        {
          "name": "stderr",
          "output_type": "stream",
          "text": [
            " 26%|██▌       | 4364/16819 [1:19:26<3:51:34,  1.12s/it]"
          ]
        },
        {
          "name": "stdout",
          "output_type": "stream",
          "text": [
            "Got PageErrors, skipping\n",
            "Error fetching the article: Rally-VM 2017\n"
          ]
        },
        {
          "name": "stderr",
          "output_type": "stream",
          "text": [
            " 26%|██▋       | 4436/16819 [1:20:40<3:26:56,  1.00s/it]"
          ]
        },
        {
          "name": "stdout",
          "output_type": "stream",
          "text": [
            "Got PageErrors, skipping\n",
            "Error fetching the article: Arna videregående skole\n"
          ]
        },
        {
          "name": "stderr",
          "output_type": "stream",
          "text": [
            " 27%|██▋       | 4550/16819 [1:22:38<3:14:30,  1.05it/s]"
          ]
        },
        {
          "name": "stdout",
          "output_type": "stream",
          "text": [
            "Got PageErrors, skipping\n",
            "Error fetching the article: Fusa videregående skole\n"
          ]
        },
        {
          "name": "stderr",
          "output_type": "stream",
          "text": [
            " 27%|██▋       | 4577/16819 [1:23:05<3:19:19,  1.02it/s]"
          ]
        },
        {
          "name": "stdout",
          "output_type": "stream",
          "text": [
            "Got PageErrors, skipping\n",
            "Error fetching the article: VM i skiskyting 2017 – Stafett menn\n",
            "Got PageErrors, skipping\n",
            "Error fetching the article: VM i skiskyting 2017 – Stafett kvinner\n"
          ]
        },
        {
          "name": "stderr",
          "output_type": "stream",
          "text": [
            " 27%|██▋       | 4613/16819 [1:23:41<3:06:48,  1.09it/s]"
          ]
        },
        {
          "name": "stdout",
          "output_type": "stream",
          "text": [
            "Got KeyError, skipping\n",
            "Error fetching the article: Per Olsen\n"
          ]
        },
        {
          "name": "stderr",
          "output_type": "stream",
          "text": [
            " 28%|██▊       | 4649/16819 [1:24:19<3:13:29,  1.05it/s]"
          ]
        },
        {
          "name": "stdout",
          "output_type": "stream",
          "text": [
            "Got KeyError, skipping\n",
            "Error fetching the article: Ragnvald Olsen (motstandsmann)\n"
          ]
        },
        {
          "name": "stderr",
          "output_type": "stream",
          "text": [
            " 28%|██▊       | 4692/16819 [1:25:10<3:54:35,  1.16s/it]"
          ]
        },
        {
          "name": "stdout",
          "output_type": "stream",
          "text": [
            "Got KeyError, skipping\n",
            "Error fetching the article: Inger Lise Hansen (billedkunstner)\n"
          ]
        },
        {
          "name": "stderr",
          "output_type": "stream",
          "text": [
            " 28%|██▊       | 4755/16819 [1:26:15<3:05:38,  1.08it/s]"
          ]
        },
        {
          "name": "stdout",
          "output_type": "stream",
          "text": [
            "Got PageErrors, skipping\n",
            "Error fetching the article: X Games Norway 2017 – Ski Big Air kvinner\n"
          ]
        },
        {
          "name": "stderr",
          "output_type": "stream",
          "text": [
            " 29%|██▊       | 4827/16819 [1:27:34<3:54:55,  1.18s/it]"
          ]
        },
        {
          "name": "stdout",
          "output_type": "stream",
          "text": [
            "Got KeyError, skipping\n",
            "Error fetching the article: Kr\n"
          ]
        },
        {
          "name": "stderr",
          "output_type": "stream",
          "text": [
            " 29%|██▊       | 4828/16819 [1:27:35<4:09:35,  1.25s/it]"
          ]
        },
        {
          "name": "stdout",
          "output_type": "stream",
          "text": [
            "Got KeyError, skipping\n",
            "Error fetching the article: Rh\n"
          ]
        },
        {
          "name": "stderr",
          "output_type": "stream",
          "text": [
            " 29%|██▉       | 4931/16819 [1:29:35<3:17:36,  1.00it/s]"
          ]
        },
        {
          "name": "stdout",
          "output_type": "stream",
          "text": [
            "Got PageErrors, skipping\n",
            "Error fetching the article: Ylläs–Levi Ski Marathon 2017\n"
          ]
        },
        {
          "name": "stderr",
          "output_type": "stream",
          "text": [
            " 29%|██▉       | 4940/16819 [1:29:44<3:14:39,  1.02it/s]"
          ]
        },
        {
          "name": "stdout",
          "output_type": "stream",
          "text": [
            "Got PageErrors, skipping\n",
            "Error fetching the article: Boksing under Sommer-OL 2004 – Super tungvekt\n"
          ]
        },
        {
          "name": "stderr",
          "output_type": "stream",
          "text": [
            " 30%|██▉       | 4972/16819 [1:30:17<3:26:49,  1.05s/it]"
          ]
        },
        {
          "name": "stdout",
          "output_type": "stream",
          "text": [
            "Got PageErrors, skipping\n",
            "Error fetching the article: Ishockey-VM 2017 (toppdivisjonen) – Tropper\n"
          ]
        },
        {
          "name": "stderr",
          "output_type": "stream",
          "text": [
            " 30%|██▉       | 4980/16819 [1:30:24<3:07:21,  1.05it/s]"
          ]
        },
        {
          "name": "stdout",
          "output_type": "stream",
          "text": [
            "Got PageErrors, skipping\n",
            "Error fetching the article: Stuping under Sommer-OL 2004 – 10 meter menn\n"
          ]
        },
        {
          "name": "stderr",
          "output_type": "stream",
          "text": [
            " 30%|██▉       | 4987/16819 [1:30:34<4:57:05,  1.51s/it]"
          ]
        },
        {
          "name": "stdout",
          "output_type": "stream",
          "text": [
            "Got PageErrors, skipping\n",
            "Error fetching the article: Sykling under Sommer-OL 2004 – Fellesstart kvinner\n"
          ]
        },
        {
          "name": "stderr",
          "output_type": "stream",
          "text": [
            " 30%|██▉       | 4988/16819 [1:30:35<4:23:04,  1.33s/it]"
          ]
        },
        {
          "name": "stdout",
          "output_type": "stream",
          "text": [
            "Got PageErrors, skipping\n",
            "Error fetching the article: Sykling under Sommer-OL 2004 – Poengritt 40 km menn\n"
          ]
        },
        {
          "name": "stderr",
          "output_type": "stream",
          "text": [
            " 30%|███       | 5070/16819 [1:32:04<3:29:46,  1.07s/it]"
          ]
        },
        {
          "name": "stdout",
          "output_type": "stream",
          "text": [
            "Got PageErrors, skipping\n",
            "Error fetching the article: Toppdivisjonen i ishockey-VM 2018 for menn\n"
          ]
        },
        {
          "name": "stderr",
          "output_type": "stream",
          "text": [
            " 31%|███       | 5193/16819 [1:34:38<3:39:06,  1.13s/it]"
          ]
        },
        {
          "name": "stdout",
          "output_type": "stream",
          "text": [
            "Got KeyError, skipping\n",
            "Error fetching the article: Terje Johansen\n"
          ]
        },
        {
          "name": "stderr",
          "output_type": "stream",
          "text": [
            " 32%|███▏      | 5456/16819 [1:39:24<3:59:04,  1.26s/it]"
          ]
        },
        {
          "name": "stdout",
          "output_type": "stream",
          "text": [
            "Got PageErrors, skipping\n",
            "Error fetching the article: Stuping under VM i svømmesport 2017 – 1 meter kvinner\n"
          ]
        },
        {
          "name": "stderr",
          "output_type": "stream",
          "text": [
            " 33%|███▎      | 5467/16819 [1:39:37<4:27:28,  1.41s/it]"
          ]
        },
        {
          "name": "stdout",
          "output_type": "stream",
          "text": [
            "Got PageErrors, skipping\n",
            "Error fetching the article: Synkronsvømming under VM i svømmesport 2017 – Lag teknisk\n"
          ]
        },
        {
          "name": "stderr",
          "output_type": "stream",
          "text": [
            " 33%|███▎      | 5511/16819 [1:40:23<2:56:26,  1.07it/s]"
          ]
        },
        {
          "name": "stdout",
          "output_type": "stream",
          "text": [
            "Got PageErrors, skipping\n",
            "Error fetching the article: Synkronsvømming under VM i svømmesport 2017 – Duett fri\n"
          ]
        },
        {
          "name": "stderr",
          "output_type": "stream",
          "text": [
            " 33%|███▎      | 5526/16819 [1:40:40<3:18:57,  1.06s/it]"
          ]
        },
        {
          "name": "stdout",
          "output_type": "stream",
          "text": [
            "Got PageErrors, skipping\n",
            "Error fetching the article: Kars (andre betydninger)\n"
          ]
        },
        {
          "name": "stderr",
          "output_type": "stream",
          "text": [
            " 33%|███▎      | 5551/16819 [1:41:06<3:20:29,  1.07s/it]"
          ]
        },
        {
          "name": "stdout",
          "output_type": "stream",
          "text": [
            "Got PageErrors, skipping\n",
            "Error fetching the article: USA-mesterskapet på 100 miles fjelløp 2017\n"
          ]
        },
        {
          "name": "stderr",
          "output_type": "stream",
          "text": [
            " 33%|███▎      | 5552/16819 [1:41:07<3:04:41,  1.02it/s]"
          ]
        },
        {
          "name": "stdout",
          "output_type": "stream",
          "text": [
            "Got KeyError, skipping\n",
            "Error fetching the article: Rune Nilsen (friidrettsutøver)\n"
          ]
        },
        {
          "name": "stderr",
          "output_type": "stream",
          "text": [
            " 33%|███▎      | 5553/16819 [1:41:08<3:03:01,  1.03it/s]"
          ]
        },
        {
          "name": "stdout",
          "output_type": "stream",
          "text": [
            "Got KeyError, skipping\n",
            "Error fetching the article: Rune Nilsen\n"
          ]
        },
        {
          "name": "stderr",
          "output_type": "stream",
          "text": [
            " 34%|███▎      | 5635/16819 [1:42:33<2:45:21,  1.13it/s]"
          ]
        },
        {
          "name": "stdout",
          "output_type": "stream",
          "text": [
            "Got PageErrors, skipping\n",
            "Error fetching the article: US Open 2017 (tennis)\n"
          ]
        },
        {
          "name": "stderr",
          "output_type": "stream",
          "text": [
            " 34%|███▎      | 5667/16819 [1:43:05<2:55:01,  1.06it/s]"
          ]
        },
        {
          "name": "stdout",
          "output_type": "stream",
          "text": [
            "Got KeyError, skipping\n",
            "Error fetching the article: Tore Hansen (professor)\n"
          ]
        },
        {
          "name": "stderr",
          "output_type": "stream",
          "text": [
            " 34%|███▍      | 5749/16819 [1:44:32<3:09:28,  1.03s/it]"
          ]
        },
        {
          "name": "stdout",
          "output_type": "stream",
          "text": [
            "Got PageErrors, skipping\n",
            "Error fetching the article: VM i landeveissykling 2017 – Kvinnenes temporitt\n"
          ]
        },
        {
          "name": "stderr",
          "output_type": "stream",
          "text": [
            " 34%|███▍      | 5799/16819 [1:45:22<2:56:57,  1.04it/s]"
          ]
        },
        {
          "name": "stdout",
          "output_type": "stream",
          "text": [
            "Got PageErrors, skipping\n",
            "Error fetching the article: Vekt (andre betydninger)\n"
          ]
        },
        {
          "name": "stderr",
          "output_type": "stream",
          "text": [
            " 37%|███▋      | 6146/16819 [1:51:28<3:02:27,  1.03s/it]"
          ]
        },
        {
          "name": "stdout",
          "output_type": "stream",
          "text": [
            "Got PageErrors, skipping\n",
            "Error fetching the article: Kortbane-EM i svømming 2017 – 400 meter frisvømming menn\n"
          ]
        },
        {
          "name": "stderr",
          "output_type": "stream",
          "text": [
            " 37%|███▋      | 6202/16819 [1:52:24<2:37:41,  1.12it/s]"
          ]
        },
        {
          "name": "stdout",
          "output_type": "stream",
          "text": [
            "Got PageErrors, skipping\n",
            "Error fetching the article: Senior-EM i sjakk 2018\n"
          ]
        },
        {
          "name": "stderr",
          "output_type": "stream",
          "text": [
            " 37%|███▋      | 6210/16819 [1:52:32<3:02:34,  1.03s/it]"
          ]
        },
        {
          "name": "stdout",
          "output_type": "stream",
          "text": [
            "Got PageErrors, skipping\n",
            "Error fetching the article: Anne av Slesvig-Holsten-Gottorp\n",
            "Got PageErrors, skipping\n",
            "Error fetching the article: Hongkong under Vinter-OL 2018\n"
          ]
        },
        {
          "name": "stderr",
          "output_type": "stream",
          "text": [
            " 38%|███▊      | 6312/16819 [1:54:14<2:43:24,  1.07it/s]"
          ]
        },
        {
          "name": "stdout",
          "output_type": "stream",
          "text": [
            "Got PageErrors, skipping\n",
            "Error fetching the article: Troppene til Håndball-EM 2018 for menn\n"
          ]
        },
        {
          "name": "stderr",
          "output_type": "stream",
          "text": [
            " 39%|███▊      | 6495/16819 [1:57:16<3:13:37,  1.13s/it]"
          ]
        },
        {
          "name": "stdout",
          "output_type": "stream",
          "text": [
            "Got PageErrors, skipping\n",
            "Error fetching the article: Kim Seon-yeong\n"
          ]
        },
        {
          "name": "stderr",
          "output_type": "stream",
          "text": [
            " 39%|███▊      | 6510/16819 [1:57:35<2:52:49,  1.01s/it]"
          ]
        },
        {
          "name": "stdout",
          "output_type": "stream",
          "text": [
            "Got PageErrors, skipping\n",
            "Error fetching the article: St. Andreasloge\n"
          ]
        },
        {
          "name": "stderr",
          "output_type": "stream",
          "text": [
            " 40%|████      | 6764/16819 [2:02:25<2:33:50,  1.09it/s]"
          ]
        },
        {
          "name": "stdout",
          "output_type": "stream",
          "text": [
            "Got KeyError, skipping\n",
            "Error fetching the article: Schaub\n"
          ]
        },
        {
          "name": "stderr",
          "output_type": "stream",
          "text": [
            " 41%|████      | 6830/16819 [2:03:37<3:04:15,  1.11s/it]"
          ]
        },
        {
          "name": "stdout",
          "output_type": "stream",
          "text": [
            "Got KeyError, skipping\n",
            "Error fetching the article: Rolf Olsen\n"
          ]
        },
        {
          "name": "stderr",
          "output_type": "stream",
          "text": [
            " 41%|████      | 6871/16819 [2:04:25<3:32:03,  1.28s/it]"
          ]
        },
        {
          "name": "stdout",
          "output_type": "stream",
          "text": [
            "Got KeyError, skipping\n",
            "Error fetching the article: Bulldozer (andre betydninger)\n"
          ]
        },
        {
          "name": "stderr",
          "output_type": "stream",
          "text": [
            " 41%|████      | 6925/16819 [2:05:23<2:30:04,  1.10it/s]"
          ]
        },
        {
          "name": "stdout",
          "output_type": "stream",
          "text": [
            "Got KeyError, skipping\n",
            "Error fetching the article: Jan Pedersen (forfatter)\n"
          ]
        },
        {
          "name": "stderr",
          "output_type": "stream",
          "text": [
            " 42%|████▏     | 6985/16819 [2:06:30<2:40:11,  1.02it/s]"
          ]
        },
        {
          "name": "stdout",
          "output_type": "stream",
          "text": [
            "Got KeyError, skipping\n",
            "Error fetching the article: Kjell Johansen (musiker)\n"
          ]
        },
        {
          "name": "stderr",
          "output_type": "stream",
          "text": [
            " 42%|████▏     | 6986/16819 [2:06:31<2:46:10,  1.01s/it]"
          ]
        },
        {
          "name": "stdout",
          "output_type": "stream",
          "text": [
            "Got KeyError, skipping\n",
            "Error fetching the article: Kjell Johansen\n"
          ]
        },
        {
          "name": "stderr",
          "output_type": "stream",
          "text": [
            " 42%|████▏     | 7038/16819 [2:07:21<2:27:56,  1.10it/s]"
          ]
        },
        {
          "name": "stdout",
          "output_type": "stream",
          "text": [
            "Got KeyError, skipping\n",
            "Error fetching the article: Signalen\n"
          ]
        },
        {
          "name": "stderr",
          "output_type": "stream",
          "text": [
            " 42%|████▏     | 7054/16819 [2:07:36<2:32:13,  1.07it/s]"
          ]
        },
        {
          "name": "stdout",
          "output_type": "stream",
          "text": [
            "Got PageErrors, skipping\n",
            "Error fetching the article: Siren (TV-serie)\n"
          ]
        },
        {
          "name": "stderr",
          "output_type": "stream",
          "text": [
            " 42%|████▏     | 7056/16819 [2:07:38<2:28:46,  1.09it/s]"
          ]
        },
        {
          "name": "stdout",
          "output_type": "stream",
          "text": [
            "Got PageErrors, skipping\n",
            "Error fetching the article: Mesterligaen 2018/2019\n"
          ]
        },
        {
          "name": "stderr",
          "output_type": "stream",
          "text": [
            " 43%|████▎     | 7152/16819 [2:09:35<2:20:15,  1.15it/s] "
          ]
        },
        {
          "name": "stdout",
          "output_type": "stream",
          "text": [
            "Got PageErrors, skipping\n",
            "Error fetching the article: Alme (andre betydninger)\n"
          ]
        },
        {
          "name": "stderr",
          "output_type": "stream",
          "text": [
            " 43%|████▎     | 7186/16819 [2:10:12<2:34:38,  1.04it/s]"
          ]
        },
        {
          "name": "stdout",
          "output_type": "stream",
          "text": [
            "Got KeyError, skipping\n",
            "Error fetching the article: Terje Olsen (musiker)\n"
          ]
        },
        {
          "name": "stderr",
          "output_type": "stream",
          "text": [
            " 43%|████▎     | 7188/16819 [2:10:14<2:43:09,  1.02s/it]"
          ]
        },
        {
          "name": "stdout",
          "output_type": "stream",
          "text": [
            "Got KeyError, skipping\n",
            "Error fetching the article: Mo (geologi)\n"
          ]
        },
        {
          "name": "stderr",
          "output_type": "stream",
          "text": [
            " 43%|████▎     | 7201/16819 [2:10:26<2:44:25,  1.03s/it]"
          ]
        },
        {
          "name": "stdout",
          "output_type": "stream",
          "text": [
            "Got KeyError, skipping\n",
            "Error fetching the article: Aranjuez (andre betydninger)\n"
          ]
        },
        {
          "name": "stderr",
          "output_type": "stream",
          "text": [
            " 43%|████▎     | 7234/16819 [2:11:01<2:38:13,  1.01it/s]"
          ]
        },
        {
          "name": "stdout",
          "output_type": "stream",
          "text": [
            "Got KeyError, skipping\n",
            "Error fetching the article: Apollo (turoperatør)\n"
          ]
        },
        {
          "name": "stderr",
          "output_type": "stream",
          "text": [
            " 43%|████▎     | 7235/16819 [2:11:02<2:29:48,  1.07it/s]"
          ]
        },
        {
          "name": "stdout",
          "output_type": "stream",
          "text": [
            "Got KeyError, skipping\n",
            "Error fetching the article: Thomas Hansen (svømmer)\n"
          ]
        },
        {
          "name": "stderr",
          "output_type": "stream",
          "text": [
            " 43%|████▎     | 7280/16819 [2:11:48<3:13:34,  1.22s/it]"
          ]
        },
        {
          "name": "stdout",
          "output_type": "stream",
          "text": [
            "Got KeyError, skipping\n",
            "Error fetching the article: Tor Olsen (friidrettsutøver)\n"
          ]
        },
        {
          "name": "stderr",
          "output_type": "stream",
          "text": [
            " 44%|████▍     | 7415/16819 [2:14:16<2:24:27,  1.08it/s]"
          ]
        },
        {
          "name": "stdout",
          "output_type": "stream",
          "text": [
            "Got PageErrors, skipping\n",
            "Error fetching the article: Para-VM i bueskyting 2017\n"
          ]
        },
        {
          "name": "stderr",
          "output_type": "stream",
          "text": [
            " 44%|████▍     | 7483/16819 [2:15:29<2:36:04,  1.00s/it]"
          ]
        },
        {
          "name": "stdout",
          "output_type": "stream",
          "text": [
            "Got KeyError, skipping\n",
            "Error fetching the article: Apollos\n"
          ]
        },
        {
          "name": "stderr",
          "output_type": "stream",
          "text": [
            " 45%|████▍     | 7541/16819 [2:16:26<2:41:41,  1.05s/it]"
          ]
        },
        {
          "name": "stdout",
          "output_type": "stream",
          "text": [
            "Got PageErrors, skipping\n",
            "Error fetching the article: Vilje\n"
          ]
        },
        {
          "name": "stderr",
          "output_type": "stream",
          "text": [
            " 45%|████▌     | 7622/16819 [2:17:50<3:06:19,  1.22s/it]"
          ]
        },
        {
          "name": "stdout",
          "output_type": "stream",
          "text": [
            "Got PageErrors, skipping\n",
            "Error fetching the article: Augusta av Slesvig-Holsten-Sønderborg-Glücksborg\n"
          ]
        },
        {
          "name": "stderr",
          "output_type": "stream",
          "text": [
            " 46%|████▌     | 7751/16819 [2:20:14<3:12:58,  1.28s/it]"
          ]
        },
        {
          "name": "stdout",
          "output_type": "stream",
          "text": [
            "Got PageErrors, skipping\n",
            "Error fetching the article: Rally-VM 2019\n"
          ]
        },
        {
          "name": "stderr",
          "output_type": "stream",
          "text": [
            " 46%|████▌     | 7756/16819 [2:20:20<2:42:21,  1.07s/it]"
          ]
        },
        {
          "name": "stdout",
          "output_type": "stream",
          "text": [
            "Got KeyError, skipping\n",
            "Error fetching the article: Santa Maria (Bulacan)\n"
          ]
        },
        {
          "name": "stderr",
          "output_type": "stream",
          "text": [
            " 46%|████▌     | 7766/16819 [2:20:32<3:20:17,  1.33s/it]"
          ]
        },
        {
          "name": "stdout",
          "output_type": "stream",
          "text": [
            "Got PageErrors, skipping\n",
            "Error fetching the article: Kortbane-VM i svømming 2014 – 50 meter fri menn\n"
          ]
        },
        {
          "name": "stderr",
          "output_type": "stream",
          "text": [
            " 46%|████▋     | 7805/16819 [2:21:16<2:43:56,  1.09s/it]"
          ]
        },
        {
          "name": "stdout",
          "output_type": "stream",
          "text": [
            "Got KeyError, skipping\n",
            "Error fetching the article: Typologi\n"
          ]
        },
        {
          "name": "stderr",
          "output_type": "stream",
          "text": [
            " 47%|████▋     | 7979/16819 [2:24:41<2:47:32,  1.14s/it]"
          ]
        },
        {
          "name": "stdout",
          "output_type": "stream",
          "text": [
            "Got PageErrors, skipping\n",
            "Error fetching the article: Ski-VM 2019 – 5 kilometer klassisk kvinner kvalifisering\n"
          ]
        },
        {
          "name": "stderr",
          "output_type": "stream",
          "text": [
            " 48%|████▊     | 7991/16819 [2:24:56<2:48:31,  1.15s/it]"
          ]
        },
        {
          "name": "stdout",
          "output_type": "stream",
          "text": [
            "Got KeyError, skipping\n",
            "Error fetching the article: MV\n"
          ]
        },
        {
          "name": "stderr",
          "output_type": "stream",
          "text": [
            " 48%|████▊     | 8009/16819 [2:25:14<2:25:59,  1.01it/s]"
          ]
        },
        {
          "name": "stdout",
          "output_type": "stream",
          "text": [
            "Got PageErrors, skipping\n",
            "Error fetching the article: Sprint-EM i svømming 1992\n"
          ]
        },
        {
          "name": "stderr",
          "output_type": "stream",
          "text": [
            " 48%|████▊     | 8102/16819 [2:26:56<2:34:08,  1.06s/it]"
          ]
        },
        {
          "name": "stdout",
          "output_type": "stream",
          "text": [
            "Got KeyError, skipping\n",
            "Error fetching the article: VT\n"
          ]
        },
        {
          "name": "stderr",
          "output_type": "stream",
          "text": [
            " 48%|████▊     | 8140/16819 [2:27:42<3:02:02,  1.26s/it]"
          ]
        },
        {
          "name": "stdout",
          "output_type": "stream",
          "text": [
            "Got PageErrors, skipping\n",
            "Error fetching the article: Sommer-EYOF 2009\n"
          ]
        },
        {
          "name": "stderr",
          "output_type": "stream",
          "text": [
            " 49%|████▉     | 8202/16819 [2:29:00<3:02:23,  1.27s/it]"
          ]
        },
        {
          "name": "stdout",
          "output_type": "stream",
          "text": [
            "Got PageErrors, skipping\n",
            "Error fetching the article: Baseball under Sommer-OL 2020\n"
          ]
        },
        {
          "name": "stderr",
          "output_type": "stream",
          "text": [
            " 50%|████▉     | 8331/16819 [2:31:30<2:54:29,  1.23s/it]"
          ]
        },
        {
          "name": "stdout",
          "output_type": "stream",
          "text": [
            "Got KeyError, skipping\n",
            "Error fetching the article: Geir Olsen (politiker)\n"
          ]
        },
        {
          "name": "stderr",
          "output_type": "stream",
          "text": [
            " 50%|████▉     | 8372/16819 [2:32:16<2:36:45,  1.11s/it]"
          ]
        },
        {
          "name": "stdout",
          "output_type": "stream",
          "text": [
            "Got PageErrors, skipping\n",
            "Error fetching the article: The Taming of the Shrew (1908)\n"
          ]
        },
        {
          "name": "stderr",
          "output_type": "stream",
          "text": [
            " 50%|████▉     | 8405/16819 [2:32:58<2:55:06,  1.25s/it]"
          ]
        },
        {
          "name": "stdout",
          "output_type": "stream",
          "text": [
            "Got PageErrors, skipping\n",
            "Error fetching the article: Eschborn-Frankfurt 2019\n"
          ]
        },
        {
          "name": "stderr",
          "output_type": "stream",
          "text": [
            " 50%|█████     | 8417/16819 [2:33:11<2:15:21,  1.03it/s]"
          ]
        },
        {
          "name": "stdout",
          "output_type": "stream",
          "text": [
            "Got KeyError, skipping\n",
            "Error fetching the article: Santa Maria (Ilocos Sur)\n"
          ]
        },
        {
          "name": "stderr",
          "output_type": "stream",
          "text": [
            " 52%|█████▏    | 8703/16819 [2:39:30<3:00:35,  1.34s/it]"
          ]
        },
        {
          "name": "stdout",
          "output_type": "stream",
          "text": [
            "Got PageErrors, skipping\n",
            "Error fetching the article: Frederik Vilhelm II av Slesvig-Holsten-Sønderborg-Beck\n"
          ]
        },
        {
          "name": "stderr",
          "output_type": "stream",
          "text": [
            " 52%|█████▏    | 8788/16819 [2:41:23<2:50:53,  1.28s/it]"
          ]
        },
        {
          "name": "stdout",
          "output_type": "stream",
          "text": [
            "Got KeyError, skipping\n",
            "Error fetching the article: Thomas Pettersen\n"
          ]
        },
        {
          "name": "stderr",
          "output_type": "stream",
          "text": [
            " 52%|█████▏    | 8808/16819 [2:41:46<2:48:07,  1.26s/it]"
          ]
        },
        {
          "name": "stdout",
          "output_type": "stream",
          "text": [
            "Got PageErrors, skipping\n",
            "Error fetching the article: Baseball under Sommer-OL 2008 – Tropper\n"
          ]
        },
        {
          "name": "stderr",
          "output_type": "stream",
          "text": [
            " 54%|█████▍    | 9057/16819 [2:47:32<2:40:41,  1.24s/it]"
          ]
        },
        {
          "name": "stdout",
          "output_type": "stream",
          "text": [
            "Got KeyError, skipping\n",
            "Error fetching the article: JS++\n"
          ]
        },
        {
          "name": "stderr",
          "output_type": "stream",
          "text": [
            " 54%|█████▍    | 9062/16819 [2:47:38<2:22:50,  1.10s/it]"
          ]
        },
        {
          "name": "stdout",
          "output_type": "stream",
          "text": [
            "Got KeyError, skipping\n",
            "Error fetching the article: Snarveien (Hønefoss)\n"
          ]
        },
        {
          "name": "stderr",
          "output_type": "stream",
          "text": [
            " 54%|█████▍    | 9141/16819 [2:49:25<2:40:07,  1.25s/it]"
          ]
        },
        {
          "name": "stdout",
          "output_type": "stream",
          "text": [
            "Got PageErrors, skipping\n",
            "Error fetching the article: EM i friidrett 2012 – Spydkast menn\n"
          ]
        },
        {
          "name": "stderr",
          "output_type": "stream",
          "text": [
            " 54%|█████▍    | 9142/16819 [2:49:26<2:32:56,  1.20s/it]"
          ]
        },
        {
          "name": "stdout",
          "output_type": "stream",
          "text": [
            "Got KeyError, skipping\n",
            "Error fetching the article: Lars Larsen (dansk forretningsmann)\n"
          ]
        },
        {
          "name": "stderr",
          "output_type": "stream",
          "text": [
            " 56%|█████▌    | 9381/16819 [2:54:38<2:38:47,  1.28s/it]"
          ]
        },
        {
          "name": "stdout",
          "output_type": "stream",
          "text": [
            "Got PageErrors, skipping\n",
            "Error fetching the article: Friederike av Slesvig-Holstein-Sønderborg-Beck\n"
          ]
        },
        {
          "name": "stderr",
          "output_type": "stream",
          "text": [
            " 56%|█████▌    | 9386/16819 [2:54:44<2:28:27,  1.20s/it]"
          ]
        },
        {
          "name": "stdout",
          "output_type": "stream",
          "text": [
            "Got PageErrors, skipping\n",
            "Error fetching the article: VM i friidrett 2019 – 20 kilometer kappgang kvinner\n"
          ]
        },
        {
          "name": "stderr",
          "output_type": "stream",
          "text": [
            " 56%|█████▌    | 9407/16819 [2:55:11<2:41:39,  1.31s/it]"
          ]
        },
        {
          "name": "stdout",
          "output_type": "stream",
          "text": [
            "Got PageErrors, skipping\n",
            "Error fetching the article: VM i friidrett 2019 – 20 kilometer kappgang menn\n"
          ]
        },
        {
          "name": "stderr",
          "output_type": "stream",
          "text": [
            " 56%|█████▌    | 9429/16819 [2:55:42<2:28:49,  1.21s/it]"
          ]
        },
        {
          "name": "stdout",
          "output_type": "stream",
          "text": [
            "Got PageErrors, skipping\n",
            "Error fetching the article: Politisk system\n"
          ]
        },
        {
          "name": "stderr",
          "output_type": "stream",
          "text": [
            " 57%|█████▋    | 9556/16819 [2:58:19<2:12:32,  1.09s/it]"
          ]
        },
        {
          "name": "stdout",
          "output_type": "stream",
          "text": [
            "Got PageErrors, skipping\n",
            "Error fetching the article: Badminton under Sommer-OL 2000 – Double menn\n",
            "Got PageErrors, skipping\n",
            "Error fetching the article: Badminton under Sommer-OL 2000 – Mixed double\n"
          ]
        },
        {
          "name": "stderr",
          "output_type": "stream",
          "text": [
            " 57%|█████▋    | 9584/16819 [2:58:57<2:34:02,  1.28s/it]"
          ]
        },
        {
          "name": "stdout",
          "output_type": "stream",
          "text": [
            "Got PageErrors, skipping\n",
            "Error fetching the article: Bosnia-Hercegovina under Sommer-OL 2020\n"
          ]
        },
        {
          "name": "stderr",
          "output_type": "stream",
          "text": [
            " 57%|█████▋    | 9613/16819 [2:59:39<3:10:01,  1.58s/it]"
          ]
        },
        {
          "name": "stdout",
          "output_type": "stream",
          "text": [
            "Got PageErrors, skipping\n",
            "Error fetching the article: Jan-Eric Antonsson\n"
          ]
        },
        {
          "name": "stderr",
          "output_type": "stream",
          "text": [
            " 57%|█████▋    | 9650/16819 [3:00:27<2:13:06,  1.11s/it]"
          ]
        },
        {
          "name": "stdout",
          "output_type": "stream",
          "text": [
            "Got KeyError, skipping\n",
            "Error fetching the article: Santa Maria (Pangasinan)\n",
            "Got KeyError, skipping\n",
            "Error fetching the article: Santa Maria (Isabela)\n"
          ]
        },
        {
          "name": "stderr",
          "output_type": "stream",
          "text": [
            " 57%|█████▋    | 9652/16819 [3:00:29<2:09:17,  1.08s/it]"
          ]
        },
        {
          "name": "stdout",
          "output_type": "stream",
          "text": [
            "Got KeyError, skipping\n",
            "Error fetching the article: Santa Maria (Laguna)\n"
          ]
        },
        {
          "name": "stderr",
          "output_type": "stream",
          "text": [
            " 57%|█████▋    | 9653/16819 [3:00:30<2:00:17,  1.01s/it]"
          ]
        },
        {
          "name": "stdout",
          "output_type": "stream",
          "text": [
            "Got KeyError, skipping\n",
            "Error fetching the article: Santa Maria (Romblon)\n"
          ]
        },
        {
          "name": "stderr",
          "output_type": "stream",
          "text": [
            " 57%|█████▋    | 9664/16819 [3:00:42<2:05:15,  1.05s/it]"
          ]
        },
        {
          "name": "stdout",
          "output_type": "stream",
          "text": [
            "Got PageErrors, skipping\n",
            "Error fetching the article: Para-VM i friidrett 2019 – 100 meter kvinner\n"
          ]
        },
        {
          "name": "stderr",
          "output_type": "stream",
          "text": [
            " 58%|█████▊    | 9706/16819 [3:01:28<2:07:25,  1.07s/it]"
          ]
        },
        {
          "name": "stdout",
          "output_type": "stream",
          "text": [
            "Got PageErrors, skipping\n",
            "Error fetching the article: WTA-touren 2019\n"
          ]
        },
        {
          "name": "stderr",
          "output_type": "stream",
          "text": [
            " 58%|█████▊    | 9718/16819 [3:01:42<2:18:05,  1.17s/it]"
          ]
        },
        {
          "name": "stdout",
          "output_type": "stream",
          "text": [
            "Got PageErrors, skipping\n",
            "Error fetching the article: Engels-2\n"
          ]
        },
        {
          "name": "stderr",
          "output_type": "stream",
          "text": [
            " 58%|█████▊    | 9765/16819 [3:02:46<2:40:02,  1.36s/it]"
          ]
        },
        {
          "name": "stdout",
          "output_type": "stream",
          "text": [
            "Got PageErrors, skipping\n",
            "Error fetching the article: Håndball-VM 2021 for kvinner\n"
          ]
        },
        {
          "name": "stderr",
          "output_type": "stream",
          "text": [
            " 59%|█████▊    | 9877/16819 [3:05:13<2:13:59,  1.16s/it]"
          ]
        },
        {
          "name": "stdout",
          "output_type": "stream",
          "text": [
            "Got PageErrors, skipping\n",
            "Error fetching the article: Filippinene under Sommer-OL 2020\n",
            "Got PageErrors, skipping\n",
            "Error fetching the article: Hongkong under Sommer-OL 2020\n"
          ]
        },
        {
          "name": "stderr",
          "output_type": "stream",
          "text": [
            " 59%|█████▉    | 9902/16819 [3:05:45<2:30:17,  1.30s/it]"
          ]
        },
        {
          "name": "stdout",
          "output_type": "stream",
          "text": [
            "Got PageErrors, skipping\n",
            "Error fetching the article: Arna-Bjørnar Fotball i 2019\n"
          ]
        },
        {
          "name": "stderr",
          "output_type": "stream",
          "text": [
            " 59%|█████▉    | 9905/16819 [3:05:48<2:09:03,  1.12s/it]"
          ]
        },
        {
          "name": "stdout",
          "output_type": "stream",
          "text": [
            "Got PageErrors, skipping\n",
            "Error fetching the article: Ungdoms-EM i sjakk 2019\n"
          ]
        },
        {
          "name": "stderr",
          "output_type": "stream",
          "text": [
            " 59%|█████▉    | 9924/16819 [3:06:10<1:56:49,  1.02s/it]"
          ]
        },
        {
          "name": "stdout",
          "output_type": "stream",
          "text": [
            "Got KeyError, skipping\n",
            "Error fetching the article: Olav Myklebust\n"
          ]
        },
        {
          "name": "stderr",
          "output_type": "stream",
          "text": [
            " 59%|█████▉    | 9954/16819 [3:06:52<2:40:50,  1.41s/it]"
          ]
        },
        {
          "name": "stdout",
          "output_type": "stream",
          "text": [
            "Got PageErrors, skipping\n",
            "Error fetching the article: Elden (andre betydninger)\n"
          ]
        },
        {
          "name": "stderr",
          "output_type": "stream",
          "text": [
            " 59%|█████▉    | 9990/16819 [3:07:35<2:19:25,  1.23s/it]"
          ]
        },
        {
          "name": "stdout",
          "output_type": "stream",
          "text": [
            "Got PageErrors, skipping\n",
            "Error fetching the article: Håndball-VM 2021 for menn\n"
          ]
        },
        {
          "name": "stderr",
          "output_type": "stream",
          "text": [
            " 59%|█████▉    | 10002/16819 [3:07:49<1:56:15,  1.02s/it]"
          ]
        },
        {
          "name": "stdout",
          "output_type": "stream",
          "text": [
            "Got KeyError, skipping\n",
            "Error fetching the article: Tæpping (andre betydninger)\n"
          ]
        },
        {
          "name": "stderr",
          "output_type": "stream",
          "text": [
            " 60%|█████▉    | 10075/16819 [3:09:15<2:02:30,  1.09s/it]"
          ]
        },
        {
          "name": "stdout",
          "output_type": "stream",
          "text": [
            "Got KeyError, skipping\n",
            "Error fetching the article: Rasmussen\n"
          ]
        },
        {
          "name": "stderr",
          "output_type": "stream",
          "text": [
            " 61%|██████    | 10209/16819 [3:11:58<2:44:40,  1.49s/it]"
          ]
        },
        {
          "name": "stdout",
          "output_type": "stream",
          "text": [
            "Got KeyError, skipping\n",
            "Error fetching the article: N-ordet\n"
          ]
        },
        {
          "name": "stderr",
          "output_type": "stream",
          "text": [
            " 61%|██████    | 10224/16819 [3:12:17<2:18:30,  1.26s/it]"
          ]
        },
        {
          "name": "stdout",
          "output_type": "stream",
          "text": [
            "Got PageErrors, skipping\n",
            "Error fetching the article: Håndball-VM 2023 for menn\n"
          ]
        },
        {
          "name": "stderr",
          "output_type": "stream",
          "text": [
            " 61%|██████    | 10225/16819 [3:12:18<2:19:25,  1.27s/it]"
          ]
        },
        {
          "name": "stdout",
          "output_type": "stream",
          "text": [
            "Got PageErrors, skipping\n",
            "Error fetching the article: Håndball-VM 2025 for menn\n"
          ]
        },
        {
          "name": "stderr",
          "output_type": "stream",
          "text": [
            " 61%|██████▏   | 10321/16819 [3:14:27<2:39:52,  1.48s/it]"
          ]
        },
        {
          "name": "stdout",
          "output_type": "stream",
          "text": [
            "Got PageErrors, skippingGot PageErrors, skipping\n",
            "Error fetching the article: Megan Oldham\n",
            "\n",
            "Error fetching the article: Amara (artist)\n",
            "Got PageErrors, skipping\n",
            "Error fetching the article: Gösta Bernhard\n",
            "Got PageErrors, skipping\n",
            "Error fetching the article: Hinrich Lohse\n",
            "Got PageErrors, skipping\n",
            "Error fetching the article: Tamara Popović\n",
            "Got PageErrors, skipping\n",
            "Error fetching the article: WilNor Governmental Services\n"
          ]
        },
        {
          "name": "stderr",
          "output_type": "stream",
          "text": [
            " 61%|██████▏   | 10325/16819 [3:14:32<2:30:12,  1.39s/it]"
          ]
        },
        {
          "name": "stdout",
          "output_type": "stream",
          "text": [
            "Got PageErrors, skipping\n",
            "Error fetching the article: Alfred Landau\n"
          ]
        },
        {
          "name": "stderr",
          "output_type": "stream",
          "text": [
            " 61%|██████▏   | 10326/16819 [3:14:34<2:31:08,  1.40s/it]"
          ]
        },
        {
          "name": "stdout",
          "output_type": "stream",
          "text": [
            "Got PageErrors, skipping\n",
            "Error fetching the article: Massimo Girotti\n",
            "Got PageErrors, skipping\n",
            "Error fetching the article: Barnedauden\n",
            "Got PageErrors, skipping\n",
            "Error fetching the article: Håvard Kleven Lorentsen\n",
            "Got PageErrors, skipping\n",
            "Error fetching the article: Grosses vollständiges Universal-Lexicon Aller Wissenschafften und Künste\n",
            "Got PageErrors, skipping\n",
            "Error fetching the article: Hvitryggribb\n"
          ]
        },
        {
          "name": "stderr",
          "output_type": "stream",
          "text": [
            " 61%|██████▏   | 10327/16819 [3:14:34<2:13:06,  1.23s/it]"
          ]
        },
        {
          "name": "stdout",
          "output_type": "stream",
          "text": [
            "Got PageErrors, skipping\n",
            "Error fetching the article: Boots\n",
            "Got PageErrors, skipping\n",
            "Error fetching the article: Randi Wærdahl (sosiolog)\n",
            "Got PageErrors, skipping\n",
            "Error fetching the article: Eliteserien i håndball for menn 1996/97\n",
            "Got PageErrors, skipping\n",
            "Error fetching the article: Curt Masreliez\n",
            "Got PageErrors, skipping\n",
            "Error fetching the article: Katarina Barruk\n"
          ]
        },
        {
          "name": "stderr",
          "output_type": "stream",
          "text": [
            " 61%|██████▏   | 10329/16819 [3:14:37<2:14:10,  1.24s/it]"
          ]
        },
        {
          "name": "stdout",
          "output_type": "stream",
          "text": [
            "Got PageErrors, skipping\n",
            "Error fetching the article: Lee Ha-eun\n",
            "Got PageErrors, skipping\n",
            "Error fetching the article: Samherjadokumentene\n",
            "Got PageErrors, skipping\n",
            "Error fetching the article: Olle Holmquist\n",
            "Got PageErrors, skipping\n",
            "Error fetching the article: Sergej Petrov\n",
            "Got PageErrors, skipping\n",
            "Error fetching the article: Nikolaj Komlitsjenko\n"
          ]
        },
        {
          "name": "stderr",
          "output_type": "stream",
          "text": [
            " 61%|██████▏   | 10332/16819 [3:14:42<2:36:25,  1.45s/it]"
          ]
        },
        {
          "name": "stdout",
          "output_type": "stream",
          "text": [
            "Got PageErrors, skippingGot PageErrors, skipping\n",
            "Error fetching the article: Valprövningsnämnden\n",
            "Got PageErrors, skipping\n",
            "Error fetching the article: Oddbjørg Skjær Ulvik\n",
            "Got PageErrors, skipping\n",
            "Error fetching the article: Kåre Hagen\n",
            "\n",
            "Error fetching the article: Rolf Luneng\n",
            "Got PageErrors, skipping\n",
            "Error fetching the article: Morten Laane\n",
            "Got PageErrors, skipping\n",
            "Error fetching the article: Høl i hue\n",
            "Got PageErrors, skipping\n",
            "Error fetching the article: Bøljer ombord\n",
            "Got PageErrors, skipping\n",
            "Error fetching the article: Beate Benestad\n",
            "Got PageErrors, skipping\n",
            "Error fetching the article: Max Hansen\n"
          ]
        },
        {
          "name": "stderr",
          "output_type": "stream",
          "text": [
            " 61%|██████▏   | 10333/16819 [3:14:43<2:31:36,  1.40s/it]"
          ]
        },
        {
          "name": "stdout",
          "output_type": "stream",
          "text": [
            "Got PageErrors, skippingGot PageErrors, skipping\n",
            "Error fetching the article: Liste over statsledere i 1728\n",
            "\n",
            "Error fetching the article: Liste over statsledere i 1723\n"
          ]
        },
        {
          "name": "stderr",
          "output_type": "stream",
          "text": [
            " 61%|██████▏   | 10338/16819 [3:14:49<2:31:08,  1.40s/it]"
          ]
        },
        {
          "name": "stdout",
          "output_type": "stream",
          "text": [
            "Got PageErrors, skipping\n",
            "Error fetching the article: Verdenscupen i skiskyting 2020/21\n",
            "Got PageErrors, skipping\n",
            "Error fetching the article: Teraigribb\n",
            "Got PageErrors, skipping\n",
            "Error fetching the article: UNESCOs liste over kvinner i afrikansk historie\n"
          ]
        },
        {
          "name": "stderr",
          "output_type": "stream",
          "text": [
            " 62%|██████▏   | 10370/16819 [3:15:32<1:58:37,  1.10s/it]"
          ]
        },
        {
          "name": "stdout",
          "output_type": "stream",
          "text": [
            "Got PageErrors, skipping\n",
            "Error fetching the article: María Teresa de Borbón-Parma\n"
          ]
        },
        {
          "name": "stderr",
          "output_type": "stream",
          "text": [
            " 62%|██████▏   | 10391/16819 [3:16:11<2:48:02,  1.57s/it]"
          ]
        },
        {
          "name": "stdout",
          "output_type": "stream",
          "text": [
            "Got PageErrors, skippingGot PageErrors, skipping\n",
            "Error fetching the article: Krokantrøffel\n",
            "Got PageErrors, skipping\n",
            "Error fetching the article: Mokkatrøffel\n",
            "Got PageErrors, skipping\n",
            "Error fetching the article: .260 Remington\n",
            "\n",
            "Error fetching the article: Et vokskabinett\n",
            "Got PageErrors, skipping\n",
            "Error fetching the article: Peter Žulj\n",
            "Got PageErrors, skipping\n",
            "Error fetching the article: Binomial (polynom)\n",
            "Got PageErrors, skipping\n",
            "Error fetching the article: Konrad Laimer\n",
            "Got PageErrors, skipping\n",
            "Error fetching the article: Constance Howard\n",
            "Got PageErrors, skipping\n",
            "Error fetching the article: Åste Dokka\n"
          ]
        },
        {
          "name": "stderr",
          "output_type": "stream",
          "text": [
            " 62%|██████▏   | 10407/16819 [3:16:30<2:07:36,  1.19s/it]"
          ]
        },
        {
          "name": "stdout",
          "output_type": "stream",
          "text": [
            "Got KeyError, skipping\n",
            "Error fetching the article: Thomas Hansen (aldringsforsker)\n"
          ]
        },
        {
          "name": "stderr",
          "output_type": "stream",
          "text": [
            " 62%|██████▏   | 10411/16819 [3:16:36<2:12:28,  1.24s/it]"
          ]
        },
        {
          "name": "stdout",
          "output_type": "stream",
          "text": [
            "Got KeyError, skipping\n",
            "Error fetching the article: Roger Rasmussen (fotballspiller)\n"
          ]
        },
        {
          "name": "stderr",
          "output_type": "stream",
          "text": [
            " 62%|██████▏   | 10417/16819 [3:16:42<2:18:12,  1.30s/it]"
          ]
        },
        {
          "name": "stdout",
          "output_type": "stream",
          "text": [
            "Got KeyError, skipping\n",
            "Error fetching the article: Roger Rasmussen\n"
          ]
        },
        {
          "name": "stderr",
          "output_type": "stream",
          "text": [
            " 62%|██████▏   | 10420/16819 [3:16:46<2:01:34,  1.14s/it]"
          ]
        },
        {
          "name": "stdout",
          "output_type": "stream",
          "text": [
            "Got PageErrors, skipping\n",
            "Error fetching the article: GATT (andre betydninger)\n"
          ]
        },
        {
          "name": "stderr",
          "output_type": "stream",
          "text": [
            " 63%|██████▎   | 10512/16819 [3:18:34<1:38:54,  1.06it/s]"
          ]
        },
        {
          "name": "stdout",
          "output_type": "stream",
          "text": [
            "Got KeyError, skipping\n",
            "Error fetching the article: Erikstad\n"
          ]
        },
        {
          "name": "stderr",
          "output_type": "stream",
          "text": [
            " 63%|██████▎   | 10515/16819 [3:18:37<1:40:25,  1.05it/s]"
          ]
        },
        {
          "name": "stdout",
          "output_type": "stream",
          "text": [
            "Got PageErrors, skipping\n",
            "Error fetching the article: Sjakk-OL 1956\n",
            "Got PageErrors, skipping\n",
            "Error fetching the article: Sjakk-OL 1960\n",
            "Got PageErrors, skipping\n",
            "Error fetching the article: Sjakk-OL 1952\n",
            "Got PageErrors, skipping\n",
            "Error fetching the article: Sjakk-OL 1936\n"
          ]
        },
        {
          "name": "stderr",
          "output_type": "stream",
          "text": [
            " 63%|██████▎   | 10516/16819 [3:18:38<1:37:17,  1.08it/s]"
          ]
        },
        {
          "name": "stdout",
          "output_type": "stream",
          "text": [
            "Got PageErrors, skipping\n",
            "Error fetching the article: Sjakk-OL 1972\n",
            "Got PageErrors, skipping\n",
            "Error fetching the article: Sjakk-OL 1964\n",
            "Got PageErrors, skipping\n",
            "Error fetching the article: Sjakk-OL 1968\n",
            "Got PageErrors, skipping\n",
            "Error fetching the article: Sjakk-OL 1976\n",
            "Got PageErrors, skipping\n",
            "Error fetching the article: Sjakk-OL 1980\n"
          ]
        },
        {
          "name": "stderr",
          "output_type": "stream",
          "text": [
            " 63%|██████▎   | 10517/16819 [3:18:39<1:33:30,  1.12it/s]"
          ]
        },
        {
          "name": "stdout",
          "output_type": "stream",
          "text": [
            "Got PageErrors, skipping\n",
            "Error fetching the article: Sjakk-OL 1984\n"
          ]
        },
        {
          "name": "stderr",
          "output_type": "stream",
          "text": [
            " 63%|██████▎   | 10660/16819 [3:21:35<2:17:45,  1.34s/it]"
          ]
        },
        {
          "name": "stdout",
          "output_type": "stream",
          "text": [
            "Got KeyError, skipping\n",
            "Error fetching the article: Tveit (navn)\n"
          ]
        },
        {
          "name": "stderr",
          "output_type": "stream",
          "text": [
            " 64%|██████▎   | 10701/16819 [3:22:20<2:10:34,  1.28s/it]"
          ]
        },
        {
          "name": "stdout",
          "output_type": "stream",
          "text": [
            "Got KeyError, skipping\n",
            "Error fetching the article: Vea (etternavn)\n",
            "Got KeyError, skipping\n",
            "Error fetching the article: Holsen (etternavn)\n"
          ]
        },
        {
          "name": "stderr",
          "output_type": "stream",
          "text": [
            " 64%|██████▎   | 10707/16819 [3:22:28<2:11:46,  1.29s/it]"
          ]
        },
        {
          "name": "stdout",
          "output_type": "stream",
          "text": [
            "Got KeyError, skipping\n",
            "Error fetching the article: Gjerde (navn)\n"
          ]
        },
        {
          "name": "stderr",
          "output_type": "stream",
          "text": [
            " 64%|██████▎   | 10718/16819 [3:22:44<1:51:47,  1.10s/it]"
          ]
        },
        {
          "name": "stdout",
          "output_type": "stream",
          "text": [
            "Got KeyError, skipping\n",
            "Error fetching the article: Eike (etternavn)\n"
          ]
        },
        {
          "name": "stderr",
          "output_type": "stream",
          "text": [
            " 64%|██████▍   | 10733/16819 [3:23:01<2:04:17,  1.23s/it]"
          ]
        },
        {
          "name": "stdout",
          "output_type": "stream",
          "text": [
            "Got KeyError, skipping\n",
            "Error fetching the article: Dahle (etternavn)\n"
          ]
        },
        {
          "name": "stderr",
          "output_type": "stream",
          "text": [
            " 64%|██████▍   | 10767/16819 [3:23:43<1:46:50,  1.06s/it]"
          ]
        },
        {
          "name": "stdout",
          "output_type": "stream",
          "text": [
            "Got KeyError, skipping\n",
            "Error fetching the article: Håland (etternavn)\n"
          ]
        },
        {
          "name": "stderr",
          "output_type": "stream",
          "text": [
            " 64%|██████▍   | 10831/16819 [3:25:09<1:59:10,  1.19s/it]"
          ]
        },
        {
          "name": "stdout",
          "output_type": "stream",
          "text": [
            "Got PageErrors, skippingGot PageErrors, skipping\n",
            "Error fetching the article: Sittacella\n",
            "Got PageErrors, skipping\n",
            "Error fetching the article: Tysk mesterskap i 24-timersløp 2019\n",
            "\n",
            "Error fetching the article: McCall’s Magazine\n",
            "Got PageErrors, skipping\n",
            "Error fetching the article: Burumoseria\n",
            "Got PageErrors, skipping\n",
            "Error fetching the article: Viking Fotballklubb i 2008\n",
            "Got PageErrors, skipping\n",
            "Error fetching the article: Sangariola\n",
            "Got PageErrors, skipping\n",
            "Error fetching the article: Pepila\n",
            "Got PageErrors, skipping\n",
            "Error fetching the article: Tysk mesterskap i ultratrail 2019\n",
            "Got PageErrors, skipping\n",
            "Error fetching the article: Vaktler\n",
            "Got PageErrors, skipping\n",
            "Error fetching the article: Benjamin Tiedemann Hansen\n",
            "Got PageErrors, skipping\n",
            "Error fetching the article: Tysk mesterskap i motbakkeløp 2019\n"
          ]
        },
        {
          "name": "stderr",
          "output_type": "stream",
          "text": [
            " 64%|██████▍   | 10832/16819 [3:25:10<1:45:56,  1.06s/it]"
          ]
        },
        {
          "name": "stdout",
          "output_type": "stream",
          "text": [
            "Got PageErrors, skipping\n",
            "Error fetching the article: Sparebank 68° Nord\n",
            "Got PageErrors, skipping\n",
            "Error fetching the article: Presidente del Gobierno de Canarias\n",
            "Got PageErrors, skipping\n",
            "Error fetching the article: Kuivajärvi\n",
            "Got PageErrors, skipping\n",
            "Error fetching the article: Novapus obscurus\n",
            "Got PageErrors, skipping\n",
            "Error fetching the article: Kommunal vei 100 (Steinkjer)\n",
            "Got PageErrors, skipping\n",
            "Error fetching the article: Musikkåret 1837\n",
            "Got PageErrors, skipping\n",
            "Error fetching the article: Pedethma\n"
          ]
        },
        {
          "name": "stderr",
          "output_type": "stream",
          "text": [
            " 65%|██████▍   | 10849/16819 [3:25:29<1:51:44,  1.12s/it]"
          ]
        },
        {
          "name": "stdout",
          "output_type": "stream",
          "text": [
            "Got KeyError, skipping\n",
            "Error fetching the article: Lia (etternavn)\n"
          ]
        },
        {
          "name": "stderr",
          "output_type": "stream",
          "text": [
            " 65%|██████▍   | 10856/16819 [3:25:36<1:41:11,  1.02s/it]"
          ]
        },
        {
          "name": "stdout",
          "output_type": "stream",
          "text": [
            "Got KeyError, skipping\n",
            "Error fetching the article: Engebretsen\n"
          ]
        },
        {
          "name": "stderr",
          "output_type": "stream",
          "text": [
            " 65%|██████▍   | 10876/16819 [3:26:02<1:53:42,  1.15s/it]"
          ]
        },
        {
          "name": "stdout",
          "output_type": "stream",
          "text": [
            "Got PageErrors, skipping\n",
            "Error fetching the article: Landhockey under Sommer-OL 1948 – Tropper menn\n"
          ]
        },
        {
          "name": "stderr",
          "output_type": "stream",
          "text": [
            " 65%|██████▍   | 10899/16819 [3:26:30<2:01:36,  1.23s/it]"
          ]
        },
        {
          "name": "stdout",
          "output_type": "stream",
          "text": [
            "Got PageErrors, skipping\n",
            "Error fetching the article: Anna-Marie Bjønness-Jacobsen\n"
          ]
        },
        {
          "name": "stderr",
          "output_type": "stream",
          "text": [
            " 65%|██████▍   | 10917/16819 [3:26:52<2:08:29,  1.31s/it]"
          ]
        },
        {
          "name": "stdout",
          "output_type": "stream",
          "text": [
            "Got KeyError, skipping\n",
            "Error fetching the article: Per Olsen (svømmer)\n"
          ]
        },
        {
          "name": "stderr",
          "output_type": "stream",
          "text": [
            " 65%|██████▌   | 10939/16819 [3:27:23<2:16:19,  1.39s/it]"
          ]
        },
        {
          "name": "stdout",
          "output_type": "stream",
          "text": [
            "Got KeyError, skipping\n",
            "Error fetching the article: Kjell Bjørge-Hansen\n"
          ]
        },
        {
          "name": "stderr",
          "output_type": "stream",
          "text": [
            " 65%|██████▌   | 10943/16819 [3:27:28<2:04:05,  1.27s/it]"
          ]
        },
        {
          "name": "stdout",
          "output_type": "stream",
          "text": [
            "Got KeyError, skipping\n",
            "Error fetching the article: Tristanalbatross\n"
          ]
        },
        {
          "name": "stderr",
          "output_type": "stream",
          "text": [
            " 66%|██████▋   | 11181/16819 [3:33:00<2:02:35,  1.30s/it]"
          ]
        },
        {
          "name": "stdout",
          "output_type": "stream",
          "text": [
            "Got PageErrors, skipping\n",
            "Error fetching the article: Bretagne Classic Ouest-France 2020\n"
          ]
        },
        {
          "name": "stderr",
          "output_type": "stream",
          "text": [
            " 67%|██████▋   | 11319/16819 [3:36:07<1:46:52,  1.17s/it]"
          ]
        },
        {
          "name": "stdout",
          "output_type": "stream",
          "text": [
            "Got PageErrors, skipping\n",
            "Error fetching the article: Sveitsisk Superliga 2020–2021\n"
          ]
        },
        {
          "name": "stderr",
          "output_type": "stream",
          "text": [
            " 68%|██████▊   | 11365/16819 [3:37:11<2:22:30,  1.57s/it]"
          ]
        },
        {
          "name": "stdout",
          "output_type": "stream",
          "text": [
            "Got KeyError, skipping\n",
            "Error fetching the article: Sveen (etternavn)\n"
          ]
        },
        {
          "name": "stderr",
          "output_type": "stream",
          "text": [
            " 68%|██████▊   | 11367/16819 [3:37:14<2:14:23,  1.48s/it]"
          ]
        },
        {
          "name": "stdout",
          "output_type": "stream",
          "text": [
            "Got KeyError, skipping\n",
            "Error fetching the article: Egeland (etternavn)\n"
          ]
        },
        {
          "name": "stderr",
          "output_type": "stream",
          "text": [
            " 68%|██████▊   | 11370/16819 [3:37:17<1:50:28,  1.22s/it]"
          ]
        },
        {
          "name": "stdout",
          "output_type": "stream",
          "text": [
            "Got PageErrors, skipping\n",
            "Error fetching the article: Kypriotisk 1. divisjon 2020–2021\n"
          ]
        },
        {
          "name": "stderr",
          "output_type": "stream",
          "text": [
            " 68%|██████▊   | 11375/16819 [3:37:23<1:44:22,  1.15s/it]"
          ]
        },
        {
          "name": "stdout",
          "output_type": "stream",
          "text": [
            "Got PageErrors, skipping\n",
            "Error fetching the article: Primera Divisió 2020–2021\n"
          ]
        },
        {
          "name": "stderr",
          "output_type": "stream",
          "text": [
            " 68%|██████▊   | 11439/16819 [3:38:47<1:37:43,  1.09s/it]"
          ]
        },
        {
          "name": "stdout",
          "output_type": "stream",
          "text": [
            "Got KeyError, skipping\n",
            "Error fetching the article: Holmengrå\n"
          ]
        },
        {
          "name": "stderr",
          "output_type": "stream",
          "text": [
            " 68%|██████▊   | 11497/16819 [3:40:05<1:53:24,  1.28s/it]"
          ]
        },
        {
          "name": "stdout",
          "output_type": "stream",
          "text": [
            "Got PageErrors, skipping\n",
            "Error fetching the article: U23-VM i bryting 2018\n",
            "Got KeyError, skipping\n",
            "Error fetching the article: Madam Felle\n"
          ]
        },
        {
          "name": "stderr",
          "output_type": "stream",
          "text": [
            " 69%|██████▊   | 11559/16819 [3:41:31<1:46:07,  1.21s/it]"
          ]
        },
        {
          "name": "stdout",
          "output_type": "stream",
          "text": [
            "Got KeyError, skipping\n",
            "Error fetching the article: Santa Rosa (California)\n"
          ]
        },
        {
          "name": "stderr",
          "output_type": "stream",
          "text": [
            " 70%|██████▉   | 11748/16819 [3:45:11<1:28:58,  1.05s/it]"
          ]
        },
        {
          "name": "stdout",
          "output_type": "stream",
          "text": [
            "Got PageErrors, skipping\n",
            "Error fetching the article: Primera Divisió 2019–2020\n"
          ]
        },
        {
          "name": "stderr",
          "output_type": "stream",
          "text": [
            " 70%|███████   | 11819/16819 [3:46:45<1:54:17,  1.37s/it]"
          ]
        },
        {
          "name": "stdout",
          "output_type": "stream",
          "text": [
            "Got PageErrors, skipping\n",
            "Error fetching the article: Håndball-EM 2024 for menn\n"
          ]
        },
        {
          "name": "stderr",
          "output_type": "stream",
          "text": [
            " 70%|███████   | 11843/16819 [3:47:15<1:42:39,  1.24s/it]"
          ]
        },
        {
          "name": "stdout",
          "output_type": "stream",
          "text": [
            "Got PageErrors, skipping\n",
            "Error fetching the article: ATP-sluttspillet 2020\n"
          ]
        },
        {
          "name": "stderr",
          "output_type": "stream",
          "text": [
            " 71%|███████▏  | 11986/16819 [3:50:17<1:31:24,  1.13s/it]"
          ]
        },
        {
          "name": "stdout",
          "output_type": "stream",
          "text": [
            "Got PageErrors, skipping\n",
            "Error fetching the article: Håndball-EM 2022 for menn\n"
          ]
        },
        {
          "name": "stderr",
          "output_type": "stream",
          "text": [
            " 72%|███████▏  | 12070/16819 [3:51:59<1:55:27,  1.46s/it]"
          ]
        },
        {
          "name": "stdout",
          "output_type": "stream",
          "text": [
            "Got PageErrors, skipping\n",
            "Error fetching the article: Kvalifisering til Håndball-EM 2022 for menn\n"
          ]
        },
        {
          "name": "stderr",
          "output_type": "stream",
          "text": [
            " 72%|███████▏  | 12083/16819 [3:52:12<1:24:31,  1.07s/it]"
          ]
        },
        {
          "name": "stdout",
          "output_type": "stream",
          "text": [
            "Got PageErrors, skipping\n",
            "Error fetching the article: Håndball-VM 2027 for menn\n"
          ]
        },
        {
          "name": "stderr",
          "output_type": "stream",
          "text": [
            " 72%|███████▏  | 12172/16819 [3:54:14<1:24:51,  1.10s/it]"
          ]
        },
        {
          "name": "stdout",
          "output_type": "stream",
          "text": [
            "Got KeyError, skipping\n",
            "Error fetching the article: Thomas Pettersen (ishockeytrener)\n"
          ]
        },
        {
          "name": "stderr",
          "output_type": "stream",
          "text": [
            " 73%|███████▎  | 12238/16819 [3:55:28<1:23:26,  1.09s/it]"
          ]
        },
        {
          "name": "stdout",
          "output_type": "stream",
          "text": [
            "Got PageErrors, skipping\n",
            "Error fetching the article: Grinde (andre betydninger)\n"
          ]
        },
        {
          "name": "stderr",
          "output_type": "stream",
          "text": [
            " 73%|███████▎  | 12296/16819 [3:56:43<1:17:26,  1.03s/it]"
          ]
        },
        {
          "name": "stdout",
          "output_type": "stream",
          "text": [
            "Got PageErrors, skipping\n",
            "Error fetching the article: Mesterligaen 2021/2022\n"
          ]
        },
        {
          "name": "stderr",
          "output_type": "stream",
          "text": [
            " 73%|███████▎  | 12341/16819 [3:57:41<1:17:27,  1.04s/it]"
          ]
        },
        {
          "name": "stdout",
          "output_type": "stream",
          "text": [
            "Got PageErrors, skipping\n",
            "Error fetching the article: CAC-mesterskapet i friidrett for junior 1986\n"
          ]
        },
        {
          "name": "stderr",
          "output_type": "stream",
          "text": [
            " 74%|███████▍  | 12427/16819 [3:59:18<1:50:34,  1.51s/it]"
          ]
        },
        {
          "name": "stdout",
          "output_type": "stream",
          "text": [
            "Got PageErrors, skipping\n",
            "Error fetching the article: Sør-Koreas herrelandslag i ishockey\n"
          ]
        },
        {
          "name": "stderr",
          "output_type": "stream",
          "text": [
            " 74%|███████▍  | 12482/16819 [4:00:21<1:21:14,  1.12s/it]"
          ]
        },
        {
          "name": "stdout",
          "output_type": "stream",
          "text": [
            "Got PageErrors, skipping\n",
            "Error fetching the article: Hobart (andre betydninger)\n"
          ]
        },
        {
          "name": "stderr",
          "output_type": "stream",
          "text": [
            " 74%|███████▍  | 12486/16819 [4:00:26<1:20:41,  1.12s/it]"
          ]
        },
        {
          "name": "stdout",
          "output_type": "stream",
          "text": [
            "Got PageErrors, skipping\n",
            "Error fetching the article: Elgin (andre betydninger)\n"
          ]
        },
        {
          "name": "stderr",
          "output_type": "stream",
          "text": [
            " 75%|███████▍  | 12533/16819 [4:01:26<1:26:32,  1.21s/it]"
          ]
        },
        {
          "name": "stdout",
          "output_type": "stream",
          "text": [
            "Got PageErrors, skipping\n",
            "Error fetching the article: 1. divisjon i ishockey-VM 2004 for menn\n"
          ]
        },
        {
          "name": "stderr",
          "output_type": "stream",
          "text": [
            " 75%|███████▍  | 12560/16819 [4:01:57<1:11:07,  1.00s/it]"
          ]
        },
        {
          "name": "stdout",
          "output_type": "stream",
          "text": [
            "Got PageErrors, skipping\n",
            "Error fetching the article: Baseball under Sommer-OL 2020 – Kvalifisering\n"
          ]
        },
        {
          "name": "stderr",
          "output_type": "stream",
          "text": [
            " 75%|███████▍  | 12573/16819 [4:02:15<1:49:21,  1.55s/it]"
          ]
        },
        {
          "name": "stdout",
          "output_type": "stream",
          "text": [
            "Got PageErrors, skipping\n",
            "Error fetching the article: Hanstad barne- og ungdomsskole\n"
          ]
        },
        {
          "name": "stderr",
          "output_type": "stream",
          "text": [
            " 76%|███████▌  | 12715/16819 [4:05:26<1:33:10,  1.36s/it]"
          ]
        },
        {
          "name": "stdout",
          "output_type": "stream",
          "text": [
            "Got PageErrors, skipping\n",
            "Error fetching the article: Formel 2-sesongen 2021\n"
          ]
        },
        {
          "name": "stderr",
          "output_type": "stream",
          "text": [
            " 76%|███████▌  | 12760/16819 [4:06:26<1:27:35,  1.29s/it]"
          ]
        },
        {
          "name": "stdout",
          "output_type": "stream",
          "text": [
            "Got PageErrors, skipping\n",
            "Error fetching the article: Den russiske 201. militærbase i Tadsjikistan\n"
          ]
        },
        {
          "name": "stderr",
          "output_type": "stream",
          "text": [
            " 76%|███████▌  | 12789/16819 [4:07:05<1:35:42,  1.43s/it]"
          ]
        },
        {
          "name": "stdout",
          "output_type": "stream",
          "text": [
            "Got PageErrors, skipping\n",
            "Error fetching the article: Para-VM i friidrett\n"
          ]
        },
        {
          "name": "stderr",
          "output_type": "stream",
          "text": [
            " 76%|███████▋  | 12825/16819 [4:07:47<1:22:39,  1.24s/it]"
          ]
        },
        {
          "name": "stdout",
          "output_type": "stream",
          "text": [
            "Got PageErrors, skipping\n",
            "Error fetching the article: Sør-Afrikas herrelandslag i ishockey\n"
          ]
        },
        {
          "name": "stderr",
          "output_type": "stream",
          "text": [
            " 77%|███████▋  | 12872/16819 [4:08:40<1:18:49,  1.20s/it]"
          ]
        },
        {
          "name": "stdout",
          "output_type": "stream",
          "text": [
            "Got KeyError, skipping\n",
            "Error fetching the article: Jan Johansen (administrerende direktør)\n"
          ]
        },
        {
          "name": "stderr",
          "output_type": "stream",
          "text": [
            " 77%|███████▋  | 12905/16819 [4:09:19<1:06:42,  1.02s/it]"
          ]
        },
        {
          "name": "stdout",
          "output_type": "stream",
          "text": [
            "Got PageErrors, skipping\n",
            "Error fetching the article: Friidrett under Sommer-OL 2000 – 400 meter hekk menn\n"
          ]
        },
        {
          "name": "stderr",
          "output_type": "stream",
          "text": [
            " 77%|███████▋  | 12917/16819 [4:09:34<1:18:11,  1.20s/it]"
          ]
        },
        {
          "name": "stdout",
          "output_type": "stream",
          "text": [
            "Got PageErrors, skipping\n",
            "Error fetching the article: 2. Bundesliga 2021–2022\n"
          ]
        },
        {
          "name": "stderr",
          "output_type": "stream",
          "text": [
            " 77%|███████▋  | 12922/16819 [4:09:44<1:53:43,  1.75s/it]"
          ]
        },
        {
          "name": "stdout",
          "output_type": "stream",
          "text": [
            "Got PageErrors, skipping\n",
            "Error fetching the article: U23-EM i friidrett 2021 – Tresteg kvinner\n"
          ]
        },
        {
          "name": "stderr",
          "output_type": "stream",
          "text": [
            " 77%|███████▋  | 12973/16819 [4:11:03<1:09:50,  1.09s/it]"
          ]
        },
        {
          "name": "stdout",
          "output_type": "stream",
          "text": [
            "Got PageErrors, skipping\n",
            "Error fetching the article: Østerriksk Bundesliga 2021–2022\n"
          ]
        },
        {
          "name": "stderr",
          "output_type": "stream",
          "text": [
            " 77%|███████▋  | 12974/16819 [4:11:04<1:07:34,  1.05s/it]"
          ]
        },
        {
          "name": "stdout",
          "output_type": "stream",
          "text": [
            "Got PageErrors, skipping\n",
            "Error fetching the article: Primera Divisió 2021–2022\n"
          ]
        },
        {
          "name": "stderr",
          "output_type": "stream",
          "text": [
            " 77%|███████▋  | 13011/16819 [4:11:50<1:17:38,  1.22s/it]"
          ]
        },
        {
          "name": "stdout",
          "output_type": "stream",
          "text": [
            "Got PageErrors, skipping\n",
            "Error fetching the article: Friidrett under Sommer-OL 2000 – 400 meter menn\n"
          ]
        },
        {
          "name": "stderr",
          "output_type": "stream",
          "text": [
            " 78%|███████▊  | 13087/16819 [4:13:31<1:20:56,  1.30s/it]"
          ]
        },
        {
          "name": "stdout",
          "output_type": "stream",
          "text": [
            "Got PageErrors, skipping\n",
            "Error fetching the article: Friidrett under Sommer-OL 2000 – 1500 meter menn\n"
          ]
        },
        {
          "name": "stderr",
          "output_type": "stream",
          "text": [
            " 78%|███████▊  | 13096/16819 [4:13:44<1:27:11,  1.41s/it]"
          ]
        },
        {
          "name": "stdout",
          "output_type": "stream",
          "text": [
            "Got PageErrors, skipping\n",
            "Error fetching the article: Trangdalselva\n",
            "Got PageErrors, skipping\n",
            "Error fetching the article: Leif Lysvik\n"
          ]
        },
        {
          "name": "stderr",
          "output_type": "stream",
          "text": [
            " 78%|███████▊  | 13146/16819 [4:15:07<1:28:42,  1.45s/it]"
          ]
        },
        {
          "name": "stdout",
          "output_type": "stream",
          "text": [
            "Got PageErrors, skipping\n",
            "Error fetching the article: Baseball under Sommer-OL 2020 – Tropper\n"
          ]
        },
        {
          "name": "stderr",
          "output_type": "stream",
          "text": [
            " 79%|███████▉  | 13252/16819 [4:17:13<58:48,  1.01it/s]  "
          ]
        },
        {
          "name": "stdout",
          "output_type": "stream",
          "text": [
            "Got PageErrors, skipping\n",
            "Error fetching the article: Auguste av Slesvig-Holsten-Sønderborg-Glücksborg\n"
          ]
        },
        {
          "name": "stderr",
          "output_type": "stream",
          "text": [
            " 79%|███████▉  | 13321/16819 [4:18:49<1:17:20,  1.33s/it]"
          ]
        },
        {
          "name": "stdout",
          "output_type": "stream",
          "text": [
            "Got PageErrors, skipping\n",
            "Error fetching the article: Novi (andre betydninger)\n"
          ]
        },
        {
          "name": "stderr",
          "output_type": "stream",
          "text": [
            " 79%|███████▉  | 13322/16819 [4:18:51<1:21:20,  1.40s/it]"
          ]
        },
        {
          "name": "stdout",
          "output_type": "stream",
          "text": [
            "Got PageErrors, skipping\n",
            "Error fetching the article: Isse\n"
          ]
        },
        {
          "name": "stderr",
          "output_type": "stream",
          "text": [
            " 81%|████████  | 13628/16819 [4:26:09<1:04:44,  1.22s/it]"
          ]
        },
        {
          "name": "stdout",
          "output_type": "stream",
          "text": [
            "Got KeyError, skipping\n",
            "Error fetching the article: Olav Myklebust (diplomat)\n"
          ]
        },
        {
          "name": "stderr",
          "output_type": "stream",
          "text": [
            " 81%|████████▏ | 13700/16819 [4:27:42<58:15,  1.12s/it]  "
          ]
        },
        {
          "name": "stdout",
          "output_type": "stream",
          "text": [
            "Got PageErrors, skipping\n",
            "Error fetching the article: Terese (andre betydninger)\n"
          ]
        },
        {
          "name": "stderr",
          "output_type": "stream",
          "text": [
            " 82%|████████▏ | 13801/16819 [4:30:13<1:08:31,  1.36s/it]"
          ]
        },
        {
          "name": "stdout",
          "output_type": "stream",
          "text": [
            "Got PageErrors, skipping\n",
            "Error fetching the article: Formel 1-sesongen 2022\n"
          ]
        },
        {
          "name": "stderr",
          "output_type": "stream",
          "text": [
            " 83%|████████▎ | 13944/16819 [4:33:34<1:10:01,  1.46s/it]"
          ]
        },
        {
          "name": "stdout",
          "output_type": "stream",
          "text": [
            "Got PageErrors, skipping\n",
            "Error fetching the article: Kringkastingsrettigheter for toppdivisjonen i ishockey-VM 2021 for menn\n"
          ]
        },
        {
          "name": "stderr",
          "output_type": "stream",
          "text": [
            " 83%|████████▎ | 13978/16819 [4:34:15<53:11,  1.12s/it]  "
          ]
        },
        {
          "name": "stdout",
          "output_type": "stream",
          "text": [
            "Got PageErrors, skipping\n",
            "Error fetching the article: 3. divisjon i ishockey-VM 2020 for menn\n"
          ]
        },
        {
          "name": "stderr",
          "output_type": "stream",
          "text": [
            " 83%|████████▎ | 13979/16819 [4:34:17<58:22,  1.23s/it]"
          ]
        },
        {
          "name": "stdout",
          "output_type": "stream",
          "text": [
            "Got PageErrors, skipping\n",
            "Error fetching the article: 2. divisjon i ishockey-VM 2020 for menn\n"
          ]
        },
        {
          "name": "stderr",
          "output_type": "stream",
          "text": [
            " 83%|████████▎ | 13981/16819 [4:34:19<58:13,  1.23s/it]  "
          ]
        },
        {
          "name": "stdout",
          "output_type": "stream",
          "text": [
            "Got PageErrors, skipping\n",
            "Error fetching the article: Western & Southern Open 2021\n"
          ]
        },
        {
          "name": "stderr",
          "output_type": "stream",
          "text": [
            " 83%|████████▎ | 13988/16819 [4:34:30<1:04:39,  1.37s/it]"
          ]
        },
        {
          "name": "stdout",
          "output_type": "stream",
          "text": [
            "Got PageErrors, skipping\n",
            "Error fetching the article: Toppdivisjonen i ishockey-VM 2005 for menn\n"
          ]
        },
        {
          "name": "stderr",
          "output_type": "stream",
          "text": [
            " 83%|████████▎ | 13993/16819 [4:34:37<1:07:14,  1.43s/it]"
          ]
        },
        {
          "name": "stdout",
          "output_type": "stream",
          "text": [
            "Got PageErrors, skipping\n",
            "Error fetching the article: Formel 2-sesongen 2022\n"
          ]
        },
        {
          "name": "stderr",
          "output_type": "stream",
          "text": [
            " 83%|████████▎ | 14015/16819 [4:35:08<1:14:08,  1.59s/it]"
          ]
        },
        {
          "name": "stdout",
          "output_type": "stream",
          "text": [
            "Got KeyError, skipping\n",
            "Error fetching the article: Kjøretid\n"
          ]
        },
        {
          "name": "stderr",
          "output_type": "stream",
          "text": [
            " 83%|████████▎ | 14019/16819 [4:35:14<1:13:21,  1.57s/it]"
          ]
        },
        {
          "name": "stdout",
          "output_type": "stream",
          "text": [
            "Got PageErrors, skipping\n",
            "Error fetching the article: Arola (andre betydninger)\n"
          ]
        },
        {
          "name": "stderr",
          "output_type": "stream",
          "text": [
            " 84%|████████▎ | 14055/16819 [4:36:00<1:04:49,  1.41s/it]"
          ]
        },
        {
          "name": "stdout",
          "output_type": "stream",
          "text": [
            "Got PageErrors, skipping\n",
            "Error fetching the article: Håndball-EM 2022 for kvinner\n"
          ]
        },
        {
          "name": "stderr",
          "output_type": "stream",
          "text": [
            " 84%|████████▎ | 14070/16819 [4:36:17<50:11,  1.10s/it]  "
          ]
        },
        {
          "name": "stdout",
          "output_type": "stream",
          "text": [
            "Got PageErrors, skipping\n",
            "Error fetching the article: Hongkong under Vinter-OL 2022\n"
          ]
        },
        {
          "name": "stderr",
          "output_type": "stream",
          "text": [
            " 84%|████████▍ | 14125/16819 [4:37:31<1:00:25,  1.35s/it]"
          ]
        },
        {
          "name": "stdout",
          "output_type": "stream",
          "text": [
            "Got PageErrors, skipping\n",
            "Error fetching the article: Fotballklubben Bodø/Glimt i 2022\n"
          ]
        },
        {
          "name": "stderr",
          "output_type": "stream",
          "text": [
            " 84%|████████▍ | 14163/16819 [4:38:26<1:04:09,  1.45s/it]"
          ]
        },
        {
          "name": "stdout",
          "output_type": "stream",
          "text": [
            "Got KeyError, skipping\n",
            "Error fetching the article: Per Jørgensen\n"
          ]
        },
        {
          "name": "stderr",
          "output_type": "stream",
          "text": [
            " 84%|████████▍ | 14196/16819 [4:39:14<58:39,  1.34s/it]  "
          ]
        },
        {
          "name": "stdout",
          "output_type": "stream",
          "text": [
            "Got PageErrors, skipping\n",
            "Error fetching the article: EM på skøyter 2022 – 3000 meter kvinner\n"
          ]
        },
        {
          "name": "stderr",
          "output_type": "stream",
          "text": [
            " 85%|████████▍ | 14244/16819 [4:40:17<1:00:00,  1.40s/it]"
          ]
        },
        {
          "name": "stdout",
          "output_type": "stream",
          "text": [
            "Got PageErrors, skipping\n",
            "Error fetching the article: Formel 3-sesongen 2022\n"
          ]
        },
        {
          "name": "stderr",
          "output_type": "stream",
          "text": [
            " 85%|████████▌ | 14309/16819 [4:41:36<51:33,  1.23s/it]  "
          ]
        },
        {
          "name": "stdout",
          "output_type": "stream",
          "text": [
            "Got PageErrors, skipping\n",
            "Error fetching the article: Para-VM i snøsport 2022 – Utfor menn\n"
          ]
        },
        {
          "name": "stderr",
          "output_type": "stream",
          "text": [
            " 85%|████████▌ | 14326/16819 [4:41:59<48:34,  1.17s/it]  "
          ]
        },
        {
          "name": "stdout",
          "output_type": "stream",
          "text": [
            "Got PageErrors, skipping\n",
            "Error fetching the article: Para-VM i snøsport 2022 – 7,5km sittende langrenn kvinner\n"
          ]
        },
        {
          "name": "stderr",
          "output_type": "stream",
          "text": [
            " 85%|████████▌ | 14349/16819 [4:42:27<48:30,  1.18s/it]  "
          ]
        },
        {
          "name": "stdout",
          "output_type": "stream",
          "text": [
            "Got PageErrors, skipping\n",
            "Error fetching the article: Rockne\n"
          ]
        },
        {
          "name": "stderr",
          "output_type": "stream",
          "text": [
            " 85%|████████▌ | 14351/16819 [4:42:29<45:34,  1.11s/it]"
          ]
        },
        {
          "name": "stdout",
          "output_type": "stream",
          "text": [
            "Got PageErrors, skipping\n",
            "Error fetching the article: De amerikanske Jomfruøyer under Vinter-OL 2022\n"
          ]
        },
        {
          "name": "stderr",
          "output_type": "stream",
          "text": [
            " 87%|████████▋ | 14558/16819 [4:47:05<58:32,  1.55s/it]  "
          ]
        },
        {
          "name": "stdout",
          "output_type": "stream",
          "text": [
            "Got PageErrors, skipping\n",
            "Error fetching the article: Saint-Loubès\n"
          ]
        },
        {
          "name": "stderr",
          "output_type": "stream",
          "text": [
            " 87%|████████▋ | 14561/16819 [4:47:11<1:16:29,  2.03s/it]"
          ]
        },
        {
          "name": "stdout",
          "output_type": "stream",
          "text": [
            "Got PageErrors, skipping\n",
            "Error fetching the article: Alpint under Vinter-OL 1992 – Slalåm kvinner\n"
          ]
        },
        {
          "name": "stderr",
          "output_type": "stream",
          "text": [
            " 87%|████████▋ | 14574/16819 [4:47:37<49:09,  1.31s/it]  "
          ]
        },
        {
          "name": "stdout",
          "output_type": "stream",
          "text": [
            "Got PageErrors, skipping\n",
            "Error fetching the article: Alpint under Vinter-OL 1992 – Super-G menn\n"
          ]
        },
        {
          "name": "stderr",
          "output_type": "stream",
          "text": [
            " 87%|████████▋ | 14585/16819 [4:47:55<59:14,  1.59s/it]  "
          ]
        },
        {
          "name": "stdout",
          "output_type": "stream",
          "text": [
            "Got PageErrors, skipping\n",
            "Error fetching the article: Alpint under Vinter-OL 1992 – Super-G kvinner\n"
          ]
        },
        {
          "name": "stderr",
          "output_type": "stream",
          "text": [
            " 87%|████████▋ | 14626/16819 [4:48:52<54:32,  1.49s/it]"
          ]
        },
        {
          "name": "stdout",
          "output_type": "stream",
          "text": [
            "Got KeyError, skipping\n",
            "Error fetching the article: Bjørn Hansen\n"
          ]
        },
        {
          "name": "stderr",
          "output_type": "stream",
          "text": [
            " 87%|████████▋ | 14642/16819 [4:49:17<47:39,  1.31s/it]  "
          ]
        },
        {
          "name": "stdout",
          "output_type": "stream",
          "text": [
            "Got PageErrors, skipping\n",
            "Error fetching the article: Lag-VM i kappgang 2018\n"
          ]
        },
        {
          "name": "stderr",
          "output_type": "stream",
          "text": [
            " 87%|████████▋ | 14707/16819 [4:50:33<38:36,  1.10s/it]"
          ]
        },
        {
          "name": "stdout",
          "output_type": "stream",
          "text": [
            "Got PageErrors, skipping\n",
            "Error fetching the article: Maraton-VM i terrengsykling 2010\n"
          ]
        },
        {
          "name": "stderr",
          "output_type": "stream",
          "text": [
            " 88%|████████▊ | 14869/16819 [4:53:36<36:39,  1.13s/it]"
          ]
        },
        {
          "name": "stdout",
          "output_type": "stream",
          "text": [
            "Got PageErrors, skipping\n",
            "Error fetching the article: Den utrolige historien om den kjempestore pæra (film)\n"
          ]
        },
        {
          "name": "stderr",
          "output_type": "stream",
          "text": [
            " 89%|████████▊ | 14910/16819 [4:54:29<39:33,  1.24s/it]  "
          ]
        },
        {
          "name": "stdout",
          "output_type": "stream",
          "text": [
            "Got KeyError, skipping\n",
            "Error fetching the article: Anne Olsen\n"
          ]
        },
        {
          "name": "stderr",
          "output_type": "stream",
          "text": [
            " 89%|████████▉ | 14929/16819 [4:54:48<33:18,  1.06s/it]"
          ]
        },
        {
          "name": "stdout",
          "output_type": "stream",
          "text": [
            "Got KeyError, skipping\n",
            "Error fetching the article: Anne Hansen\n"
          ]
        },
        {
          "name": "stderr",
          "output_type": "stream",
          "text": [
            " 89%|████████▉ | 14933/16819 [4:54:52<34:32,  1.10s/it]"
          ]
        },
        {
          "name": "stdout",
          "output_type": "stream",
          "text": [
            "Got KeyError, skipping\n",
            "Error fetching the article: Anne Johansen\n"
          ]
        },
        {
          "name": "stderr",
          "output_type": "stream",
          "text": [
            " 89%|████████▉ | 14946/16819 [4:55:05<35:57,  1.15s/it]"
          ]
        },
        {
          "name": "stdout",
          "output_type": "stream",
          "text": [
            "Got KeyError, skipping\n",
            "Error fetching the article: Anne Larsen\n"
          ]
        },
        {
          "name": "stderr",
          "output_type": "stream",
          "text": [
            " 89%|████████▉ | 14947/16819 [4:55:06<38:10,  1.22s/it]"
          ]
        },
        {
          "name": "stdout",
          "output_type": "stream",
          "text": [
            "Got KeyError, skipping\n",
            "Error fetching the article: Anne Andersen\n"
          ]
        },
        {
          "name": "stderr",
          "output_type": "stream",
          "text": [
            " 89%|████████▉ | 14950/16819 [4:55:10<37:09,  1.19s/it]"
          ]
        },
        {
          "name": "stdout",
          "output_type": "stream",
          "text": [
            "Got KeyError, skipping\n",
            "Error fetching the article: Jan Larsen\n"
          ]
        },
        {
          "name": "stderr",
          "output_type": "stream",
          "text": [
            " 89%|████████▉ | 14951/16819 [4:55:11<33:46,  1.08s/it]"
          ]
        },
        {
          "name": "stdout",
          "output_type": "stream",
          "text": [
            "Got KeyError, skipping\n",
            "Error fetching the article: Inger Olsen\n"
          ]
        },
        {
          "name": "stderr",
          "output_type": "stream",
          "text": [
            " 89%|████████▉ | 14956/16819 [4:55:16<33:00,  1.06s/it]"
          ]
        },
        {
          "name": "stdout",
          "output_type": "stream",
          "text": [
            "Got KeyError, skipping\n",
            "Error fetching the article: Liv Hansen\n"
          ]
        },
        {
          "name": "stderr",
          "output_type": "stream",
          "text": [
            " 89%|████████▉ | 14957/16819 [4:55:17<37:46,  1.22s/it]"
          ]
        },
        {
          "name": "stdout",
          "output_type": "stream",
          "text": [
            "Got KeyError, skipping\n",
            "Error fetching the article: Marit Olsen\n",
            "Got KeyError, skipping\n",
            "Error fetching the article: Marit Johansen\n",
            "Got KeyError, skipping\n",
            "Error fetching the article: Inger Larsen\n"
          ]
        },
        {
          "name": "stderr",
          "output_type": "stream",
          "text": [
            " 89%|████████▉ | 14959/16819 [4:55:19<32:34,  1.05s/it]"
          ]
        },
        {
          "name": "stdout",
          "output_type": "stream",
          "text": [
            "Got KeyError, skipping\n",
            "Error fetching the article: Bjørn Olsen\n"
          ]
        },
        {
          "name": "stderr",
          "output_type": "stream",
          "text": [
            " 89%|████████▉ | 14960/16819 [4:55:20<30:29,  1.02it/s]"
          ]
        },
        {
          "name": "stdout",
          "output_type": "stream",
          "text": [
            "Got KeyError, skipping\n",
            "Error fetching the article: Jan Pedersen\n"
          ]
        },
        {
          "name": "stderr",
          "output_type": "stream",
          "text": [
            " 89%|████████▉ | 15007/16819 [4:56:10<33:46,  1.12s/it]"
          ]
        },
        {
          "name": "stdout",
          "output_type": "stream",
          "text": [
            "Got KeyError, skipping\n",
            "Error fetching the article: Marit Hansen\n",
            "Got KeyError, skipping\n",
            "Error fetching the article: Kari Olsen\n"
          ]
        },
        {
          "name": "stderr",
          "output_type": "stream",
          "text": [
            " 89%|████████▉ | 15008/16819 [4:56:11<33:44,  1.12s/it]"
          ]
        },
        {
          "name": "stdout",
          "output_type": "stream",
          "text": [
            "Got KeyError, skipping\n",
            "Error fetching the article: Kari Hansen\n",
            "Got KeyError, skipping\n",
            "Error fetching the article: Per Hansen\n"
          ]
        },
        {
          "name": "stderr",
          "output_type": "stream",
          "text": [
            " 89%|████████▉ | 15010/16819 [4:56:13<33:37,  1.12s/it]"
          ]
        },
        {
          "name": "stdout",
          "output_type": "stream",
          "text": [
            "Got KeyError, skipping\n",
            "Error fetching the article: Ole Olsen\n"
          ]
        },
        {
          "name": "stderr",
          "output_type": "stream",
          "text": [
            " 89%|████████▉ | 15018/16819 [4:56:23<38:59,  1.30s/it]"
          ]
        },
        {
          "name": "stdout",
          "output_type": "stream",
          "text": [
            "Got KeyError, skipping\n",
            "Error fetching the article: Per Johansen\n"
          ]
        },
        {
          "name": "stderr",
          "output_type": "stream",
          "text": [
            " 89%|████████▉ | 15019/16819 [4:56:24<36:06,  1.20s/it]"
          ]
        },
        {
          "name": "stdout",
          "output_type": "stream",
          "text": [
            "Got KeyError, skipping\n",
            "Error fetching the article: Inger Nilsen\n",
            "Got KeyError, skipping\n",
            "Error fetching the article: Liv Olsen\n"
          ]
        },
        {
          "name": "stderr",
          "output_type": "stream",
          "text": [
            " 89%|████████▉ | 15022/16819 [4:56:28<35:54,  1.20s/it]"
          ]
        },
        {
          "name": "stdout",
          "output_type": "stream",
          "text": [
            "Got KeyError, skipping\n",
            "Error fetching the article: Bjørn Larsen\n"
          ]
        },
        {
          "name": "stderr",
          "output_type": "stream",
          "text": [
            " 89%|████████▉ | 15028/16819 [4:56:35<37:58,  1.27s/it]"
          ]
        },
        {
          "name": "stdout",
          "output_type": "stream",
          "text": [
            "Got KeyError, skipping\n",
            "Error fetching the article: Inger Pedersen\n"
          ]
        },
        {
          "name": "stderr",
          "output_type": "stream",
          "text": [
            " 89%|████████▉ | 15041/16819 [4:56:50<35:38,  1.20s/it]"
          ]
        },
        {
          "name": "stdout",
          "output_type": "stream",
          "text": [
            "Got PageErrors, skipping\n",
            "Error fetching the article: Utendørs-VM i håndball for kvinner 1949\n"
          ]
        },
        {
          "name": "stderr",
          "output_type": "stream",
          "text": [
            " 90%|████████▉ | 15066/16819 [4:57:21<34:08,  1.17s/it]"
          ]
        },
        {
          "name": "stdout",
          "output_type": "stream",
          "text": [
            "Got KeyError, skipping\n",
            "Error fetching the article: Marianne Olsen\n",
            "Got KeyError, skipping\n",
            "Error fetching the article: Marianne Hansen\n",
            "Got KeyError, skipping\n",
            "Error fetching the article: Elisabeth Olsen\n",
            "Got KeyError, skipping\n",
            "Error fetching the article: Kjell Olsen\n",
            "Got KeyError, skipping\n",
            "Error fetching the article: Bjørn Andersen\n"
          ]
        },
        {
          "name": "stderr",
          "output_type": "stream",
          "text": [
            " 90%|████████▉ | 15117/16819 [4:58:28<36:54,  1.30s/it]"
          ]
        },
        {
          "name": "stdout",
          "output_type": "stream",
          "text": [
            "Got KeyError, skipping\n",
            "Error fetching the article: Geir Olsen\n"
          ]
        },
        {
          "name": "stderr",
          "output_type": "stream",
          "text": [
            " 90%|████████▉ | 15124/16819 [4:58:40<43:36,  1.54s/it]"
          ]
        },
        {
          "name": "stdout",
          "output_type": "stream",
          "text": [
            "Got KeyError, skipping\n",
            "Error fetching the article: Per Larsen\n"
          ]
        },
        {
          "name": "stderr",
          "output_type": "stream",
          "text": [
            " 90%|█████████ | 15220/16819 [5:00:52<32:28,  1.22s/it]"
          ]
        },
        {
          "name": "stdout",
          "output_type": "stream",
          "text": [
            "Got PageErrors, skipping\n",
            "Error fetching the article: Mesterligaen 2022/2023\n"
          ]
        },
        {
          "name": "stderr",
          "output_type": "stream",
          "text": [
            " 91%|█████████ | 15270/16819 [5:02:05<34:19,  1.33s/it]"
          ]
        },
        {
          "name": "stdout",
          "output_type": "stream",
          "text": [
            "Got PageErrors, skipping\n",
            "Error fetching the article: Jaguar (1986)\n"
          ]
        },
        {
          "name": "stderr",
          "output_type": "stream",
          "text": [
            " 91%|█████████▏| 15387/16819 [5:04:53<32:45,  1.37s/it]"
          ]
        },
        {
          "name": "stdout",
          "output_type": "stream",
          "text": [
            "Got KeyError, skipping\n",
            "Error fetching the article: Tor Olsen\n"
          ]
        },
        {
          "name": "stderr",
          "output_type": "stream",
          "text": [
            " 91%|█████████▏| 15388/16819 [5:04:55<33:15,  1.39s/it]"
          ]
        },
        {
          "name": "stdout",
          "output_type": "stream",
          "text": [
            "Got KeyError, skipping\n",
            "Error fetching the article: Terje Olsen\n"
          ]
        },
        {
          "name": "stderr",
          "output_type": "stream",
          "text": [
            " 92%|█████████▏| 15465/16819 [5:06:41<31:26,  1.39s/it]"
          ]
        },
        {
          "name": "stdout",
          "output_type": "stream",
          "text": [
            "Got KeyError, skipping\n",
            "Error fetching the article: Bjørn Pedersen\n"
          ]
        },
        {
          "name": "stderr",
          "output_type": "stream",
          "text": [
            " 92%|█████████▏| 15526/16819 [5:08:06<28:27,  1.32s/it]"
          ]
        },
        {
          "name": "stdout",
          "output_type": "stream",
          "text": [
            "Got PageErrors, skipping\n",
            "Error fetching the article: Catharine Wilhelmine Wedel-Jarlsberg\n"
          ]
        },
        {
          "name": "stderr",
          "output_type": "stream",
          "text": [
            " 93%|█████████▎| 15683/16819 [5:11:49<25:54,  1.37s/it]"
          ]
        },
        {
          "name": "stdout",
          "output_type": "stream",
          "text": [
            "Got PageErrors, skipping\n",
            "Error fetching the article: UEFA Nations League 2022–2023 divisjon A\n"
          ]
        },
        {
          "name": "stderr",
          "output_type": "stream",
          "text": [
            " 93%|█████████▎| 15695/16819 [5:12:04<25:32,  1.36s/it]"
          ]
        },
        {
          "name": "stdout",
          "output_type": "stream",
          "text": [
            "Got PageErrors, skipping\n",
            "Error fetching the article: UEFA Nations League 2022–2023 divisjon C\n"
          ]
        },
        {
          "name": "stderr",
          "output_type": "stream",
          "text": [
            " 93%|█████████▎| 15722/16819 [5:12:44<25:09,  1.38s/it]"
          ]
        },
        {
          "name": "stdout",
          "output_type": "stream",
          "text": [
            "Got KeyError, skipping\n",
            "Error fetching the article: Kari Johansen\n"
          ]
        },
        {
          "name": "stderr",
          "output_type": "stream",
          "text": [
            " 94%|█████████▎| 15727/16819 [5:12:51<24:38,  1.35s/it]"
          ]
        },
        {
          "name": "stdout",
          "output_type": "stream",
          "text": [
            "Got KeyError, skipping\n",
            "Error fetching the article: Geir Hansen\n",
            "Got KeyError, skipping\n",
            "Error fetching the article: Knut Johansen\n"
          ]
        },
        {
          "name": "stderr",
          "output_type": "stream",
          "text": [
            " 94%|█████████▎| 15731/16819 [5:12:56<21:20,  1.18s/it]"
          ]
        },
        {
          "name": "stdout",
          "output_type": "stream",
          "text": [
            "Got KeyError, skipping\n",
            "Error fetching the article: Per på hjørnet\n"
          ]
        },
        {
          "name": "stderr",
          "output_type": "stream",
          "text": [
            " 94%|█████████▎| 15733/16819 [5:12:59<22:58,  1.27s/it]"
          ]
        },
        {
          "name": "stdout",
          "output_type": "stream",
          "text": [
            "Got KeyError, skipping\n",
            "Error fetching the article: Lillefosse\n",
            "Got KeyError, skipping\n",
            "Error fetching the article: Per på Hjørnet (restaurant)\n"
          ]
        },
        {
          "name": "stderr",
          "output_type": "stream",
          "text": [
            " 94%|█████████▎| 15736/16819 [5:13:03<23:38,  1.31s/it]"
          ]
        },
        {
          "name": "stdout",
          "output_type": "stream",
          "text": [
            "Got KeyError, skippingGot KeyError, skipping\n",
            "Error fetching the article: Tveter\n",
            "\n",
            "Error fetching the article: Raa (familienavn)\n"
          ]
        },
        {
          "name": "stderr",
          "output_type": "stream",
          "text": [
            " 94%|█████████▎| 15761/16819 [5:13:36<24:38,  1.40s/it]"
          ]
        },
        {
          "name": "stdout",
          "output_type": "stream",
          "text": [
            "Got PageErrors, skipping\n",
            "Error fetching the article: Teo André Bugge\n"
          ]
        },
        {
          "name": "stderr",
          "output_type": "stream",
          "text": [
            " 94%|█████████▍| 15794/16819 [5:14:21<25:21,  1.48s/it]"
          ]
        },
        {
          "name": "stdout",
          "output_type": "stream",
          "text": [
            "Got PageErrors, skipping\n",
            "Error fetching the article: Kypros’ kvinnelandslag i fotball\n"
          ]
        },
        {
          "name": "stderr",
          "output_type": "stream",
          "text": [
            " 94%|█████████▍| 15837/16819 [5:15:21<22:44,  1.39s/it]"
          ]
        },
        {
          "name": "stdout",
          "output_type": "stream",
          "text": [
            "Got PageErrors, skipping\n",
            "Error fetching the article: Baug (andre betydninger)\n"
          ]
        },
        {
          "name": "stderr",
          "output_type": "stream",
          "text": [
            " 95%|█████████▍| 15917/16819 [5:17:07<19:35,  1.30s/it]"
          ]
        },
        {
          "name": "stdout",
          "output_type": "stream",
          "text": [
            "Got KeyError, skipping\n",
            "Error fetching the article: Raa\n"
          ]
        },
        {
          "name": "stderr",
          "output_type": "stream",
          "text": [
            " 95%|█████████▍| 15933/16819 [5:17:29<19:33,  1.32s/it]"
          ]
        },
        {
          "name": "stdout",
          "output_type": "stream",
          "text": [
            "Got KeyError, skipping\n",
            "Error fetching the article: Austbø\n"
          ]
        },
        {
          "name": "stderr",
          "output_type": "stream",
          "text": [
            " 95%|█████████▌| 15979/16819 [5:18:30<16:44,  1.20s/it]"
          ]
        },
        {
          "name": "stdout",
          "output_type": "stream",
          "text": [
            "Got KeyError, skipping\n",
            "Error fetching the article: Butenschøn\n"
          ]
        },
        {
          "name": "stderr",
          "output_type": "stream",
          "text": [
            " 96%|█████████▌| 16091/16819 [5:21:02<17:41,  1.46s/it]"
          ]
        },
        {
          "name": "stdout",
          "output_type": "stream",
          "text": [
            "Got PageErrors, skipping\n",
            "Error fetching the article: Rose of the World (1918)\n"
          ]
        },
        {
          "name": "stderr",
          "output_type": "stream",
          "text": [
            " 96%|█████████▌| 16139/16819 [5:22:08<15:21,  1.35s/it]"
          ]
        },
        {
          "name": "stdout",
          "output_type": "stream",
          "text": [
            "Got KeyError, skipping\n",
            "Error fetching the article: Rotevatnet (andre betydninger)\n"
          ]
        },
        {
          "name": "stderr",
          "output_type": "stream",
          "text": [
            " 96%|█████████▌| 16154/16819 [5:22:27<14:48,  1.34s/it]"
          ]
        },
        {
          "name": "stdout",
          "output_type": "stream",
          "text": [
            "Got KeyError, skipping\n",
            "Error fetching the article: Mardal\n"
          ]
        },
        {
          "name": "stderr",
          "output_type": "stream",
          "text": [
            " 96%|█████████▌| 16187/16819 [5:23:10<11:18,  1.07s/it]"
          ]
        },
        {
          "name": "stdout",
          "output_type": "stream",
          "text": [
            "Got KeyError, skipping\n",
            "Error fetching the article: Biologisk materiale\n"
          ]
        },
        {
          "name": "stderr",
          "output_type": "stream",
          "text": [
            " 96%|█████████▋| 16199/16819 [5:23:27<12:47,  1.24s/it]"
          ]
        },
        {
          "name": "stdout",
          "output_type": "stream",
          "text": [
            "Got KeyError, skipping\n",
            "Error fetching the article: Føleide\n"
          ]
        },
        {
          "name": "stderr",
          "output_type": "stream",
          "text": [
            " 96%|█████████▋| 16208/16819 [5:23:40<16:24,  1.61s/it]"
          ]
        },
        {
          "name": "stdout",
          "output_type": "stream",
          "text": [
            "Got KeyError, skipping\n",
            "Error fetching the article: Lundestad\n"
          ]
        },
        {
          "name": "stderr",
          "output_type": "stream",
          "text": [
            " 96%|█████████▋| 16209/16819 [5:23:41<14:29,  1.43s/it]"
          ]
        },
        {
          "name": "stdout",
          "output_type": "stream",
          "text": [
            "Got KeyError, skipping\n",
            "Error fetching the article: Indrebø\n"
          ]
        },
        {
          "name": "stderr",
          "output_type": "stream",
          "text": [
            " 96%|█████████▋| 16229/16819 [5:24:07<13:57,  1.42s/it]"
          ]
        },
        {
          "name": "stdout",
          "output_type": "stream",
          "text": [
            "Got KeyError, skipping\n",
            "Error fetching the article: Tor Hansen\n"
          ]
        },
        {
          "name": "stderr",
          "output_type": "stream",
          "text": [
            " 97%|█████████▋| 16237/16819 [5:24:19<14:40,  1.51s/it]"
          ]
        },
        {
          "name": "stdout",
          "output_type": "stream",
          "text": [
            "Got KeyError, skipping\n",
            "Error fetching the article: Bruu\n"
          ]
        },
        {
          "name": "stderr",
          "output_type": "stream",
          "text": [
            " 97%|█████████▋| 16241/16819 [5:24:25<13:01,  1.35s/it]"
          ]
        },
        {
          "name": "stdout",
          "output_type": "stream",
          "text": [
            "Got KeyError, skipping\n",
            "Error fetching the article: Boe (andre betydninger)\n"
          ]
        },
        {
          "name": "stderr",
          "output_type": "stream",
          "text": [
            " 97%|█████████▋| 16252/16819 [5:24:38<11:34,  1.23s/it]"
          ]
        },
        {
          "name": "stdout",
          "output_type": "stream",
          "text": [
            "Got PageErrors, skipping\n",
            "Error fetching the article: Portal (andre betydninger)\n"
          ]
        },
        {
          "name": "stderr",
          "output_type": "stream",
          "text": [
            " 97%|█████████▋| 16285/16819 [5:25:26<12:58,  1.46s/it]"
          ]
        },
        {
          "name": "stdout",
          "output_type": "stream",
          "text": [
            "Got PageErrors, skipping\n",
            "Error fetching the article: Formel 2-sesongen 2019\n"
          ]
        },
        {
          "name": "stderr",
          "output_type": "stream",
          "text": [
            " 97%|█████████▋| 16302/16819 [5:25:47<09:18,  1.08s/it]"
          ]
        },
        {
          "name": "stdout",
          "output_type": "stream",
          "text": [
            "Got PageErrors, skipping\n",
            "Error fetching the article: Holmås\n"
          ]
        },
        {
          "name": "stderr",
          "output_type": "stream",
          "text": [
            " 97%|█████████▋| 16337/16819 [5:26:34<12:29,  1.55s/it]"
          ]
        },
        {
          "name": "stdout",
          "output_type": "stream",
          "text": [
            "Got PageErrors, skipping\n",
            "Error fetching the article: $30,000\n"
          ]
        },
        {
          "name": "stderr",
          "output_type": "stream",
          "text": [
            " 97%|█████████▋| 16342/16819 [5:26:42<12:20,  1.55s/it]"
          ]
        },
        {
          "name": "stdout",
          "output_type": "stream",
          "text": [
            "Got KeyError, skipping\n",
            "Error fetching the article: Lahnstein\n"
          ]
        },
        {
          "name": "stderr",
          "output_type": "stream",
          "text": [
            " 97%|█████████▋| 16360/16819 [5:27:08<10:49,  1.42s/it]"
          ]
        },
        {
          "name": "stdout",
          "output_type": "stream",
          "text": [
            "Got PageErrors, skipping\n",
            "Error fetching the article: Formel 2-sesongen 2018\n"
          ]
        },
        {
          "name": "stderr",
          "output_type": "stream",
          "text": [
            " 97%|█████████▋| 16368/16819 [5:27:19<09:58,  1.33s/it]"
          ]
        },
        {
          "name": "stdout",
          "output_type": "stream",
          "text": [
            "Got PageErrors, skipping\n",
            "Error fetching the article: U23-VM i bryting 2022\n"
          ]
        },
        {
          "name": "stderr",
          "output_type": "stream",
          "text": [
            " 98%|█████████▊| 16433/16819 [5:28:44<08:33,  1.33s/it]"
          ]
        },
        {
          "name": "stdout",
          "output_type": "stream",
          "text": [
            "Got PageErrors, skipping\n",
            "Error fetching the article: Håndball-VM 2027 for kvinner\n"
          ]
        },
        {
          "name": "stderr",
          "output_type": "stream",
          "text": [
            " 98%|█████████▊| 16441/16819 [5:28:55<08:43,  1.38s/it]"
          ]
        },
        {
          "name": "stdout",
          "output_type": "stream",
          "text": [
            "Got PageErrors, skipping\n",
            "Error fetching the article: The Adventure of Sherlock Holmes’ Smarter Brother\n"
          ]
        },
        {
          "name": "stderr",
          "output_type": "stream",
          "text": [
            " 98%|█████████▊| 16449/16819 [5:29:05<08:07,  1.32s/it]"
          ]
        },
        {
          "name": "stdout",
          "output_type": "stream",
          "text": [
            "Got KeyError, skipping\n",
            "Error fetching the article: S (andre betydninger)\n"
          ]
        },
        {
          "name": "stderr",
          "output_type": "stream",
          "text": [
            " 98%|█████████▊| 16453/16819 [5:29:10<07:35,  1.24s/it]"
          ]
        },
        {
          "name": "stdout",
          "output_type": "stream",
          "text": [
            "Got PageErrors, skipping\n",
            "Error fetching the article: Håndball-EM 2024 for kvinner\n"
          ]
        },
        {
          "name": "stderr",
          "output_type": "stream",
          "text": [
            " 99%|█████████▉| 16690/16819 [5:34:37<03:19,  1.54s/it]"
          ]
        },
        {
          "name": "stdout",
          "output_type": "stream",
          "text": [
            "Got KeyError, skipping\n",
            "Error fetching the article: Tidsrom\n"
          ]
        },
        {
          "name": "stderr",
          "output_type": "stream",
          "text": [
            " 99%|█████████▉| 16732/16819 [5:35:29<01:44,  1.20s/it]"
          ]
        },
        {
          "name": "stdout",
          "output_type": "stream",
          "text": [
            "Got PageErrors, skipping\n",
            "Error fetching the article: Italia herrelandslag i håndball\n"
          ]
        },
        {
          "name": "stderr",
          "output_type": "stream",
          "text": [
            "100%|█████████▉| 16771/16819 [5:36:18<00:55,  1.16s/it]"
          ]
        },
        {
          "name": "stdout",
          "output_type": "stream",
          "text": [
            "Got PageErrors, skipping\n",
            "Error fetching the article: Gutta Krutt\n",
            "Got PageErrors, skipping\n",
            "Error fetching the article: Alexander Istad\n"
          ]
        },
        {
          "name": "stderr",
          "output_type": "stream",
          "text": [
            "100%|█████████▉| 16772/16819 [5:36:19<00:50,  1.08s/it]"
          ]
        },
        {
          "name": "stdout",
          "output_type": "stream",
          "text": [
            "Got PageErrors, skipping\n",
            "Error fetching the article: Anders Skoland\n"
          ]
        },
        {
          "name": "stderr",
          "output_type": "stream",
          "text": [
            "100%|█████████▉| 16790/16819 [5:36:42<00:44,  1.53s/it]"
          ]
        },
        {
          "name": "stdout",
          "output_type": "stream",
          "text": [
            "Got KeyError, skipping\n",
            "Error fetching the article: Morten Jensen\n"
          ]
        },
        {
          "name": "stderr",
          "output_type": "stream",
          "text": [
            "100%|█████████▉| 16798/16819 [5:36:51<00:25,  1.21s/it]"
          ]
        },
        {
          "name": "stdout",
          "output_type": "stream",
          "text": [
            "Got PageErrors, skipping\n",
            "Error fetching the article: Luca Lionello\n"
          ]
        },
        {
          "name": "stderr",
          "output_type": "stream",
          "text": [
            "100%|██████████| 16819/16819 [5:37:12<00:00,  1.20s/it]\n"
          ]
        },
        {
          "name": "stdout",
          "output_type": "stream",
          "text": [
            "201819\n",
            "201819 None\n",
            "(201819, 7)\n"
          ]
        }
      ],
      "source": [
        "SPLIT = 3\n",
        "# nowiki_articles = nowiki_df[\"title\"]  # .values[:100]\n",
        "df_split = np.array_split(nowiki_df, 3)\n",
        "no_wiki_split = df_split[SPLIT-1]\n",
        "urls = []\n",
        "headlines = []\n",
        "articles = []\n",
        "ingresses = []\n",
        "categories = []\n",
        "abstracts = []\n",
        "\n",
        "# Split the list of URLs into batches\n",
        "\n",
        "batch_size = 12  # os.cpu_count() - 2\n",
        "num_cores = os.cpu_count() - 2\n",
        "\n",
        "\n",
        "def collect_article_data(name, depth=0):\n",
        "    try:\n",
        "        page = mediawikiapi.page(name)\n",
        "        title = page.title\n",
        "        url = page.url\n",
        "        content = page.content\n",
        "\n",
        "        categories = page.categories\n",
        "        summary = page.summary\n",
        "        # Some if-test to check if the page is a redirected page\n",
        "        # and if there is a valid hit\n",
        "        return title, url, content, summary, categories\n",
        "    except JSONDecodeError as e:\n",
        "        print(\"Got JSONDecodeError, skipping\")\n",
        "        print(f\"Error fetching the article: {name}\")\n",
        "        return name, None, None, None, None\n",
        "\n",
        "        time.sleep(random.random()*10)\n",
        "        if depth < 5:\n",
        "            return collect_article_data(name, depth=depth+1)\n",
        "        else:\n",
        "            print(\"Got JSONDecodeError, skipping\")\n",
        "            print(f\"Error fetching the article: {name}\")\n",
        "            return name, None, None, None, None\n",
        "\n",
        "    except KeyError as e:\n",
        "        print(\"Got KeyError, skipping\")\n",
        "\n",
        "        print(f\"Error fetching the article: {name}\")\n",
        "        return name, None, None, None, None\n",
        "\n",
        "    except PageError as e:\n",
        "        print(\"Got PageErrors, skipping\")\n",
        "\n",
        "        print(f\"Error fetching the article: {name}\")\n",
        "        return name, None, None, None, None\n",
        "\n",
        "    except ConnectionError as e:\n",
        "        print(\"Got PageErrors, skipping\")\n",
        "\n",
        "        print(f\"Error fetching the article: {name}\")\n",
        "        return name, None, None, None, None\n",
        "    except MediaWikiAPIException as e:\n",
        "        print(\"Got PageErrors, skipping\")\n",
        "\n",
        "        print(f\"Error fetching the article: {name}\")\n",
        "        return name, None, None, None, None\n",
        "\n",
        "\n",
        "def main():\n",
        "    # Split the list of URLs into batches\n",
        "    wiki_name_batches = [no_wiki_split.iloc[i:i + batch_size][[\"title\", \"url\", \"abstract\"]]\n",
        "                         for i in range(0, len(no_wiki_split), batch_size)]\n",
        "    # print(wiki_name_batches)\n",
        "\n",
        "    for url_batch in tqdm.tqdm(wiki_name_batches):\n",
        "\n",
        "        with concurrent.futures.ThreadPoolExecutor(max_workers=batch_size) as executor:\n",
        "            res = executor.map(collect_article_data,\n",
        "                               url_batch[\"title\"].values)\n",
        "            i = 0\n",
        "            for result in res:\n",
        "                \n",
        "                title, url, content, summary, category = result\n",
        "                urls.append(url)\n",
        "                articles.append(content)\n",
        "                ingresses.append(summary)\n",
        "                categories.append(category)\n",
        "                headlines.append(title)\n",
        "                abstracts.append(url_batch.iloc[i].abstract)\n",
        "                i += 1\n",
        "                \n",
        "        \"\"\"urls.append(url)\n",
        "        articles.append(content)\n",
        "        ingresses.append(summary)\n",
        "        categories.append(category)\n",
        "        headlines.append(title)\n",
        "        abstracts.append(url_batch.abstract.values)\n",
        "        \"\"\"\n",
        "\n",
        "        \n",
        "\n",
        "    date = dt.datetime.now().strftime(\"%Y-%m-%d\")\n",
        "\n",
        "    dates = [date for _ in range(len(urls))]\n",
        "    print(len(abstracts), print(len(urls)))\n",
        "\n",
        "    nowiki_collected_df = pd.DataFrame({\"url\": urls, \"date_scraped\": dates, \"headline\": headlines,\n",
        "                                        \"category\": categories, \"ingress\": ingresses, \"article\": articles, \"abstract\": abstracts})\n",
        "\n",
        "    print(nowiki_collected_df.shape)\n",
        "    nowiki_collected_df.to_csv(\n",
        "        \"nowiki_collection_abstracts.csv\", index_label=\"id\")\n",
        "    \n",
        "\n",
        "if __name__ == \"__main__\":\n",
        "    main()\n"
      ]
    },
    {
      "cell_type": "markdown",
      "metadata": {
        "id": "ntXiMIvw6sA0"
      },
      "source": [
        "# Ny del"
      ]
    },
    {
      "cell_type": "code",
      "execution_count": 5,
      "metadata": {
        "id": "xc4wcocuzKBt"
      },
      "outputs": [
        {
          "ename": "ArrowMemoryError",
          "evalue": "realloc of size 218103808 failed",
          "output_type": "error",
          "traceback": [
            "\u001b[1;31m---------------------------------------------------------------------------\u001b[0m",
            "\u001b[1;31mArrowMemoryError\u001b[0m                          Traceback (most recent call last)",
            "\u001b[1;32mc:\\Users\\bruker\\repos\\summarization_master\\datasets\\no_wiki\\scrape_nowiki_1.ipynb Cell 8\u001b[0m in \u001b[0;36m<cell line: 2>\u001b[1;34m()\u001b[0m\n\u001b[0;32m      <a href='vscode-notebook-cell:/c%3A/Users/bruker/repos/summarization_master/datasets/no_wiki/scrape_nowiki_1.ipynb#X10sZmlsZQ%3D%3D?line=0'>1</a>\u001b[0m df \u001b[39m=\u001b[39m pd\u001b[39m.\u001b[39mread_csv(\u001b[39m\"\u001b[39m\u001b[39mnowiki_collection_abstracts.csv\u001b[39m\u001b[39m\"\u001b[39m, index_col\u001b[39m=\u001b[39m\u001b[39m0\u001b[39m)\n\u001b[1;32m----> <a href='vscode-notebook-cell:/c%3A/Users/bruker/repos/summarization_master/datasets/no_wiki/scrape_nowiki_1.ipynb#X10sZmlsZQ%3D%3D?line=1'>2</a>\u001b[0m dataset \u001b[39m=\u001b[39m datasets\u001b[39m.\u001b[39;49mDataset\u001b[39m.\u001b[39;49mfrom_pandas(df)\n\u001b[0;32m      <a href='vscode-notebook-cell:/c%3A/Users/bruker/repos/summarization_master/datasets/no_wiki/scrape_nowiki_1.ipynb#X10sZmlsZQ%3D%3D?line=2'>3</a>\u001b[0m dataset\u001b[39m.\u001b[39mpush_to_hub(\u001b[39mf\u001b[39m\u001b[39m\"\u001b[39m\u001b[39mjkorsvik/nowiki_abstract_second_scrape_split\u001b[39m\u001b[39m{\u001b[39;00mSPLIT\u001b[39m}\u001b[39;00m\u001b[39m\"\u001b[39m)\n",
            "File \u001b[1;32mc:\\Python39\\lib\\site-packages\\datasets\\arrow_dataset.py:804\u001b[0m, in \u001b[0;36mDataset.from_pandas\u001b[1;34m(cls, df, features, info, split, preserve_index)\u001b[0m\n\u001b[0;32m    802\u001b[0m     info \u001b[39m=\u001b[39m DatasetInfo()\n\u001b[0;32m    803\u001b[0m info\u001b[39m.\u001b[39mfeatures \u001b[39m=\u001b[39m features\n\u001b[1;32m--> 804\u001b[0m table \u001b[39m=\u001b[39m InMemoryTable\u001b[39m.\u001b[39;49mfrom_pandas(\n\u001b[0;32m    805\u001b[0m     df\u001b[39m=\u001b[39;49mdf,\n\u001b[0;32m    806\u001b[0m     preserve_index\u001b[39m=\u001b[39;49mpreserve_index,\n\u001b[0;32m    807\u001b[0m )\n\u001b[0;32m    808\u001b[0m \u001b[39mif\u001b[39;00m features \u001b[39mis\u001b[39;00m \u001b[39mnot\u001b[39;00m \u001b[39mNone\u001b[39;00m:\n\u001b[0;32m    809\u001b[0m     \u001b[39m# more expensive cast than InMemoryTable.from_pandas(..., schema=features.arrow_schema)\u001b[39;00m\n\u001b[0;32m    810\u001b[0m     \u001b[39m# needed to support the str to Audio conversion for instance\u001b[39;00m\n\u001b[0;32m    811\u001b[0m     table \u001b[39m=\u001b[39m table\u001b[39m.\u001b[39mcast(features\u001b[39m.\u001b[39marrow_schema)\n",
            "File \u001b[1;32mc:\\Python39\\lib\\site-packages\\datasets\\table.py:763\u001b[0m, in \u001b[0;36mInMemoryTable.from_pandas\u001b[1;34m(cls, *args, **kwargs)\u001b[0m\n\u001b[0;32m    707\u001b[0m \u001b[39m@classmethod\u001b[39m\n\u001b[0;32m    708\u001b[0m \u001b[39mdef\u001b[39;00m \u001b[39mfrom_pandas\u001b[39m(\u001b[39mcls\u001b[39m, \u001b[39m*\u001b[39margs, \u001b[39m*\u001b[39m\u001b[39m*\u001b[39mkwargs):\n\u001b[0;32m    709\u001b[0m     \u001b[39m\"\"\"\u001b[39;00m\n\u001b[0;32m    710\u001b[0m \u001b[39m    Convert pandas.DataFrame to an Arrow Table.\u001b[39;00m\n\u001b[0;32m    711\u001b[0m \n\u001b[1;32m   (...)\u001b[0m\n\u001b[0;32m    761\u001b[0m \u001b[39m    ```\u001b[39;00m\n\u001b[0;32m    762\u001b[0m \u001b[39m    \"\"\"\u001b[39;00m\n\u001b[1;32m--> 763\u001b[0m     \u001b[39mreturn\u001b[39;00m \u001b[39mcls\u001b[39m(pa\u001b[39m.\u001b[39mTable\u001b[39m.\u001b[39mfrom_pandas(\u001b[39m*\u001b[39margs, \u001b[39m*\u001b[39m\u001b[39m*\u001b[39mkwargs))\n",
            "File \u001b[1;32mc:\\Python39\\lib\\site-packages\\pyarrow\\table.pxi:3457\u001b[0m, in \u001b[0;36mpyarrow.lib.Table.from_pandas\u001b[1;34m()\u001b[0m\n",
            "File \u001b[1;32mc:\\Python39\\lib\\site-packages\\pyarrow\\pandas_compat.py:607\u001b[0m, in \u001b[0;36mdataframe_to_arrays\u001b[1;34m(df, schema, preserve_index, nthreads, columns, safe)\u001b[0m\n\u001b[0;32m    605\u001b[0m     \u001b[39mfor\u001b[39;00m i, maybe_fut \u001b[39min\u001b[39;00m \u001b[39menumerate\u001b[39m(arrays):\n\u001b[0;32m    606\u001b[0m         \u001b[39mif\u001b[39;00m \u001b[39misinstance\u001b[39m(maybe_fut, futures\u001b[39m.\u001b[39mFuture):\n\u001b[1;32m--> 607\u001b[0m             arrays[i] \u001b[39m=\u001b[39m maybe_fut\u001b[39m.\u001b[39;49mresult()\n\u001b[0;32m    609\u001b[0m types \u001b[39m=\u001b[39m [x\u001b[39m.\u001b[39mtype \u001b[39mfor\u001b[39;00m x \u001b[39min\u001b[39;00m arrays]\n\u001b[0;32m    611\u001b[0m \u001b[39mif\u001b[39;00m schema \u001b[39mis\u001b[39;00m \u001b[39mNone\u001b[39;00m:\n",
            "File \u001b[1;32mc:\\Python39\\lib\\concurrent\\futures\\_base.py:438\u001b[0m, in \u001b[0;36mFuture.result\u001b[1;34m(self, timeout)\u001b[0m\n\u001b[0;32m    436\u001b[0m     \u001b[39mraise\u001b[39;00m CancelledError()\n\u001b[0;32m    437\u001b[0m \u001b[39melif\u001b[39;00m \u001b[39mself\u001b[39m\u001b[39m.\u001b[39m_state \u001b[39m==\u001b[39m FINISHED:\n\u001b[1;32m--> 438\u001b[0m     \u001b[39mreturn\u001b[39;00m \u001b[39mself\u001b[39;49m\u001b[39m.\u001b[39;49m__get_result()\n\u001b[0;32m    440\u001b[0m \u001b[39mself\u001b[39m\u001b[39m.\u001b[39m_condition\u001b[39m.\u001b[39mwait(timeout)\n\u001b[0;32m    442\u001b[0m \u001b[39mif\u001b[39;00m \u001b[39mself\u001b[39m\u001b[39m.\u001b[39m_state \u001b[39min\u001b[39;00m [CANCELLED, CANCELLED_AND_NOTIFIED]:\n",
            "File \u001b[1;32mc:\\Python39\\lib\\concurrent\\futures\\_base.py:390\u001b[0m, in \u001b[0;36mFuture.__get_result\u001b[1;34m(self)\u001b[0m\n\u001b[0;32m    388\u001b[0m \u001b[39mif\u001b[39;00m \u001b[39mself\u001b[39m\u001b[39m.\u001b[39m_exception:\n\u001b[0;32m    389\u001b[0m     \u001b[39mtry\u001b[39;00m:\n\u001b[1;32m--> 390\u001b[0m         \u001b[39mraise\u001b[39;00m \u001b[39mself\u001b[39m\u001b[39m.\u001b[39m_exception\n\u001b[0;32m    391\u001b[0m     \u001b[39mfinally\u001b[39;00m:\n\u001b[0;32m    392\u001b[0m         \u001b[39m# Break a reference cycle with the exception in self._exception\u001b[39;00m\n\u001b[0;32m    393\u001b[0m         \u001b[39mself\u001b[39m \u001b[39m=\u001b[39m \u001b[39mNone\u001b[39;00m\n",
            "File \u001b[1;32mc:\\Python39\\lib\\concurrent\\futures\\thread.py:52\u001b[0m, in \u001b[0;36m_WorkItem.run\u001b[1;34m(self)\u001b[0m\n\u001b[0;32m     49\u001b[0m     \u001b[39mreturn\u001b[39;00m\n\u001b[0;32m     51\u001b[0m \u001b[39mtry\u001b[39;00m:\n\u001b[1;32m---> 52\u001b[0m     result \u001b[39m=\u001b[39m \u001b[39mself\u001b[39m\u001b[39m.\u001b[39mfn(\u001b[39m*\u001b[39m\u001b[39mself\u001b[39m\u001b[39m.\u001b[39margs, \u001b[39m*\u001b[39m\u001b[39m*\u001b[39m\u001b[39mself\u001b[39m\u001b[39m.\u001b[39mkwargs)\n\u001b[0;32m     53\u001b[0m \u001b[39mexcept\u001b[39;00m \u001b[39mBaseException\u001b[39;00m \u001b[39mas\u001b[39;00m exc:\n\u001b[0;32m     54\u001b[0m     \u001b[39mself\u001b[39m\u001b[39m.\u001b[39mfuture\u001b[39m.\u001b[39mset_exception(exc)\n",
            "File \u001b[1;32mc:\\Python39\\lib\\site-packages\\pyarrow\\pandas_compat.py:575\u001b[0m, in \u001b[0;36mdataframe_to_arrays.<locals>.convert_column\u001b[1;34m(col, field)\u001b[0m\n\u001b[0;32m    572\u001b[0m     type_ \u001b[39m=\u001b[39m field\u001b[39m.\u001b[39mtype\n\u001b[0;32m    574\u001b[0m \u001b[39mtry\u001b[39;00m:\n\u001b[1;32m--> 575\u001b[0m     result \u001b[39m=\u001b[39m pa\u001b[39m.\u001b[39;49marray(col, \u001b[39mtype\u001b[39;49m\u001b[39m=\u001b[39;49mtype_, from_pandas\u001b[39m=\u001b[39;49m\u001b[39mTrue\u001b[39;49;00m, safe\u001b[39m=\u001b[39;49msafe)\n\u001b[0;32m    576\u001b[0m \u001b[39mexcept\u001b[39;00m (pa\u001b[39m.\u001b[39mArrowInvalid,\n\u001b[0;32m    577\u001b[0m         pa\u001b[39m.\u001b[39mArrowNotImplementedError,\n\u001b[0;32m    578\u001b[0m         pa\u001b[39m.\u001b[39mArrowTypeError) \u001b[39mas\u001b[39;00m e:\n\u001b[0;32m    579\u001b[0m     e\u001b[39m.\u001b[39margs \u001b[39m+\u001b[39m\u001b[39m=\u001b[39m (\u001b[39m\"\u001b[39m\u001b[39mConversion failed for column \u001b[39m\u001b[39m{!s}\u001b[39;00m\u001b[39m with type \u001b[39m\u001b[39m{!s}\u001b[39;00m\u001b[39m\"\u001b[39m\n\u001b[0;32m    580\u001b[0m                \u001b[39m.\u001b[39mformat(col\u001b[39m.\u001b[39mname, col\u001b[39m.\u001b[39mdtype),)\n",
            "File \u001b[1;32mc:\\Python39\\lib\\site-packages\\pyarrow\\array.pxi:312\u001b[0m, in \u001b[0;36mpyarrow.lib.array\u001b[1;34m()\u001b[0m\n",
            "File \u001b[1;32mc:\\Python39\\lib\\site-packages\\pyarrow\\array.pxi:83\u001b[0m, in \u001b[0;36mpyarrow.lib._ndarray_to_array\u001b[1;34m()\u001b[0m\n",
            "File \u001b[1;32mc:\\Python39\\lib\\site-packages\\pyarrow\\error.pxi:117\u001b[0m, in \u001b[0;36mpyarrow.lib.check_status\u001b[1;34m()\u001b[0m\n",
            "\u001b[1;31mArrowMemoryError\u001b[0m: realloc of size 218103808 failed"
          ]
        }
      ],
      "source": [
        "df = pd.read_csv(\"nowiki_collection_abstracts.csv\", index_col=0)\n",
        "dataset = datasets.Dataset.from_pandas(df)\n",
        "dataset.push_to_hub(f\"jkorsvik/nowiki_abstract_second_scrape_split{SPLIT}\")"
      ]
    },
    {
      "cell_type": "code",
      "execution_count": null,
      "metadata": {
        "id": "hB8F7_cI468y"
      },
      "outputs": [],
      "source": []
    }
  ],
  "metadata": {
    "colab": {
      "provenance": []
    },
    "kernelspec": {
      "display_name": "Python 3",
      "language": "python",
      "name": "python3"
    },
    "language_info": {
      "codemirror_mode": {
        "name": "ipython",
        "version": 3
      },
      "file_extension": ".py",
      "mimetype": "text/x-python",
      "name": "python",
      "nbconvert_exporter": "python",
      "pygments_lexer": "ipython3",
      "version": "3.9.4 (tags/v3.9.4:1f2e308, Apr  4 2021, 13:27:16) [MSC v.1928 64 bit (AMD64)]"
    },
    "vscode": {
      "interpreter": {
        "hash": "81794d4967e6c3204c66dcd87b604927b115b27c00565d3d43f05ba2f3a2cb0d"
      }
    },
    "widgets": {
      "application/vnd.jupyter.widget-state+json": {
        "038831bd31fc41bcb1b5a2383cc0f957": {
          "model_module": "@jupyter-widgets/base",
          "model_module_version": "1.2.0",
          "model_name": "LayoutModel",
          "state": {
            "_model_module": "@jupyter-widgets/base",
            "_model_module_version": "1.2.0",
            "_model_name": "LayoutModel",
            "_view_count": null,
            "_view_module": "@jupyter-widgets/base",
            "_view_module_version": "1.2.0",
            "_view_name": "LayoutView",
            "align_content": null,
            "align_items": null,
            "align_self": null,
            "border": null,
            "bottom": null,
            "display": null,
            "flex": null,
            "flex_flow": null,
            "grid_area": null,
            "grid_auto_columns": null,
            "grid_auto_flow": null,
            "grid_auto_rows": null,
            "grid_column": null,
            "grid_gap": null,
            "grid_row": null,
            "grid_template_areas": null,
            "grid_template_columns": null,
            "grid_template_rows": null,
            "height": null,
            "justify_content": null,
            "justify_items": null,
            "left": null,
            "margin": null,
            "max_height": null,
            "max_width": null,
            "min_height": null,
            "min_width": null,
            "object_fit": null,
            "object_position": null,
            "order": null,
            "overflow": null,
            "overflow_x": null,
            "overflow_y": null,
            "padding": null,
            "right": null,
            "top": null,
            "visibility": null,
            "width": null
          }
        },
        "095f081b2adc416992f1f44ba0be6f0e": {
          "model_module": "@jupyter-widgets/controls",
          "model_module_version": "1.5.0",
          "model_name": "ProgressStyleModel",
          "state": {
            "_model_module": "@jupyter-widgets/controls",
            "_model_module_version": "1.5.0",
            "_model_name": "ProgressStyleModel",
            "_view_count": null,
            "_view_module": "@jupyter-widgets/base",
            "_view_module_version": "1.2.0",
            "_view_name": "StyleView",
            "bar_color": null,
            "description_width": ""
          }
        },
        "09ce4c8c8f3245d989fb48927b2f55c3": {
          "model_module": "@jupyter-widgets/controls",
          "model_module_version": "1.5.0",
          "model_name": "DescriptionStyleModel",
          "state": {
            "_model_module": "@jupyter-widgets/controls",
            "_model_module_version": "1.5.0",
            "_model_name": "DescriptionStyleModel",
            "_view_count": null,
            "_view_module": "@jupyter-widgets/base",
            "_view_module_version": "1.2.0",
            "_view_name": "StyleView",
            "description_width": ""
          }
        },
        "0cdc728bf792468bb921a7ad9f53b7dc": {
          "model_module": "@jupyter-widgets/controls",
          "model_module_version": "1.5.0",
          "model_name": "HTMLModel",
          "state": {
            "_dom_classes": [],
            "_model_module": "@jupyter-widgets/controls",
            "_model_module_version": "1.5.0",
            "_model_name": "HTMLModel",
            "_view_count": null,
            "_view_module": "@jupyter-widgets/controls",
            "_view_module_version": "1.5.0",
            "_view_name": "HTMLView",
            "description": "",
            "description_tooltip": null,
            "layout": "IPY_MODEL_5acf09485889422a8f21269943884b8e",
            "placeholder": "​",
            "style": "IPY_MODEL_95b09941f8554c3ba0dcb4ae3d79f8e1",
            "value": " 560000/605457 [00:01&lt;00:00, 407076.53 examples/s]"
          }
        },
        "0d6b17d73d80406e9792a16c23e468db": {
          "model_module": "@jupyter-widgets/controls",
          "model_module_version": "1.5.0",
          "model_name": "HBoxModel",
          "state": {
            "_dom_classes": [],
            "_model_module": "@jupyter-widgets/controls",
            "_model_module_version": "1.5.0",
            "_model_name": "HBoxModel",
            "_view_count": null,
            "_view_module": "@jupyter-widgets/controls",
            "_view_module_version": "1.5.0",
            "_view_name": "HBoxView",
            "box_style": "",
            "children": [
              "IPY_MODEL_f90ad85151464703bebdb2041cbc7319",
              "IPY_MODEL_c9c1b93b276d40f7811d171d9af59217",
              "IPY_MODEL_91f7b2167d88452c929444f6f0fc9333"
            ],
            "layout": "IPY_MODEL_fd8aeefa28f849c3a1ef9a15a280ac98"
          }
        },
        "0e64a182fdd64946848c5c05ce4ddef1": {
          "model_module": "@jupyter-widgets/controls",
          "model_module_version": "1.5.0",
          "model_name": "HTMLModel",
          "state": {
            "_dom_classes": [],
            "_model_module": "@jupyter-widgets/controls",
            "_model_module_version": "1.5.0",
            "_model_name": "HTMLModel",
            "_view_count": null,
            "_view_module": "@jupyter-widgets/controls",
            "_view_module_version": "1.5.0",
            "_view_name": "HTMLView",
            "description": "",
            "description_tooltip": null,
            "layout": "IPY_MODEL_f894ca555e8a47ca8a4f6a39b75f559f",
            "placeholder": "​",
            "style": "IPY_MODEL_4c8d05759ba74239b05b7f889f100d0d",
            "value": " 1/1 [00:00&lt;00:00, 19.58it/s]"
          }
        },
        "0ff2c0e977af44009a2502cd7eeb8835": {
          "model_module": "@jupyter-widgets/controls",
          "model_module_version": "1.5.0",
          "model_name": "DescriptionStyleModel",
          "state": {
            "_model_module": "@jupyter-widgets/controls",
            "_model_module_version": "1.5.0",
            "_model_name": "DescriptionStyleModel",
            "_view_count": null,
            "_view_module": "@jupyter-widgets/base",
            "_view_module_version": "1.2.0",
            "_view_name": "StyleView",
            "description_width": ""
          }
        },
        "1671dc8eaadd42a8a724d460b069a85c": {
          "model_module": "@jupyter-widgets/controls",
          "model_module_version": "1.5.0",
          "model_name": "DescriptionStyleModel",
          "state": {
            "_model_module": "@jupyter-widgets/controls",
            "_model_module_version": "1.5.0",
            "_model_name": "DescriptionStyleModel",
            "_view_count": null,
            "_view_module": "@jupyter-widgets/base",
            "_view_module_version": "1.2.0",
            "_view_name": "StyleView",
            "description_width": ""
          }
        },
        "1993643fa1334209bcee9135ef9dab96": {
          "model_module": "@jupyter-widgets/base",
          "model_module_version": "1.2.0",
          "model_name": "LayoutModel",
          "state": {
            "_model_module": "@jupyter-widgets/base",
            "_model_module_version": "1.2.0",
            "_model_name": "LayoutModel",
            "_view_count": null,
            "_view_module": "@jupyter-widgets/base",
            "_view_module_version": "1.2.0",
            "_view_name": "LayoutView",
            "align_content": null,
            "align_items": null,
            "align_self": null,
            "border": null,
            "bottom": null,
            "display": null,
            "flex": null,
            "flex_flow": null,
            "grid_area": null,
            "grid_auto_columns": null,
            "grid_auto_flow": null,
            "grid_auto_rows": null,
            "grid_column": null,
            "grid_gap": null,
            "grid_row": null,
            "grid_template_areas": null,
            "grid_template_columns": null,
            "grid_template_rows": null,
            "height": null,
            "justify_content": null,
            "justify_items": null,
            "left": null,
            "margin": null,
            "max_height": null,
            "max_width": null,
            "min_height": null,
            "min_width": null,
            "object_fit": null,
            "object_position": null,
            "order": null,
            "overflow": null,
            "overflow_x": null,
            "overflow_y": null,
            "padding": null,
            "right": null,
            "top": null,
            "visibility": null,
            "width": null
          }
        },
        "1a35aa9ee6ea45d9be45ba4a76659353": {
          "model_module": "@jupyter-widgets/base",
          "model_module_version": "1.2.0",
          "model_name": "LayoutModel",
          "state": {
            "_model_module": "@jupyter-widgets/base",
            "_model_module_version": "1.2.0",
            "_model_name": "LayoutModel",
            "_view_count": null,
            "_view_module": "@jupyter-widgets/base",
            "_view_module_version": "1.2.0",
            "_view_name": "LayoutView",
            "align_content": null,
            "align_items": null,
            "align_self": null,
            "border": null,
            "bottom": null,
            "display": null,
            "flex": null,
            "flex_flow": null,
            "grid_area": null,
            "grid_auto_columns": null,
            "grid_auto_flow": null,
            "grid_auto_rows": null,
            "grid_column": null,
            "grid_gap": null,
            "grid_row": null,
            "grid_template_areas": null,
            "grid_template_columns": null,
            "grid_template_rows": null,
            "height": null,
            "justify_content": null,
            "justify_items": null,
            "left": null,
            "margin": null,
            "max_height": null,
            "max_width": null,
            "min_height": null,
            "min_width": null,
            "object_fit": null,
            "object_position": null,
            "order": null,
            "overflow": null,
            "overflow_x": null,
            "overflow_y": null,
            "padding": null,
            "right": null,
            "top": null,
            "visibility": null,
            "width": null
          }
        },
        "1c67229ddb934b4ca912a341e95a5b89": {
          "model_module": "@jupyter-widgets/controls",
          "model_module_version": "1.5.0",
          "model_name": "HTMLModel",
          "state": {
            "_dom_classes": [],
            "_model_module": "@jupyter-widgets/controls",
            "_model_module_version": "1.5.0",
            "_model_name": "HTMLModel",
            "_view_count": null,
            "_view_module": "@jupyter-widgets/controls",
            "_view_module_version": "1.5.0",
            "_view_name": "HTMLView",
            "description": "",
            "description_tooltip": null,
            "layout": "IPY_MODEL_8c1422f9390f4cfbbfde1b635b9d7dc0",
            "placeholder": "​",
            "style": "IPY_MODEL_d23dfc29a3e54ccb810a543fb4809950",
            "value": "Downloading readme: 100%"
          }
        },
        "2a944a5a847f4395924e1fab59bad767": {
          "model_module": "@jupyter-widgets/base",
          "model_module_version": "1.2.0",
          "model_name": "LayoutModel",
          "state": {
            "_model_module": "@jupyter-widgets/base",
            "_model_module_version": "1.2.0",
            "_model_name": "LayoutModel",
            "_view_count": null,
            "_view_module": "@jupyter-widgets/base",
            "_view_module_version": "1.2.0",
            "_view_name": "LayoutView",
            "align_content": null,
            "align_items": null,
            "align_self": null,
            "border": null,
            "bottom": null,
            "display": null,
            "flex": null,
            "flex_flow": null,
            "grid_area": null,
            "grid_auto_columns": null,
            "grid_auto_flow": null,
            "grid_auto_rows": null,
            "grid_column": null,
            "grid_gap": null,
            "grid_row": null,
            "grid_template_areas": null,
            "grid_template_columns": null,
            "grid_template_rows": null,
            "height": null,
            "justify_content": null,
            "justify_items": null,
            "left": null,
            "margin": null,
            "max_height": null,
            "max_width": null,
            "min_height": null,
            "min_width": null,
            "object_fit": null,
            "object_position": null,
            "order": null,
            "overflow": null,
            "overflow_x": null,
            "overflow_y": null,
            "padding": null,
            "right": null,
            "top": null,
            "visibility": null,
            "width": null
          }
        },
        "2e2e67f8853643fba687db6dabef6ae5": {
          "model_module": "@jupyter-widgets/controls",
          "model_module_version": "1.5.0",
          "model_name": "FloatProgressModel",
          "state": {
            "_dom_classes": [],
            "_model_module": "@jupyter-widgets/controls",
            "_model_module_version": "1.5.0",
            "_model_name": "FloatProgressModel",
            "_view_count": null,
            "_view_module": "@jupyter-widgets/controls",
            "_view_module_version": "1.5.0",
            "_view_name": "ProgressView",
            "bar_style": "success",
            "description": "",
            "description_tooltip": null,
            "layout": "IPY_MODEL_eff5bfd314d445f2a5bfbdf552437e88",
            "max": 1,
            "min": 0,
            "orientation": "horizontal",
            "style": "IPY_MODEL_095f081b2adc416992f1f44ba0be6f0e",
            "value": 1
          }
        },
        "31da61d235cb446ba43e8b742b538a12": {
          "model_module": "@jupyter-widgets/controls",
          "model_module_version": "1.5.0",
          "model_name": "DescriptionStyleModel",
          "state": {
            "_model_module": "@jupyter-widgets/controls",
            "_model_module_version": "1.5.0",
            "_model_name": "DescriptionStyleModel",
            "_view_count": null,
            "_view_module": "@jupyter-widgets/base",
            "_view_module_version": "1.2.0",
            "_view_name": "StyleView",
            "description_width": ""
          }
        },
        "39f17528e61c4e9eb538bede3033af2b": {
          "model_module": "@jupyter-widgets/controls",
          "model_module_version": "1.5.0",
          "model_name": "HBoxModel",
          "state": {
            "_dom_classes": [],
            "_model_module": "@jupyter-widgets/controls",
            "_model_module_version": "1.5.0",
            "_model_name": "HBoxModel",
            "_view_count": null,
            "_view_module": "@jupyter-widgets/controls",
            "_view_module_version": "1.5.0",
            "_view_name": "HBoxView",
            "box_style": "",
            "children": [
              "IPY_MODEL_453152f852e24e36820c0f771ff612cd",
              "IPY_MODEL_48ed351aa0d94c569cbe51169bd7c870",
              "IPY_MODEL_0e64a182fdd64946848c5c05ce4ddef1"
            ],
            "layout": "IPY_MODEL_6bca7b6819684d57bdadd6ca6b1a46bb"
          }
        },
        "453152f852e24e36820c0f771ff612cd": {
          "model_module": "@jupyter-widgets/controls",
          "model_module_version": "1.5.0",
          "model_name": "HTMLModel",
          "state": {
            "_dom_classes": [],
            "_model_module": "@jupyter-widgets/controls",
            "_model_module_version": "1.5.0",
            "_model_name": "HTMLModel",
            "_view_count": null,
            "_view_module": "@jupyter-widgets/controls",
            "_view_module_version": "1.5.0",
            "_view_name": "HTMLView",
            "description": "",
            "description_tooltip": null,
            "layout": "IPY_MODEL_53fb5284a7e04a12a5ea575fa7723fad",
            "placeholder": "​",
            "style": "IPY_MODEL_c7df25af6769497383a63902dfe6947e",
            "value": "Extracting data files: 100%"
          }
        },
        "46047bd4ca1940cabcb3aebdea7d0695": {
          "model_module": "@jupyter-widgets/controls",
          "model_module_version": "1.5.0",
          "model_name": "ProgressStyleModel",
          "state": {
            "_model_module": "@jupyter-widgets/controls",
            "_model_module_version": "1.5.0",
            "_model_name": "ProgressStyleModel",
            "_view_count": null,
            "_view_module": "@jupyter-widgets/base",
            "_view_module_version": "1.2.0",
            "_view_name": "StyleView",
            "bar_color": null,
            "description_width": ""
          }
        },
        "46234f330d4d4b3884c92a524a0e3167": {
          "model_module": "@jupyter-widgets/controls",
          "model_module_version": "1.5.0",
          "model_name": "HBoxModel",
          "state": {
            "_dom_classes": [],
            "_model_module": "@jupyter-widgets/controls",
            "_model_module_version": "1.5.0",
            "_model_name": "HBoxModel",
            "_view_count": null,
            "_view_module": "@jupyter-widgets/controls",
            "_view_module_version": "1.5.0",
            "_view_name": "HBoxView",
            "box_style": "",
            "children": [
              "IPY_MODEL_d00d04938dd44f6c9d4e43fa69cce2d6",
              "IPY_MODEL_cd8aa5a20a7d4a8197bfdd53019bc35b",
              "IPY_MODEL_aec8c96b31c5431f8b59fd972c5a8feb"
            ],
            "layout": "IPY_MODEL_6439e58aba9a48d391123b435ca2fef2"
          }
        },
        "48ed351aa0d94c569cbe51169bd7c870": {
          "model_module": "@jupyter-widgets/controls",
          "model_module_version": "1.5.0",
          "model_name": "FloatProgressModel",
          "state": {
            "_dom_classes": [],
            "_model_module": "@jupyter-widgets/controls",
            "_model_module_version": "1.5.0",
            "_model_name": "FloatProgressModel",
            "_view_count": null,
            "_view_module": "@jupyter-widgets/controls",
            "_view_module_version": "1.5.0",
            "_view_name": "ProgressView",
            "bar_style": "success",
            "description": "",
            "description_tooltip": null,
            "layout": "IPY_MODEL_1993643fa1334209bcee9135ef9dab96",
            "max": 1,
            "min": 0,
            "orientation": "horizontal",
            "style": "IPY_MODEL_de86cb90a14546b5a72fe5f206e1bf38",
            "value": 1
          }
        },
        "4c8d05759ba74239b05b7f889f100d0d": {
          "model_module": "@jupyter-widgets/controls",
          "model_module_version": "1.5.0",
          "model_name": "DescriptionStyleModel",
          "state": {
            "_model_module": "@jupyter-widgets/controls",
            "_model_module_version": "1.5.0",
            "_model_name": "DescriptionStyleModel",
            "_view_count": null,
            "_view_module": "@jupyter-widgets/base",
            "_view_module_version": "1.2.0",
            "_view_name": "StyleView",
            "description_width": ""
          }
        },
        "531fca1350644cb8b70b0ba076525955": {
          "model_module": "@jupyter-widgets/controls",
          "model_module_version": "1.5.0",
          "model_name": "HTMLModel",
          "state": {
            "_dom_classes": [],
            "_model_module": "@jupyter-widgets/controls",
            "_model_module_version": "1.5.0",
            "_model_name": "HTMLModel",
            "_view_count": null,
            "_view_module": "@jupyter-widgets/controls",
            "_view_module_version": "1.5.0",
            "_view_name": "HTMLView",
            "description": "",
            "description_tooltip": null,
            "layout": "IPY_MODEL_8862fda5d6ba4682bec104024dae4e06",
            "placeholder": "​",
            "style": "IPY_MODEL_d141dccd470b4a5ca62ac3c2be971316",
            "value": " 478/478 [00:00&lt;00:00, 12.0kB/s]"
          }
        },
        "53fb5284a7e04a12a5ea575fa7723fad": {
          "model_module": "@jupyter-widgets/base",
          "model_module_version": "1.2.0",
          "model_name": "LayoutModel",
          "state": {
            "_model_module": "@jupyter-widgets/base",
            "_model_module_version": "1.2.0",
            "_model_name": "LayoutModel",
            "_view_count": null,
            "_view_module": "@jupyter-widgets/base",
            "_view_module_version": "1.2.0",
            "_view_name": "LayoutView",
            "align_content": null,
            "align_items": null,
            "align_self": null,
            "border": null,
            "bottom": null,
            "display": null,
            "flex": null,
            "flex_flow": null,
            "grid_area": null,
            "grid_auto_columns": null,
            "grid_auto_flow": null,
            "grid_auto_rows": null,
            "grid_column": null,
            "grid_gap": null,
            "grid_row": null,
            "grid_template_areas": null,
            "grid_template_columns": null,
            "grid_template_rows": null,
            "height": null,
            "justify_content": null,
            "justify_items": null,
            "left": null,
            "margin": null,
            "max_height": null,
            "max_width": null,
            "min_height": null,
            "min_width": null,
            "object_fit": null,
            "object_position": null,
            "order": null,
            "overflow": null,
            "overflow_x": null,
            "overflow_y": null,
            "padding": null,
            "right": null,
            "top": null,
            "visibility": null,
            "width": null
          }
        },
        "5450c2ce05834240ae92b3a41dbb527a": {
          "model_module": "@jupyter-widgets/base",
          "model_module_version": "1.2.0",
          "model_name": "LayoutModel",
          "state": {
            "_model_module": "@jupyter-widgets/base",
            "_model_module_version": "1.2.0",
            "_model_name": "LayoutModel",
            "_view_count": null,
            "_view_module": "@jupyter-widgets/base",
            "_view_module_version": "1.2.0",
            "_view_name": "LayoutView",
            "align_content": null,
            "align_items": null,
            "align_self": null,
            "border": null,
            "bottom": null,
            "display": null,
            "flex": null,
            "flex_flow": null,
            "grid_area": null,
            "grid_auto_columns": null,
            "grid_auto_flow": null,
            "grid_auto_rows": null,
            "grid_column": null,
            "grid_gap": null,
            "grid_row": null,
            "grid_template_areas": null,
            "grid_template_columns": null,
            "grid_template_rows": null,
            "height": null,
            "justify_content": null,
            "justify_items": null,
            "left": null,
            "margin": null,
            "max_height": null,
            "max_width": null,
            "min_height": null,
            "min_width": null,
            "object_fit": null,
            "object_position": null,
            "order": null,
            "overflow": null,
            "overflow_x": null,
            "overflow_y": null,
            "padding": null,
            "right": null,
            "top": null,
            "visibility": null,
            "width": null
          }
        },
        "5acf09485889422a8f21269943884b8e": {
          "model_module": "@jupyter-widgets/base",
          "model_module_version": "1.2.0",
          "model_name": "LayoutModel",
          "state": {
            "_model_module": "@jupyter-widgets/base",
            "_model_module_version": "1.2.0",
            "_model_name": "LayoutModel",
            "_view_count": null,
            "_view_module": "@jupyter-widgets/base",
            "_view_module_version": "1.2.0",
            "_view_name": "LayoutView",
            "align_content": null,
            "align_items": null,
            "align_self": null,
            "border": null,
            "bottom": null,
            "display": null,
            "flex": null,
            "flex_flow": null,
            "grid_area": null,
            "grid_auto_columns": null,
            "grid_auto_flow": null,
            "grid_auto_rows": null,
            "grid_column": null,
            "grid_gap": null,
            "grid_row": null,
            "grid_template_areas": null,
            "grid_template_columns": null,
            "grid_template_rows": null,
            "height": null,
            "justify_content": null,
            "justify_items": null,
            "left": null,
            "margin": null,
            "max_height": null,
            "max_width": null,
            "min_height": null,
            "min_width": null,
            "object_fit": null,
            "object_position": null,
            "order": null,
            "overflow": null,
            "overflow_x": null,
            "overflow_y": null,
            "padding": null,
            "right": null,
            "top": null,
            "visibility": null,
            "width": null
          }
        },
        "5c602830a87740178052075a1469107c": {
          "model_module": "@jupyter-widgets/base",
          "model_module_version": "1.2.0",
          "model_name": "LayoutModel",
          "state": {
            "_model_module": "@jupyter-widgets/base",
            "_model_module_version": "1.2.0",
            "_model_name": "LayoutModel",
            "_view_count": null,
            "_view_module": "@jupyter-widgets/base",
            "_view_module_version": "1.2.0",
            "_view_name": "LayoutView",
            "align_content": null,
            "align_items": null,
            "align_self": null,
            "border": null,
            "bottom": null,
            "display": null,
            "flex": null,
            "flex_flow": null,
            "grid_area": null,
            "grid_auto_columns": null,
            "grid_auto_flow": null,
            "grid_auto_rows": null,
            "grid_column": null,
            "grid_gap": null,
            "grid_row": null,
            "grid_template_areas": null,
            "grid_template_columns": null,
            "grid_template_rows": null,
            "height": null,
            "justify_content": null,
            "justify_items": null,
            "left": null,
            "margin": null,
            "max_height": null,
            "max_width": null,
            "min_height": null,
            "min_width": null,
            "object_fit": null,
            "object_position": null,
            "order": null,
            "overflow": null,
            "overflow_x": null,
            "overflow_y": null,
            "padding": null,
            "right": null,
            "top": null,
            "visibility": null,
            "width": null
          }
        },
        "62459608bf4d4061b86908fd384c1400": {
          "model_module": "@jupyter-widgets/controls",
          "model_module_version": "1.5.0",
          "model_name": "DescriptionStyleModel",
          "state": {
            "_model_module": "@jupyter-widgets/controls",
            "_model_module_version": "1.5.0",
            "_model_name": "DescriptionStyleModel",
            "_view_count": null,
            "_view_module": "@jupyter-widgets/base",
            "_view_module_version": "1.2.0",
            "_view_name": "StyleView",
            "description_width": ""
          }
        },
        "6439e58aba9a48d391123b435ca2fef2": {
          "model_module": "@jupyter-widgets/base",
          "model_module_version": "1.2.0",
          "model_name": "LayoutModel",
          "state": {
            "_model_module": "@jupyter-widgets/base",
            "_model_module_version": "1.2.0",
            "_model_name": "LayoutModel",
            "_view_count": null,
            "_view_module": "@jupyter-widgets/base",
            "_view_module_version": "1.2.0",
            "_view_name": "LayoutView",
            "align_content": null,
            "align_items": null,
            "align_self": null,
            "border": null,
            "bottom": null,
            "display": null,
            "flex": null,
            "flex_flow": null,
            "grid_area": null,
            "grid_auto_columns": null,
            "grid_auto_flow": null,
            "grid_auto_rows": null,
            "grid_column": null,
            "grid_gap": null,
            "grid_row": null,
            "grid_template_areas": null,
            "grid_template_columns": null,
            "grid_template_rows": null,
            "height": null,
            "justify_content": null,
            "justify_items": null,
            "left": null,
            "margin": null,
            "max_height": null,
            "max_width": null,
            "min_height": null,
            "min_width": null,
            "object_fit": null,
            "object_position": null,
            "order": null,
            "overflow": null,
            "overflow_x": null,
            "overflow_y": null,
            "padding": null,
            "right": null,
            "top": null,
            "visibility": null,
            "width": null
          }
        },
        "651b551178c14b32825afc3315260e72": {
          "model_module": "@jupyter-widgets/controls",
          "model_module_version": "1.5.0",
          "model_name": "HTMLModel",
          "state": {
            "_dom_classes": [],
            "_model_module": "@jupyter-widgets/controls",
            "_model_module_version": "1.5.0",
            "_model_name": "HTMLModel",
            "_view_count": null,
            "_view_module": "@jupyter-widgets/controls",
            "_view_module_version": "1.5.0",
            "_view_name": "HTMLView",
            "description": "",
            "description_tooltip": null,
            "layout": "IPY_MODEL_bd48c79ed36b4c0f97996474d394f782",
            "placeholder": "​",
            "style": "IPY_MODEL_83b2c63929a349928c51f6072e66f8d8",
            "value": "Generating train split:  92%"
          }
        },
        "65a521589c314d9180a632c898e3716d": {
          "model_module": "@jupyter-widgets/controls",
          "model_module_version": "1.5.0",
          "model_name": "FloatProgressModel",
          "state": {
            "_dom_classes": [],
            "_model_module": "@jupyter-widgets/controls",
            "_model_module_version": "1.5.0",
            "_model_name": "FloatProgressModel",
            "_view_count": null,
            "_view_module": "@jupyter-widgets/controls",
            "_view_module_version": "1.5.0",
            "_view_name": "ProgressView",
            "bar_style": "success",
            "description": "",
            "description_tooltip": null,
            "layout": "IPY_MODEL_65f5b383c7a4475aaf3e58f989a4b9a2",
            "max": 478,
            "min": 0,
            "orientation": "horizontal",
            "style": "IPY_MODEL_a8de7c726f624b069c755488a4e66d21",
            "value": 478
          }
        },
        "65f5b383c7a4475aaf3e58f989a4b9a2": {
          "model_module": "@jupyter-widgets/base",
          "model_module_version": "1.2.0",
          "model_name": "LayoutModel",
          "state": {
            "_model_module": "@jupyter-widgets/base",
            "_model_module_version": "1.2.0",
            "_model_name": "LayoutModel",
            "_view_count": null,
            "_view_module": "@jupyter-widgets/base",
            "_view_module_version": "1.2.0",
            "_view_name": "LayoutView",
            "align_content": null,
            "align_items": null,
            "align_self": null,
            "border": null,
            "bottom": null,
            "display": null,
            "flex": null,
            "flex_flow": null,
            "grid_area": null,
            "grid_auto_columns": null,
            "grid_auto_flow": null,
            "grid_auto_rows": null,
            "grid_column": null,
            "grid_gap": null,
            "grid_row": null,
            "grid_template_areas": null,
            "grid_template_columns": null,
            "grid_template_rows": null,
            "height": null,
            "justify_content": null,
            "justify_items": null,
            "left": null,
            "margin": null,
            "max_height": null,
            "max_width": null,
            "min_height": null,
            "min_width": null,
            "object_fit": null,
            "object_position": null,
            "order": null,
            "overflow": null,
            "overflow_x": null,
            "overflow_y": null,
            "padding": null,
            "right": null,
            "top": null,
            "visibility": null,
            "width": null
          }
        },
        "6bca7b6819684d57bdadd6ca6b1a46bb": {
          "model_module": "@jupyter-widgets/base",
          "model_module_version": "1.2.0",
          "model_name": "LayoutModel",
          "state": {
            "_model_module": "@jupyter-widgets/base",
            "_model_module_version": "1.2.0",
            "_model_name": "LayoutModel",
            "_view_count": null,
            "_view_module": "@jupyter-widgets/base",
            "_view_module_version": "1.2.0",
            "_view_name": "LayoutView",
            "align_content": null,
            "align_items": null,
            "align_self": null,
            "border": null,
            "bottom": null,
            "display": null,
            "flex": null,
            "flex_flow": null,
            "grid_area": null,
            "grid_auto_columns": null,
            "grid_auto_flow": null,
            "grid_auto_rows": null,
            "grid_column": null,
            "grid_gap": null,
            "grid_row": null,
            "grid_template_areas": null,
            "grid_template_columns": null,
            "grid_template_rows": null,
            "height": null,
            "justify_content": null,
            "justify_items": null,
            "left": null,
            "margin": null,
            "max_height": null,
            "max_width": null,
            "min_height": null,
            "min_width": null,
            "object_fit": null,
            "object_position": null,
            "order": null,
            "overflow": null,
            "overflow_x": null,
            "overflow_y": null,
            "padding": null,
            "right": null,
            "top": null,
            "visibility": null,
            "width": null
          }
        },
        "6e47e65b3ee149dca667f952f2cca273": {
          "model_module": "@jupyter-widgets/base",
          "model_module_version": "1.2.0",
          "model_name": "LayoutModel",
          "state": {
            "_model_module": "@jupyter-widgets/base",
            "_model_module_version": "1.2.0",
            "_model_name": "LayoutModel",
            "_view_count": null,
            "_view_module": "@jupyter-widgets/base",
            "_view_module_version": "1.2.0",
            "_view_name": "LayoutView",
            "align_content": null,
            "align_items": null,
            "align_self": null,
            "border": null,
            "bottom": null,
            "display": null,
            "flex": null,
            "flex_flow": null,
            "grid_area": null,
            "grid_auto_columns": null,
            "grid_auto_flow": null,
            "grid_auto_rows": null,
            "grid_column": null,
            "grid_gap": null,
            "grid_row": null,
            "grid_template_areas": null,
            "grid_template_columns": null,
            "grid_template_rows": null,
            "height": null,
            "justify_content": null,
            "justify_items": null,
            "left": null,
            "margin": null,
            "max_height": null,
            "max_width": null,
            "min_height": null,
            "min_width": null,
            "object_fit": null,
            "object_position": null,
            "order": null,
            "overflow": null,
            "overflow_x": null,
            "overflow_y": null,
            "padding": null,
            "right": null,
            "top": null,
            "visibility": null,
            "width": null
          }
        },
        "6eee609dcb484d40904c1602b2679bac": {
          "model_module": "@jupyter-widgets/controls",
          "model_module_version": "1.5.0",
          "model_name": "HTMLModel",
          "state": {
            "_dom_classes": [],
            "_model_module": "@jupyter-widgets/controls",
            "_model_module_version": "1.5.0",
            "_model_name": "HTMLModel",
            "_view_count": null,
            "_view_module": "@jupyter-widgets/controls",
            "_view_module_version": "1.5.0",
            "_view_name": "HTMLView",
            "description": "",
            "description_tooltip": null,
            "layout": "IPY_MODEL_5450c2ce05834240ae92b3a41dbb527a",
            "placeholder": "​",
            "style": "IPY_MODEL_62459608bf4d4061b86908fd384c1400",
            "value": " 1/1 [00:00&lt;00:00,  8.41it/s]"
          }
        },
        "7b804b0ee050442cb7e02fa7bf6e967b": {
          "model_module": "@jupyter-widgets/controls",
          "model_module_version": "1.5.0",
          "model_name": "HBoxModel",
          "state": {
            "_dom_classes": [],
            "_model_module": "@jupyter-widgets/controls",
            "_model_module_version": "1.5.0",
            "_model_name": "HBoxModel",
            "_view_count": null,
            "_view_module": "@jupyter-widgets/controls",
            "_view_module_version": "1.5.0",
            "_view_name": "HBoxView",
            "box_style": "",
            "children": [
              "IPY_MODEL_651b551178c14b32825afc3315260e72",
              "IPY_MODEL_8db3e209fab54dd6b2777b23eefc8f86",
              "IPY_MODEL_0cdc728bf792468bb921a7ad9f53b7dc"
            ],
            "layout": "IPY_MODEL_f6d80a6672494c37992dd08303129084"
          }
        },
        "83b2c63929a349928c51f6072e66f8d8": {
          "model_module": "@jupyter-widgets/controls",
          "model_module_version": "1.5.0",
          "model_name": "DescriptionStyleModel",
          "state": {
            "_model_module": "@jupyter-widgets/controls",
            "_model_module_version": "1.5.0",
            "_model_name": "DescriptionStyleModel",
            "_view_count": null,
            "_view_module": "@jupyter-widgets/base",
            "_view_module_version": "1.2.0",
            "_view_name": "StyleView",
            "description_width": ""
          }
        },
        "8862fda5d6ba4682bec104024dae4e06": {
          "model_module": "@jupyter-widgets/base",
          "model_module_version": "1.2.0",
          "model_name": "LayoutModel",
          "state": {
            "_model_module": "@jupyter-widgets/base",
            "_model_module_version": "1.2.0",
            "_model_name": "LayoutModel",
            "_view_count": null,
            "_view_module": "@jupyter-widgets/base",
            "_view_module_version": "1.2.0",
            "_view_name": "LayoutView",
            "align_content": null,
            "align_items": null,
            "align_self": null,
            "border": null,
            "bottom": null,
            "display": null,
            "flex": null,
            "flex_flow": null,
            "grid_area": null,
            "grid_auto_columns": null,
            "grid_auto_flow": null,
            "grid_auto_rows": null,
            "grid_column": null,
            "grid_gap": null,
            "grid_row": null,
            "grid_template_areas": null,
            "grid_template_columns": null,
            "grid_template_rows": null,
            "height": null,
            "justify_content": null,
            "justify_items": null,
            "left": null,
            "margin": null,
            "max_height": null,
            "max_width": null,
            "min_height": null,
            "min_width": null,
            "object_fit": null,
            "object_position": null,
            "order": null,
            "overflow": null,
            "overflow_x": null,
            "overflow_y": null,
            "padding": null,
            "right": null,
            "top": null,
            "visibility": null,
            "width": null
          }
        },
        "8979d1a3a8944c9081427687e614ec63": {
          "model_module": "@jupyter-widgets/controls",
          "model_module_version": "1.5.0",
          "model_name": "HBoxModel",
          "state": {
            "_dom_classes": [],
            "_model_module": "@jupyter-widgets/controls",
            "_model_module_version": "1.5.0",
            "_model_name": "HBoxModel",
            "_view_count": null,
            "_view_module": "@jupyter-widgets/controls",
            "_view_module_version": "1.5.0",
            "_view_name": "HBoxView",
            "box_style": "",
            "children": [
              "IPY_MODEL_e6a97b2764a04622929796b12dcc3250",
              "IPY_MODEL_2e2e67f8853643fba687db6dabef6ae5",
              "IPY_MODEL_6eee609dcb484d40904c1602b2679bac"
            ],
            "layout": "IPY_MODEL_2a944a5a847f4395924e1fab59bad767"
          }
        },
        "8c1422f9390f4cfbbfde1b635b9d7dc0": {
          "model_module": "@jupyter-widgets/base",
          "model_module_version": "1.2.0",
          "model_name": "LayoutModel",
          "state": {
            "_model_module": "@jupyter-widgets/base",
            "_model_module_version": "1.2.0",
            "_model_name": "LayoutModel",
            "_view_count": null,
            "_view_module": "@jupyter-widgets/base",
            "_view_module_version": "1.2.0",
            "_view_name": "LayoutView",
            "align_content": null,
            "align_items": null,
            "align_self": null,
            "border": null,
            "bottom": null,
            "display": null,
            "flex": null,
            "flex_flow": null,
            "grid_area": null,
            "grid_auto_columns": null,
            "grid_auto_flow": null,
            "grid_auto_rows": null,
            "grid_column": null,
            "grid_gap": null,
            "grid_row": null,
            "grid_template_areas": null,
            "grid_template_columns": null,
            "grid_template_rows": null,
            "height": null,
            "justify_content": null,
            "justify_items": null,
            "left": null,
            "margin": null,
            "max_height": null,
            "max_width": null,
            "min_height": null,
            "min_width": null,
            "object_fit": null,
            "object_position": null,
            "order": null,
            "overflow": null,
            "overflow_x": null,
            "overflow_y": null,
            "padding": null,
            "right": null,
            "top": null,
            "visibility": null,
            "width": null
          }
        },
        "8db3e209fab54dd6b2777b23eefc8f86": {
          "model_module": "@jupyter-widgets/controls",
          "model_module_version": "1.5.0",
          "model_name": "FloatProgressModel",
          "state": {
            "_dom_classes": [],
            "_model_module": "@jupyter-widgets/controls",
            "_model_module_version": "1.5.0",
            "_model_name": "FloatProgressModel",
            "_view_count": null,
            "_view_module": "@jupyter-widgets/controls",
            "_view_module_version": "1.5.0",
            "_view_name": "ProgressView",
            "bar_style": "",
            "description": "",
            "description_tooltip": null,
            "layout": "IPY_MODEL_6e47e65b3ee149dca667f952f2cca273",
            "max": 605457,
            "min": 0,
            "orientation": "horizontal",
            "style": "IPY_MODEL_cde6131058bd4b4dbb1ed12d4e061198",
            "value": 605457
          }
        },
        "91f7b2167d88452c929444f6f0fc9333": {
          "model_module": "@jupyter-widgets/controls",
          "model_module_version": "1.5.0",
          "model_name": "HTMLModel",
          "state": {
            "_dom_classes": [],
            "_model_module": "@jupyter-widgets/controls",
            "_model_module_version": "1.5.0",
            "_model_name": "HTMLModel",
            "_view_count": null,
            "_view_module": "@jupyter-widgets/controls",
            "_view_module_version": "1.5.0",
            "_view_name": "HTMLView",
            "description": "",
            "description_tooltip": null,
            "layout": "IPY_MODEL_038831bd31fc41bcb1b5a2383cc0f957",
            "placeholder": "​",
            "style": "IPY_MODEL_31da61d235cb446ba43e8b742b538a12",
            "value": " 66.5M/66.5M [00:04&lt;00:00, 28.5MB/s]"
          }
        },
        "95b09941f8554c3ba0dcb4ae3d79f8e1": {
          "model_module": "@jupyter-widgets/controls",
          "model_module_version": "1.5.0",
          "model_name": "DescriptionStyleModel",
          "state": {
            "_model_module": "@jupyter-widgets/controls",
            "_model_module_version": "1.5.0",
            "_model_name": "DescriptionStyleModel",
            "_view_count": null,
            "_view_module": "@jupyter-widgets/base",
            "_view_module_version": "1.2.0",
            "_view_name": "StyleView",
            "description_width": ""
          }
        },
        "9d9c1134bfd54b549f457e94b105239a": {
          "model_module": "@jupyter-widgets/base",
          "model_module_version": "1.2.0",
          "model_name": "LayoutModel",
          "state": {
            "_model_module": "@jupyter-widgets/base",
            "_model_module_version": "1.2.0",
            "_model_name": "LayoutModel",
            "_view_count": null,
            "_view_module": "@jupyter-widgets/base",
            "_view_module_version": "1.2.0",
            "_view_name": "LayoutView",
            "align_content": null,
            "align_items": null,
            "align_self": null,
            "border": null,
            "bottom": null,
            "display": null,
            "flex": null,
            "flex_flow": null,
            "grid_area": null,
            "grid_auto_columns": null,
            "grid_auto_flow": null,
            "grid_auto_rows": null,
            "grid_column": null,
            "grid_gap": null,
            "grid_row": null,
            "grid_template_areas": null,
            "grid_template_columns": null,
            "grid_template_rows": null,
            "height": null,
            "justify_content": null,
            "justify_items": null,
            "left": null,
            "margin": null,
            "max_height": null,
            "max_width": null,
            "min_height": null,
            "min_width": null,
            "object_fit": null,
            "object_position": null,
            "order": null,
            "overflow": null,
            "overflow_x": null,
            "overflow_y": null,
            "padding": null,
            "right": null,
            "top": null,
            "visibility": null,
            "width": null
          }
        },
        "a2ba463e027142f5825af5db79d7b284": {
          "model_module": "@jupyter-widgets/base",
          "model_module_version": "1.2.0",
          "model_name": "LayoutModel",
          "state": {
            "_model_module": "@jupyter-widgets/base",
            "_model_module_version": "1.2.0",
            "_model_name": "LayoutModel",
            "_view_count": null,
            "_view_module": "@jupyter-widgets/base",
            "_view_module_version": "1.2.0",
            "_view_name": "LayoutView",
            "align_content": null,
            "align_items": null,
            "align_self": null,
            "border": null,
            "bottom": null,
            "display": null,
            "flex": null,
            "flex_flow": null,
            "grid_area": null,
            "grid_auto_columns": null,
            "grid_auto_flow": null,
            "grid_auto_rows": null,
            "grid_column": null,
            "grid_gap": null,
            "grid_row": null,
            "grid_template_areas": null,
            "grid_template_columns": null,
            "grid_template_rows": null,
            "height": null,
            "justify_content": null,
            "justify_items": null,
            "left": null,
            "margin": null,
            "max_height": null,
            "max_width": null,
            "min_height": null,
            "min_width": null,
            "object_fit": null,
            "object_position": null,
            "order": null,
            "overflow": null,
            "overflow_x": null,
            "overflow_y": null,
            "padding": null,
            "right": null,
            "top": null,
            "visibility": null,
            "width": null
          }
        },
        "a2f4dc00ec6b4d2b80aadd3228b65179": {
          "model_module": "@jupyter-widgets/base",
          "model_module_version": "1.2.0",
          "model_name": "LayoutModel",
          "state": {
            "_model_module": "@jupyter-widgets/base",
            "_model_module_version": "1.2.0",
            "_model_name": "LayoutModel",
            "_view_count": null,
            "_view_module": "@jupyter-widgets/base",
            "_view_module_version": "1.2.0",
            "_view_name": "LayoutView",
            "align_content": null,
            "align_items": null,
            "align_self": null,
            "border": null,
            "bottom": null,
            "display": null,
            "flex": null,
            "flex_flow": null,
            "grid_area": null,
            "grid_auto_columns": null,
            "grid_auto_flow": null,
            "grid_auto_rows": null,
            "grid_column": null,
            "grid_gap": null,
            "grid_row": null,
            "grid_template_areas": null,
            "grid_template_columns": null,
            "grid_template_rows": null,
            "height": null,
            "justify_content": null,
            "justify_items": null,
            "left": null,
            "margin": null,
            "max_height": null,
            "max_width": null,
            "min_height": null,
            "min_width": null,
            "object_fit": null,
            "object_position": null,
            "order": null,
            "overflow": null,
            "overflow_x": null,
            "overflow_y": null,
            "padding": null,
            "right": null,
            "top": null,
            "visibility": null,
            "width": null
          }
        },
        "a8d1de10004146d18fa55565c971f961": {
          "model_module": "@jupyter-widgets/controls",
          "model_module_version": "1.5.0",
          "model_name": "HBoxModel",
          "state": {
            "_dom_classes": [],
            "_model_module": "@jupyter-widgets/controls",
            "_model_module_version": "1.5.0",
            "_model_name": "HBoxModel",
            "_view_count": null,
            "_view_module": "@jupyter-widgets/controls",
            "_view_module_version": "1.5.0",
            "_view_name": "HBoxView",
            "box_style": "",
            "children": [
              "IPY_MODEL_1c67229ddb934b4ca912a341e95a5b89",
              "IPY_MODEL_65a521589c314d9180a632c898e3716d",
              "IPY_MODEL_531fca1350644cb8b70b0ba076525955"
            ],
            "layout": "IPY_MODEL_a2ba463e027142f5825af5db79d7b284"
          }
        },
        "a8de7c726f624b069c755488a4e66d21": {
          "model_module": "@jupyter-widgets/controls",
          "model_module_version": "1.5.0",
          "model_name": "ProgressStyleModel",
          "state": {
            "_model_module": "@jupyter-widgets/controls",
            "_model_module_version": "1.5.0",
            "_model_name": "ProgressStyleModel",
            "_view_count": null,
            "_view_module": "@jupyter-widgets/base",
            "_view_module_version": "1.2.0",
            "_view_name": "StyleView",
            "bar_color": null,
            "description_width": ""
          }
        },
        "aae90e340a424e96b17e5bb84d677893": {
          "model_module": "@jupyter-widgets/controls",
          "model_module_version": "1.5.0",
          "model_name": "DescriptionStyleModel",
          "state": {
            "_model_module": "@jupyter-widgets/controls",
            "_model_module_version": "1.5.0",
            "_model_name": "DescriptionStyleModel",
            "_view_count": null,
            "_view_module": "@jupyter-widgets/base",
            "_view_module_version": "1.2.0",
            "_view_name": "StyleView",
            "description_width": ""
          }
        },
        "aec8c96b31c5431f8b59fd972c5a8feb": {
          "model_module": "@jupyter-widgets/controls",
          "model_module_version": "1.5.0",
          "model_name": "HTMLModel",
          "state": {
            "_dom_classes": [],
            "_model_module": "@jupyter-widgets/controls",
            "_model_module_version": "1.5.0",
            "_model_name": "HTMLModel",
            "_view_count": null,
            "_view_module": "@jupyter-widgets/controls",
            "_view_module_version": "1.5.0",
            "_view_name": "HTMLView",
            "description": "",
            "description_tooltip": null,
            "layout": "IPY_MODEL_1a35aa9ee6ea45d9be45ba4a76659353",
            "placeholder": "​",
            "style": "IPY_MODEL_aae90e340a424e96b17e5bb84d677893",
            "value": " 1/1 [00:06&lt;00:00,  6.11s/it]"
          }
        },
        "bd48c79ed36b4c0f97996474d394f782": {
          "model_module": "@jupyter-widgets/base",
          "model_module_version": "1.2.0",
          "model_name": "LayoutModel",
          "state": {
            "_model_module": "@jupyter-widgets/base",
            "_model_module_version": "1.2.0",
            "_model_name": "LayoutModel",
            "_view_count": null,
            "_view_module": "@jupyter-widgets/base",
            "_view_module_version": "1.2.0",
            "_view_name": "LayoutView",
            "align_content": null,
            "align_items": null,
            "align_self": null,
            "border": null,
            "bottom": null,
            "display": null,
            "flex": null,
            "flex_flow": null,
            "grid_area": null,
            "grid_auto_columns": null,
            "grid_auto_flow": null,
            "grid_auto_rows": null,
            "grid_column": null,
            "grid_gap": null,
            "grid_row": null,
            "grid_template_areas": null,
            "grid_template_columns": null,
            "grid_template_rows": null,
            "height": null,
            "justify_content": null,
            "justify_items": null,
            "left": null,
            "margin": null,
            "max_height": null,
            "max_width": null,
            "min_height": null,
            "min_width": null,
            "object_fit": null,
            "object_position": null,
            "order": null,
            "overflow": null,
            "overflow_x": null,
            "overflow_y": null,
            "padding": null,
            "right": null,
            "top": null,
            "visibility": null,
            "width": null
          }
        },
        "c0de61c95a4f4253920794e778ed2f71": {
          "model_module": "@jupyter-widgets/base",
          "model_module_version": "1.2.0",
          "model_name": "LayoutModel",
          "state": {
            "_model_module": "@jupyter-widgets/base",
            "_model_module_version": "1.2.0",
            "_model_name": "LayoutModel",
            "_view_count": null,
            "_view_module": "@jupyter-widgets/base",
            "_view_module_version": "1.2.0",
            "_view_name": "LayoutView",
            "align_content": null,
            "align_items": null,
            "align_self": null,
            "border": null,
            "bottom": null,
            "display": null,
            "flex": null,
            "flex_flow": null,
            "grid_area": null,
            "grid_auto_columns": null,
            "grid_auto_flow": null,
            "grid_auto_rows": null,
            "grid_column": null,
            "grid_gap": null,
            "grid_row": null,
            "grid_template_areas": null,
            "grid_template_columns": null,
            "grid_template_rows": null,
            "height": null,
            "justify_content": null,
            "justify_items": null,
            "left": null,
            "margin": null,
            "max_height": null,
            "max_width": null,
            "min_height": null,
            "min_width": null,
            "object_fit": null,
            "object_position": null,
            "order": null,
            "overflow": null,
            "overflow_x": null,
            "overflow_y": null,
            "padding": null,
            "right": null,
            "top": null,
            "visibility": null,
            "width": null
          }
        },
        "c7df25af6769497383a63902dfe6947e": {
          "model_module": "@jupyter-widgets/controls",
          "model_module_version": "1.5.0",
          "model_name": "DescriptionStyleModel",
          "state": {
            "_model_module": "@jupyter-widgets/controls",
            "_model_module_version": "1.5.0",
            "_model_name": "DescriptionStyleModel",
            "_view_count": null,
            "_view_module": "@jupyter-widgets/base",
            "_view_module_version": "1.2.0",
            "_view_name": "StyleView",
            "description_width": ""
          }
        },
        "c9c1b93b276d40f7811d171d9af59217": {
          "model_module": "@jupyter-widgets/controls",
          "model_module_version": "1.5.0",
          "model_name": "FloatProgressModel",
          "state": {
            "_dom_classes": [],
            "_model_module": "@jupyter-widgets/controls",
            "_model_module_version": "1.5.0",
            "_model_name": "FloatProgressModel",
            "_view_count": null,
            "_view_module": "@jupyter-widgets/controls",
            "_view_module_version": "1.5.0",
            "_view_name": "ProgressView",
            "bar_style": "success",
            "description": "",
            "description_tooltip": null,
            "layout": "IPY_MODEL_5c602830a87740178052075a1469107c",
            "max": 66525868,
            "min": 0,
            "orientation": "horizontal",
            "style": "IPY_MODEL_46047bd4ca1940cabcb3aebdea7d0695",
            "value": 66525868
          }
        },
        "cd8aa5a20a7d4a8197bfdd53019bc35b": {
          "model_module": "@jupyter-widgets/controls",
          "model_module_version": "1.5.0",
          "model_name": "FloatProgressModel",
          "state": {
            "_dom_classes": [],
            "_model_module": "@jupyter-widgets/controls",
            "_model_module_version": "1.5.0",
            "_model_name": "FloatProgressModel",
            "_view_count": null,
            "_view_module": "@jupyter-widgets/controls",
            "_view_module_version": "1.5.0",
            "_view_name": "ProgressView",
            "bar_style": "success",
            "description": "",
            "description_tooltip": null,
            "layout": "IPY_MODEL_d4618a1896e049eeb8d8aa27712819a5",
            "max": 1,
            "min": 0,
            "orientation": "horizontal",
            "style": "IPY_MODEL_fca95a4e7da44da48004276b1480b259",
            "value": 1
          }
        },
        "cde6131058bd4b4dbb1ed12d4e061198": {
          "model_module": "@jupyter-widgets/controls",
          "model_module_version": "1.5.0",
          "model_name": "ProgressStyleModel",
          "state": {
            "_model_module": "@jupyter-widgets/controls",
            "_model_module_version": "1.5.0",
            "_model_name": "ProgressStyleModel",
            "_view_count": null,
            "_view_module": "@jupyter-widgets/base",
            "_view_module_version": "1.2.0",
            "_view_name": "StyleView",
            "bar_color": null,
            "description_width": ""
          }
        },
        "d00d04938dd44f6c9d4e43fa69cce2d6": {
          "model_module": "@jupyter-widgets/controls",
          "model_module_version": "1.5.0",
          "model_name": "HTMLModel",
          "state": {
            "_dom_classes": [],
            "_model_module": "@jupyter-widgets/controls",
            "_model_module_version": "1.5.0",
            "_model_name": "HTMLModel",
            "_view_count": null,
            "_view_module": "@jupyter-widgets/controls",
            "_view_module_version": "1.5.0",
            "_view_name": "HTMLView",
            "description": "",
            "description_tooltip": null,
            "layout": "IPY_MODEL_9d9c1134bfd54b549f457e94b105239a",
            "placeholder": "​",
            "style": "IPY_MODEL_09ce4c8c8f3245d989fb48927b2f55c3",
            "value": "Downloading data files: 100%"
          }
        },
        "d141dccd470b4a5ca62ac3c2be971316": {
          "model_module": "@jupyter-widgets/controls",
          "model_module_version": "1.5.0",
          "model_name": "DescriptionStyleModel",
          "state": {
            "_model_module": "@jupyter-widgets/controls",
            "_model_module_version": "1.5.0",
            "_model_name": "DescriptionStyleModel",
            "_view_count": null,
            "_view_module": "@jupyter-widgets/base",
            "_view_module_version": "1.2.0",
            "_view_name": "StyleView",
            "description_width": ""
          }
        },
        "d23dfc29a3e54ccb810a543fb4809950": {
          "model_module": "@jupyter-widgets/controls",
          "model_module_version": "1.5.0",
          "model_name": "DescriptionStyleModel",
          "state": {
            "_model_module": "@jupyter-widgets/controls",
            "_model_module_version": "1.5.0",
            "_model_name": "DescriptionStyleModel",
            "_view_count": null,
            "_view_module": "@jupyter-widgets/base",
            "_view_module_version": "1.2.0",
            "_view_name": "StyleView",
            "description_width": ""
          }
        },
        "d4618a1896e049eeb8d8aa27712819a5": {
          "model_module": "@jupyter-widgets/base",
          "model_module_version": "1.2.0",
          "model_name": "LayoutModel",
          "state": {
            "_model_module": "@jupyter-widgets/base",
            "_model_module_version": "1.2.0",
            "_model_name": "LayoutModel",
            "_view_count": null,
            "_view_module": "@jupyter-widgets/base",
            "_view_module_version": "1.2.0",
            "_view_name": "LayoutView",
            "align_content": null,
            "align_items": null,
            "align_self": null,
            "border": null,
            "bottom": null,
            "display": null,
            "flex": null,
            "flex_flow": null,
            "grid_area": null,
            "grid_auto_columns": null,
            "grid_auto_flow": null,
            "grid_auto_rows": null,
            "grid_column": null,
            "grid_gap": null,
            "grid_row": null,
            "grid_template_areas": null,
            "grid_template_columns": null,
            "grid_template_rows": null,
            "height": null,
            "justify_content": null,
            "justify_items": null,
            "left": null,
            "margin": null,
            "max_height": null,
            "max_width": null,
            "min_height": null,
            "min_width": null,
            "object_fit": null,
            "object_position": null,
            "order": null,
            "overflow": null,
            "overflow_x": null,
            "overflow_y": null,
            "padding": null,
            "right": null,
            "top": null,
            "visibility": null,
            "width": null
          }
        },
        "de86cb90a14546b5a72fe5f206e1bf38": {
          "model_module": "@jupyter-widgets/controls",
          "model_module_version": "1.5.0",
          "model_name": "ProgressStyleModel",
          "state": {
            "_model_module": "@jupyter-widgets/controls",
            "_model_module_version": "1.5.0",
            "_model_name": "ProgressStyleModel",
            "_view_count": null,
            "_view_module": "@jupyter-widgets/base",
            "_view_module_version": "1.2.0",
            "_view_name": "StyleView",
            "bar_color": null,
            "description_width": ""
          }
        },
        "e6a97b2764a04622929796b12dcc3250": {
          "model_module": "@jupyter-widgets/controls",
          "model_module_version": "1.5.0",
          "model_name": "HTMLModel",
          "state": {
            "_dom_classes": [],
            "_model_module": "@jupyter-widgets/controls",
            "_model_module_version": "1.5.0",
            "_model_name": "HTMLModel",
            "_view_count": null,
            "_view_module": "@jupyter-widgets/controls",
            "_view_module_version": "1.5.0",
            "_view_name": "HTMLView",
            "description": "",
            "description_tooltip": null,
            "layout": "IPY_MODEL_c0de61c95a4f4253920794e778ed2f71",
            "placeholder": "​",
            "style": "IPY_MODEL_0ff2c0e977af44009a2502cd7eeb8835",
            "value": "100%"
          }
        },
        "eff5bfd314d445f2a5bfbdf552437e88": {
          "model_module": "@jupyter-widgets/base",
          "model_module_version": "1.2.0",
          "model_name": "LayoutModel",
          "state": {
            "_model_module": "@jupyter-widgets/base",
            "_model_module_version": "1.2.0",
            "_model_name": "LayoutModel",
            "_view_count": null,
            "_view_module": "@jupyter-widgets/base",
            "_view_module_version": "1.2.0",
            "_view_name": "LayoutView",
            "align_content": null,
            "align_items": null,
            "align_self": null,
            "border": null,
            "bottom": null,
            "display": null,
            "flex": null,
            "flex_flow": null,
            "grid_area": null,
            "grid_auto_columns": null,
            "grid_auto_flow": null,
            "grid_auto_rows": null,
            "grid_column": null,
            "grid_gap": null,
            "grid_row": null,
            "grid_template_areas": null,
            "grid_template_columns": null,
            "grid_template_rows": null,
            "height": null,
            "justify_content": null,
            "justify_items": null,
            "left": null,
            "margin": null,
            "max_height": null,
            "max_width": null,
            "min_height": null,
            "min_width": null,
            "object_fit": null,
            "object_position": null,
            "order": null,
            "overflow": null,
            "overflow_x": null,
            "overflow_y": null,
            "padding": null,
            "right": null,
            "top": null,
            "visibility": null,
            "width": null
          }
        },
        "f6d80a6672494c37992dd08303129084": {
          "model_module": "@jupyter-widgets/base",
          "model_module_version": "1.2.0",
          "model_name": "LayoutModel",
          "state": {
            "_model_module": "@jupyter-widgets/base",
            "_model_module_version": "1.2.0",
            "_model_name": "LayoutModel",
            "_view_count": null,
            "_view_module": "@jupyter-widgets/base",
            "_view_module_version": "1.2.0",
            "_view_name": "LayoutView",
            "align_content": null,
            "align_items": null,
            "align_self": null,
            "border": null,
            "bottom": null,
            "display": null,
            "flex": null,
            "flex_flow": null,
            "grid_area": null,
            "grid_auto_columns": null,
            "grid_auto_flow": null,
            "grid_auto_rows": null,
            "grid_column": null,
            "grid_gap": null,
            "grid_row": null,
            "grid_template_areas": null,
            "grid_template_columns": null,
            "grid_template_rows": null,
            "height": null,
            "justify_content": null,
            "justify_items": null,
            "left": null,
            "margin": null,
            "max_height": null,
            "max_width": null,
            "min_height": null,
            "min_width": null,
            "object_fit": null,
            "object_position": null,
            "order": null,
            "overflow": null,
            "overflow_x": null,
            "overflow_y": null,
            "padding": null,
            "right": null,
            "top": null,
            "visibility": "hidden",
            "width": null
          }
        },
        "f894ca555e8a47ca8a4f6a39b75f559f": {
          "model_module": "@jupyter-widgets/base",
          "model_module_version": "1.2.0",
          "model_name": "LayoutModel",
          "state": {
            "_model_module": "@jupyter-widgets/base",
            "_model_module_version": "1.2.0",
            "_model_name": "LayoutModel",
            "_view_count": null,
            "_view_module": "@jupyter-widgets/base",
            "_view_module_version": "1.2.0",
            "_view_name": "LayoutView",
            "align_content": null,
            "align_items": null,
            "align_self": null,
            "border": null,
            "bottom": null,
            "display": null,
            "flex": null,
            "flex_flow": null,
            "grid_area": null,
            "grid_auto_columns": null,
            "grid_auto_flow": null,
            "grid_auto_rows": null,
            "grid_column": null,
            "grid_gap": null,
            "grid_row": null,
            "grid_template_areas": null,
            "grid_template_columns": null,
            "grid_template_rows": null,
            "height": null,
            "justify_content": null,
            "justify_items": null,
            "left": null,
            "margin": null,
            "max_height": null,
            "max_width": null,
            "min_height": null,
            "min_width": null,
            "object_fit": null,
            "object_position": null,
            "order": null,
            "overflow": null,
            "overflow_x": null,
            "overflow_y": null,
            "padding": null,
            "right": null,
            "top": null,
            "visibility": null,
            "width": null
          }
        },
        "f90ad85151464703bebdb2041cbc7319": {
          "model_module": "@jupyter-widgets/controls",
          "model_module_version": "1.5.0",
          "model_name": "HTMLModel",
          "state": {
            "_dom_classes": [],
            "_model_module": "@jupyter-widgets/controls",
            "_model_module_version": "1.5.0",
            "_model_name": "HTMLModel",
            "_view_count": null,
            "_view_module": "@jupyter-widgets/controls",
            "_view_module_version": "1.5.0",
            "_view_name": "HTMLView",
            "description": "",
            "description_tooltip": null,
            "layout": "IPY_MODEL_a2f4dc00ec6b4d2b80aadd3228b65179",
            "placeholder": "​",
            "style": "IPY_MODEL_1671dc8eaadd42a8a724d460b069a85c",
            "value": "Downloading data: 100%"
          }
        },
        "fca95a4e7da44da48004276b1480b259": {
          "model_module": "@jupyter-widgets/controls",
          "model_module_version": "1.5.0",
          "model_name": "ProgressStyleModel",
          "state": {
            "_model_module": "@jupyter-widgets/controls",
            "_model_module_version": "1.5.0",
            "_model_name": "ProgressStyleModel",
            "_view_count": null,
            "_view_module": "@jupyter-widgets/base",
            "_view_module_version": "1.2.0",
            "_view_name": "StyleView",
            "bar_color": null,
            "description_width": ""
          }
        },
        "fd8aeefa28f849c3a1ef9a15a280ac98": {
          "model_module": "@jupyter-widgets/base",
          "model_module_version": "1.2.0",
          "model_name": "LayoutModel",
          "state": {
            "_model_module": "@jupyter-widgets/base",
            "_model_module_version": "1.2.0",
            "_model_name": "LayoutModel",
            "_view_count": null,
            "_view_module": "@jupyter-widgets/base",
            "_view_module_version": "1.2.0",
            "_view_name": "LayoutView",
            "align_content": null,
            "align_items": null,
            "align_self": null,
            "border": null,
            "bottom": null,
            "display": null,
            "flex": null,
            "flex_flow": null,
            "grid_area": null,
            "grid_auto_columns": null,
            "grid_auto_flow": null,
            "grid_auto_rows": null,
            "grid_column": null,
            "grid_gap": null,
            "grid_row": null,
            "grid_template_areas": null,
            "grid_template_columns": null,
            "grid_template_rows": null,
            "height": null,
            "justify_content": null,
            "justify_items": null,
            "left": null,
            "margin": null,
            "max_height": null,
            "max_width": null,
            "min_height": null,
            "min_width": null,
            "object_fit": null,
            "object_position": null,
            "order": null,
            "overflow": null,
            "overflow_x": null,
            "overflow_y": null,
            "padding": null,
            "right": null,
            "top": null,
            "visibility": null,
            "width": null
          }
        }
      }
    }
  },
  "nbformat": 4,
  "nbformat_minor": 0
}
